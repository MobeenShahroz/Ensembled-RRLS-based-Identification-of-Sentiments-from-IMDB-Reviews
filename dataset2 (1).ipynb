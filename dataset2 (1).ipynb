{
 "cells": [
  {
   "cell_type": "code",
   "execution_count": 1,
   "metadata": {
    "id": "wuQph_A9989u"
   },
   "outputs": [],
   "source": [
    "import pandas as pd\n",
    "import numpy as np\n",
    "# Import Plotting Libararies\n",
    "import seaborn as sns\n",
    "import matplotlib.pyplot as plt"
   ]
  },
  {
   "cell_type": "code",
   "execution_count": 2,
   "metadata": {
    "id": "kvCl6-dh-dm3"
   },
   "outputs": [],
   "source": [
    "from sklearn.preprocessing import LabelEncoder\n",
    "from sklearn.model_selection import train_test_split\n",
    "from sklearn.feature_extraction.text import TfidfVectorizer"
   ]
  },
  {
   "cell_type": "code",
   "execution_count": 3,
   "metadata": {
    "id": "IJBRIAFh-idE"
   },
   "outputs": [],
   "source": [
    "from sklearn import svm\n",
    "from sklearn.naive_bayes import GaussianNB\n",
    "from sklearn.linear_model import LogisticRegression\n",
    "from sklearn.tree import DecisionTreeClassifier\n",
    "from sklearn.ensemble import RandomForestClassifier\n",
    "from sklearn.ensemble import GradientBoostingClassifier\n",
    "from sklearn.ensemble import AdaBoostClassifier\n",
    "import xgboost as xgb"
   ]
  },
  {
   "cell_type": "code",
   "execution_count": 4,
   "metadata": {
    "id": "ih6CSl5w-mJs"
   },
   "outputs": [],
   "source": [
    "from sklearn.metrics import classification_report, confusion_matrix"
   ]
  },
  {
   "cell_type": "code",
   "execution_count": 5,
   "metadata": {
    "colab": {
     "base_uri": "https://localhost:8080/"
    },
    "id": "8CbuCzMD-sYj",
    "outputId": "3c64f915-d80d-4857-9d44-3f945f8a8a5c"
   },
   "outputs": [],
   "source": [
    "# pip install urduhack"
   ]
  },
  {
   "cell_type": "code",
   "execution_count": 6,
   "metadata": {
    "colab": {
     "base_uri": "https://localhost:8080/"
    },
    "id": "lTVClJkh-v6n",
    "outputId": "a9732b0f-1adc-4823-d8df-baf889954837"
   },
   "outputs": [],
   "source": [
    "import urduhack\n",
    "# urduhack.download()\n",
    "from urduhack.normalization import normalize\n",
    "from urduhack.preprocessing import normalize_whitespace, remove_punctuation, remove_accents, replace_urls, replace_emails, replace_numbers, replace_currency_symbols, remove_english_alphabets"
   ]
  },
  {
   "cell_type": "code",
   "execution_count": 7,
   "metadata": {
    "id": "C_EG9irl-2hX"
   },
   "outputs": [],
   "source": [
    "train_data=pd.read_csv('urdu_tweets.xls')\n"
   ]
  },
  {
   "cell_type": "code",
   "execution_count": 8,
   "metadata": {
    "colab": {
     "base_uri": "https://localhost:8080/",
     "height": 206
    },
    "id": "ev_AThZr-_kP",
    "outputId": "bd767e56-8fcb-4f75-8e45-29a4ca0f324f"
   },
   "outputs": [
    {
     "data": {
      "text/html": [
       "<div>\n",
       "<style scoped>\n",
       "    .dataframe tbody tr th:only-of-type {\n",
       "        vertical-align: middle;\n",
       "    }\n",
       "\n",
       "    .dataframe tbody tr th {\n",
       "        vertical-align: top;\n",
       "    }\n",
       "\n",
       "    .dataframe thead th {\n",
       "        text-align: right;\n",
       "    }\n",
       "</style>\n",
       "<table border=\"1\" class=\"dataframe\">\n",
       "  <thead>\n",
       "    <tr style=\"text-align: right;\">\n",
       "      <th></th>\n",
       "      <th>tweets</th>\n",
       "      <th>sentiment</th>\n",
       "    </tr>\n",
       "  </thead>\n",
       "  <tbody>\n",
       "    <tr>\n",
       "      <th>0</th>\n",
       "      <td>ہم مر بھی گئے تو کیا سوگ ہی ہوگا فقط تین دن کا</td>\n",
       "      <td>N</td>\n",
       "    </tr>\n",
       "    <tr>\n",
       "      <th>1</th>\n",
       "      <td>وہ لڑکا لڑکی موج میلہ کر رہے تھے ن لیگی میاں ف...</td>\n",
       "      <td>N</td>\n",
       "    </tr>\n",
       "    <tr>\n",
       "      <th>2</th>\n",
       "      <td>اسی اینج ڈھولنا جیویں کنجراں دی جوڑی جیویں بلا...</td>\n",
       "      <td>P</td>\n",
       "    </tr>\n",
       "    <tr>\n",
       "      <th>3</th>\n",
       "      <td>خاتون کے ساتھ جو واقعہ پیش آیا اس کی ذمہ دار و...</td>\n",
       "      <td>N</td>\n",
       "    </tr>\n",
       "    <tr>\n",
       "      <th>4</th>\n",
       "      <td>ریپسٹ نظروں کے سامنے فرار ہوگیا لیکن چوہان جیس...</td>\n",
       "      <td>N</td>\n",
       "    </tr>\n",
       "  </tbody>\n",
       "</table>\n",
       "</div>"
      ],
      "text/plain": [
       "                                              tweets sentiment\n",
       "0     ہم مر بھی گئے تو کیا سوگ ہی ہوگا فقط تین دن کا         N\n",
       "1  وہ لڑکا لڑکی موج میلہ کر رہے تھے ن لیگی میاں ف...         N\n",
       "2  اسی اینج ڈھولنا جیویں کنجراں دی جوڑی جیویں بلا...         P\n",
       "3  خاتون کے ساتھ جو واقعہ پیش آیا اس کی ذمہ دار و...         N\n",
       "4  ریپسٹ نظروں کے سامنے فرار ہوگیا لیکن چوہان جیس...         N"
      ]
     },
     "execution_count": 8,
     "metadata": {},
     "output_type": "execute_result"
    }
   ],
   "source": [
    "train_data.head()"
   ]
  },
  {
   "cell_type": "code",
   "execution_count": 14,
   "metadata": {
    "colab": {
     "base_uri": "https://localhost:8080/"
    },
    "id": "Lpa8ECim_DDT",
    "outputId": "e2a00596-d4af-411a-e48e-4196adbc96e7"
   },
   "outputs": [
    {
     "name": "stdout",
     "output_type": "stream",
     "text": [
      "(500, 2)\n"
     ]
    }
   ],
   "source": [
    "data =  pd.concat([train_data]).reset_index(drop=True)\n",
    "print(data.shape)"
   ]
  },
  {
   "cell_type": "code",
   "execution_count": 15,
   "metadata": {
    "colab": {
     "base_uri": "https://localhost:8080/",
     "height": 424
    },
    "id": "Lnzb1VUy_Lpc",
    "outputId": "4310e6d0-05dd-4686-b092-9e6259f2c5ae"
   },
   "outputs": [
    {
     "data": {
      "text/html": [
       "<div>\n",
       "<style scoped>\n",
       "    .dataframe tbody tr th:only-of-type {\n",
       "        vertical-align: middle;\n",
       "    }\n",
       "\n",
       "    .dataframe tbody tr th {\n",
       "        vertical-align: top;\n",
       "    }\n",
       "\n",
       "    .dataframe thead th {\n",
       "        text-align: right;\n",
       "    }\n",
       "</style>\n",
       "<table border=\"1\" class=\"dataframe\">\n",
       "  <thead>\n",
       "    <tr style=\"text-align: right;\">\n",
       "      <th></th>\n",
       "      <th>tweets</th>\n",
       "      <th>sentiment</th>\n",
       "    </tr>\n",
       "  </thead>\n",
       "  <tbody>\n",
       "    <tr>\n",
       "      <th>0</th>\n",
       "      <td>ہم مر بھی گئے تو کیا سوگ ہی ہوگا فقط تین دن کا</td>\n",
       "      <td>N</td>\n",
       "    </tr>\n",
       "    <tr>\n",
       "      <th>1</th>\n",
       "      <td>وہ لڑکا لڑکی موج میلہ کر رہے تھے ن لیگی میاں ف...</td>\n",
       "      <td>N</td>\n",
       "    </tr>\n",
       "    <tr>\n",
       "      <th>2</th>\n",
       "      <td>اسی اینج ڈھولنا جیویں کنجراں دی جوڑی جیویں بلا...</td>\n",
       "      <td>P</td>\n",
       "    </tr>\n",
       "    <tr>\n",
       "      <th>3</th>\n",
       "      <td>خاتون کے ساتھ جو واقعہ پیش آیا اس کی ذمہ دار و...</td>\n",
       "      <td>N</td>\n",
       "    </tr>\n",
       "    <tr>\n",
       "      <th>4</th>\n",
       "      <td>ریپسٹ نظروں کے سامنے فرار ہوگیا لیکن چوہان جیس...</td>\n",
       "      <td>N</td>\n",
       "    </tr>\n",
       "    <tr>\n",
       "      <th>...</th>\n",
       "      <td>...</td>\n",
       "      <td>...</td>\n",
       "    </tr>\n",
       "    <tr>\n",
       "      <th>495</th>\n",
       "      <td>اقرار الحسن صاحب ایک استعفی ادھر بھی ایک دن تک...</td>\n",
       "      <td>N</td>\n",
       "    </tr>\n",
       "    <tr>\n",
       "      <th>496</th>\n",
       "      <td>گجرپورہ واقعہ میں ملزم عابد علی پہلے بھی عصمت ...</td>\n",
       "      <td>N</td>\n",
       "    </tr>\n",
       "    <tr>\n",
       "      <th>497</th>\n",
       "      <td>کیمرےسےگاڑی کی سپیڈ زیادہ دیکھ کر اسکو جرمانہ ...</td>\n",
       "      <td>N</td>\n",
       "    </tr>\n",
       "    <tr>\n",
       "      <th>498</th>\n",
       "      <td>جس سوشل میڈیا کا گلہ گھونٹا جارہا ہے یہ جوابی ...</td>\n",
       "      <td>N</td>\n",
       "    </tr>\n",
       "    <tr>\n",
       "      <th>499</th>\n",
       "      <td>کافر کیا ہوتا ہے یہ نہیں معلوم پر جو تم نے کیا...</td>\n",
       "      <td>P</td>\n",
       "    </tr>\n",
       "  </tbody>\n",
       "</table>\n",
       "<p>500 rows × 2 columns</p>\n",
       "</div>"
      ],
      "text/plain": [
       "                                                tweets sentiment\n",
       "0       ہم مر بھی گئے تو کیا سوگ ہی ہوگا فقط تین دن کا         N\n",
       "1    وہ لڑکا لڑکی موج میلہ کر رہے تھے ن لیگی میاں ف...         N\n",
       "2    اسی اینج ڈھولنا جیویں کنجراں دی جوڑی جیویں بلا...         P\n",
       "3    خاتون کے ساتھ جو واقعہ پیش آیا اس کی ذمہ دار و...         N\n",
       "4    ریپسٹ نظروں کے سامنے فرار ہوگیا لیکن چوہان جیس...         N\n",
       "..                                                 ...       ...\n",
       "495  اقرار الحسن صاحب ایک استعفی ادھر بھی ایک دن تک...         N\n",
       "496  گجرپورہ واقعہ میں ملزم عابد علی پہلے بھی عصمت ...         N\n",
       "497  کیمرےسےگاڑی کی سپیڈ زیادہ دیکھ کر اسکو جرمانہ ...         N\n",
       "498  جس سوشل میڈیا کا گلہ گھونٹا جارہا ہے یہ جوابی ...         N\n",
       "499  کافر کیا ہوتا ہے یہ نہیں معلوم پر جو تم نے کیا...         P\n",
       "\n",
       "[500 rows x 2 columns]"
      ]
     },
     "execution_count": 15,
     "metadata": {},
     "output_type": "execute_result"
    }
   ],
   "source": [
    "df =  data.copy()\n",
    "df"
   ]
  },
  {
   "cell_type": "code",
   "execution_count": 16,
   "metadata": {
    "colab": {
     "base_uri": "https://localhost:8080/",
     "height": 449
    },
    "id": "QZWlU6tP_RQ2",
    "outputId": "0217bb27-d082-46bb-925f-b619309ad152"
   },
   "outputs": [
    {
     "data": {
      "image/png": "[encoded data removed]",
      "text/plain": [
       "<Figure size 640x480 with 1 Axes>"
      ]
     },
     "metadata": {},
     "output_type": "display_data"
    }
   ],
   "source": [
    "sns.countplot( x = 'sentiment', data = df );"
   ]
  },
  {
   "cell_type": "code",
   "execution_count": 17,
   "metadata": {
    "id": "wpE1MQK9_YAr"
   },
   "outputs": [],
   "source": [
    "# Encode the labels\n",
    "le = LabelEncoder()\n",
    "le.fit(df['sentiment'])\n",
    "df['encoded_sentiments'] = le.transform(df['sentiment'])"
   ]
  },
  {
   "cell_type": "code",
   "execution_count": 18,
   "metadata": {
    "id": "_yticIzr_b04"
   },
   "outputs": [],
   "source": [
    "df['tweets'] = df['tweets'].apply(normalize)"
   ]
  },
  {
   "cell_type": "code",
   "execution_count": 19,
   "metadata": {
    "id": "llued0Kd_vUt"
   },
   "outputs": [],
   "source": [
    "df['tweets'] = df['tweets'].apply(replace_urls)"
   ]
  },
  {
   "cell_type": "code",
   "execution_count": 20,
   "metadata": {
    "id": "5ter4skl_-MX"
   },
   "outputs": [],
   "source": [
    "df['tweets'] = df['tweets'].apply(replace_emails)"
   ]
  },
  {
   "cell_type": "code",
   "execution_count": 21,
   "metadata": {
    "id": "lcaWc1xdAMiQ"
   },
   "outputs": [],
   "source": [
    "df['tweets'] = df['tweets'].apply(replace_currency_symbols)"
   ]
  },
  {
   "cell_type": "code",
   "execution_count": 25,
   "metadata": {
    "id": "ok8C5xQPAT7n"
   },
   "outputs": [],
   "source": [
    "df['tweets'] = df['tweets'].apply(normalize_whitespace)"
   ]
  },
  {
   "cell_type": "code",
   "execution_count": 35,
   "metadata": {
    "id": "5aa1augcAdJ2"
   },
   "outputs": [],
   "source": [
    "# Remove stop words from text\n",
    "from typing import FrozenSet"
   ]
  },
  {
   "cell_type": "code",
   "execution_count": 37,
   "metadata": {
    "id": "0kDXfp9HAgbt"
   },
   "outputs": [],
   "source": [
    "STOP_WORDS: FrozenSet[str] = frozenset(\"\"\"\n",
    " آ آئی آئیں آئے آتا آتی آتے آس آمدید آنا آنسہ آنی آنے آپ آگے آہ آہا آیا اب ابھی ابے\n",
    " ارے اس اسکا اسکی اسکے اسی اسے اف افوہ البتہ الف ان اندر انکا انکی انکے انہوں انہی انہیں اوئے اور اوپر\n",
    " اوہو اپ اپنا اپنوں اپنی اپنے اپنےآپ اکثر اگر اگرچہ اہاہا ایسا ایسی ایسے ایک بائیں بار بارے بالکل باوجود باہر\n",
    " بج بجے بخیر بشرطیکہ بعد بعض بغیر بلکہ بن بنا بناؤ بند بڑی بھر بھریں بھی بہت بہتر تاکہ تاہم تب تجھ\n",
    " تجھی تجھے ترا تری تلک تم تمام تمہارا تمہاروں تمہاری تمہارے تمہیں تو تک تھا تھی تھیں تھے تیرا تیری تیرے\n",
    " جا جاؤ جائیں جائے جاتا جاتی جاتے جانی جانے جب جبکہ جدھر جس جسے جن جناب جنہوں جنہیں جو جہاں جی جیسا\n",
    " جیسوں جیسی جیسے حالانکہ حالاں حصہ حضرت خاطر خالی خواہ خوب خود دائیں درمیان دریں دو دوران دوسرا دوسروں دوسری دوں\n",
    " دکھائیں دی دیئے دیا دیتا دیتی دیتے دیر دینا دینی دینے دیکھو دیں دیے دے ذریعے رکھا رکھتا رکھتی رکھتے رکھنا رکھنی\n",
    " رکھنے رکھو رکھی رکھے رہ رہا رہتا رہتی رہتے رہنا رہنی رہنے رہو رہی رہیں رہے ساتھ سامنے ساڑھے سب سبھی\n",
    " سراسر سمیت سوا سوائے سکا سکتا سکتے سہ سہی سی سے شاید شکریہ صاحب صاحبہ صرف ضرور طرح طرف طور علاوہ عین\n",
    " فقط فلاں فی قبل قطا لئے لائی لائے لاتا لاتی لاتے لانا لانی لانے لایا لو لوجی لوگوں لگ لگا لگتا\n",
    " لگتی لگی لگیں لگے لہذا لی لیا لیتا لیتی لیتے لیکن لیں لیے لے ماسوا مت مجھ مجھی مجھے محترم محترمہ محض\n",
    " مرا مرحبا مری مرے مزید مس مسز مسٹر مطابق مل مکرمی مگر مگھر مہربانی میرا میروں میری میرے میں نا نزدیک\n",
    " نما نہ نہیں نیز نیچے نے و وار واسطے واقعی والا والوں والی والے واہ وجہ ورنہ وغیرہ ولے وگرنہ وہ وہاں\n",
    " وہی وہیں ویسا ویسے ویں پاس پایا پر پس پلیز پون پونی پونے پھر پہ پہلا پہلی پہلے پیر پیچھے چاہئے\n",
    " چاہتے چاہیئے چاہے چلا چلو چلیں چلے چناچہ چند چونکہ چکی چکیں چکے ڈالنا ڈالنی ڈالنے ڈالے کئے کا کاش کب کبھی\n",
    " کدھر کر کرتا کرتی کرتے کرم کرنا کرنے کرو کریں کرے کس کسی کسے کم کن کنہیں کو کوئی کون کونسا\n",
    " کونسے کچھ کہ کہا کہاں کہہ کہی کہیں کہے کی کیا کیسا کیسے کیونکر کیونکہ کیوں کیے کے گئی گئے گا گنا\n",
    " گو گویا گی گیا ہائیں ہائے ہاں ہر ہرچند ہرگز ہم ہمارا ہماری ہمارے ہمی ہمیں ہو ہوئی ہوئیں ہوئے ہوا\n",
    " ہوبہو ہوتا ہوتی ہوتیں ہوتے ہونا ہونگے ہونی ہونے ہوں ہی ہیلو ہیں ہے یا یات یعنی یک یہ یہاں یہی یہیں\n",
    "\"\"\".split())\n",
    "def remove_stopwords(text: str):\n",
    "    return \" \".join(word for word in text.split() if word not in STOP_WORDS)"
   ]
  },
  {
   "cell_type": "code",
   "execution_count": 39,
   "metadata": {
    "colab": {
     "base_uri": "https://localhost:8080/"
    },
    "id": "xtBeJ_YRAk7I",
    "outputId": "99a460bf-d5d8-47ea-fa1c-a085fd20d6b1"
   },
   "outputs": [
    {
     "data": {
      "text/plain": [
       "430"
      ]
     },
     "execution_count": 39,
     "metadata": {},
     "output_type": "execute_result"
    }
   ],
   "source": [
    "len(STOP_WORDS)"
   ]
  },
  {
   "cell_type": "code",
   "execution_count": 41,
   "metadata": {
    "colab": {
     "base_uri": "https://localhost:8080/",
     "height": 363
    },
    "id": "v4gPfQUXAoGQ",
    "outputId": "ec38676c-c024-4890-adbc-ccecf1376f97"
   },
   "outputs": [
    {
     "data": {
      "text/html": [
       "<div>\n",
       "<style scoped>\n",
       "    .dataframe tbody tr th:only-of-type {\n",
       "        vertical-align: middle;\n",
       "    }\n",
       "\n",
       "    .dataframe tbody tr th {\n",
       "        vertical-align: top;\n",
       "    }\n",
       "\n",
       "    .dataframe thead th {\n",
       "        text-align: right;\n",
       "    }\n",
       "</style>\n",
       "<table border=\"1\" class=\"dataframe\">\n",
       "  <thead>\n",
       "    <tr style=\"text-align: right;\">\n",
       "      <th></th>\n",
       "      <th>tweets</th>\n",
       "    </tr>\n",
       "  </thead>\n",
       "  <tbody>\n",
       "    <tr>\n",
       "      <th>0</th>\n",
       "      <td>ہم مر بھی گئے تو کیا سوگ ہی ہوگا فقط تین دن کا</td>\n",
       "    </tr>\n",
       "    <tr>\n",
       "      <th>1</th>\n",
       "      <td>وہ لڑکا لڑکی موج میلہ کر رہے تھے ن لیگی میاں ف...</td>\n",
       "    </tr>\n",
       "    <tr>\n",
       "      <th>2</th>\n",
       "      <td>اسی اینج ڈھولنا جیویں کنجراں دی جوڑی جیویں بلا...</td>\n",
       "    </tr>\n",
       "    <tr>\n",
       "      <th>3</th>\n",
       "      <td>خاتون کے ساتھ جو واقعہ پیش آیا اس کی ذمہ دار و...</td>\n",
       "    </tr>\n",
       "    <tr>\n",
       "      <th>4</th>\n",
       "      <td>ریپسٹ نظروں کے سامنے فرار ہوگیا لیکن چوہان جیس...</td>\n",
       "    </tr>\n",
       "    <tr>\n",
       "      <th>5</th>\n",
       "      <td>ریاست قانون کی حاکمیت سزا کے خوف کی بنیاد پر چ...</td>\n",
       "    </tr>\n",
       "    <tr>\n",
       "      <th>6</th>\n",
       "      <td>جانتا ہوں تیری جلن کا سبب رکھلو برنال اور گزار...</td>\n",
       "    </tr>\n",
       "    <tr>\n",
       "      <th>7</th>\n",
       "      <td>خود محافظ بنے اپنے پیاروں کے محتاج ھے ادارے عہ...</td>\n",
       "    </tr>\n",
       "    <tr>\n",
       "      <th>8</th>\n",
       "      <td>لاش ملے گی کسی دن ویرانے سے میری میرا قلم ضمیر...</td>\n",
       "    </tr>\n",
       "    <tr>\n",
       "      <th>9</th>\n",
       "      <td>اگر ا س وقت ا س لیڈی ڈاکٹر کو انصاف ملتا تو آج...</td>\n",
       "    </tr>\n",
       "  </tbody>\n",
       "</table>\n",
       "</div>"
      ],
      "text/plain": [
       "                                              tweets\n",
       "0     ہم مر بھی گئے تو کیا سوگ ہی ہوگا فقط تین دن کا\n",
       "1  وہ لڑکا لڑکی موج میلہ کر رہے تھے ن لیگی میاں ف...\n",
       "2  اسی اینج ڈھولنا جیویں کنجراں دی جوڑی جیویں بلا...\n",
       "3  خاتون کے ساتھ جو واقعہ پیش آیا اس کی ذمہ دار و...\n",
       "4  ریپسٹ نظروں کے سامنے فرار ہوگیا لیکن چوہان جیس...\n",
       "5  ریاست قانون کی حاکمیت سزا کے خوف کی بنیاد پر چ...\n",
       "6  جانتا ہوں تیری جلن کا سبب رکھلو برنال اور گزار...\n",
       "7  خود محافظ بنے اپنے پیاروں کے محتاج ھے ادارے عہ...\n",
       "8  لاش ملے گی کسی دن ویرانے سے میری میرا قلم ضمیر...\n",
       "9  اگر ا س وقت ا س لیڈی ڈاکٹر کو انصاف ملتا تو آج..."
      ]
     },
     "execution_count": 41,
     "metadata": {},
     "output_type": "execute_result"
    }
   ],
   "source": [
    "df[['tweets']].head(10)"
   ]
  },
  {
   "cell_type": "code",
   "execution_count": 43,
   "metadata": {
    "id": "unvwq61dAuUh"
   },
   "outputs": [],
   "source": [
    "# from urduhack.models.lemmatizer import lemmatizer\n",
    "# def lemitizeStr(str):\n",
    "#     lemme_str = \"\"\n",
    "#     temp = lemmatizer.lemma_lookup(str)\n",
    "#     for t in temp:\n",
    "#         lemme_str += t[0] + \" \"\n",
    "\n",
    "#     return lemme_str"
   ]
  },
  {
   "cell_type": "code",
   "execution_count": 45,
   "metadata": {
    "id": "9h4fknCAA0JR"
   },
   "outputs": [],
   "source": [
    "df['tweets'] =  df['tweets'].apply(remove_stopwords)"
   ]
  },
  {
   "cell_type": "code",
   "execution_count": 47,
   "metadata": {
    "id": "gQJHE9RFA5-k"
   },
   "outputs": [],
   "source": [
    "# df['lemmatized_text'] = df['tweets'].apply(lemitizeStr)"
   ]
  },
  {
   "cell_type": "code",
   "execution_count": null,
   "metadata": {
    "colab": {
     "base_uri": "https://localhost:8080/"
    },
    "id": "6nM5ShwDA-dV",
    "outputId": "60bd5d56-13ee-46e1-b1c4-8eb5fc2357d6"
   },
   "outputs": [
    {
     "data": {
      "text/plain": [
       "('اینج ڈھولنا جیویں کنجراں جوڑی جیویں بلاول تے مریم جیویں فضلو ٹپوری محبتمافیا',\n",
       " 'اینج ڈھولنا جیویں کنجراں جوڑی جیویں بلاول تے مریم جیویں فضلو ٹپوری محبتمافیا ')"
      ]
     },
     "execution_count": 25,
     "metadata": {},
     "output_type": "execute_result"
    }
   ],
   "source": [
    "df['tweets'][2], df['lemmatized_text'][2]"
   ]
  },
  {
   "cell_type": "code",
   "execution_count": null,
   "metadata": {
    "colab": {
     "base_uri": "https://localhost:8080/",
     "height": 363
    },
    "id": "CCrPcnG1BCzN",
    "outputId": "38a69206-0da7-4d54-83d9-5a0ae16b0716"
   },
   "outputs": [
    {
     "data": {
      "text/html": [
       "\n",
       "  <div id=\"df-43bfe1f1-b1b6-4c17-a64d-3dd0dd035e02\">\n",
       "    <div class=\"colab-df-container\">\n",
       "      <div>\n",
       "<style scoped>\n",
       "    .dataframe tbody tr th:only-of-type {\n",
       "        vertical-align: middle;\n",
       "    }\n",
       "\n",
       "    .dataframe tbody tr th {\n",
       "        vertical-align: top;\n",
       "    }\n",
       "\n",
       "    .dataframe thead th {\n",
       "        text-align: right;\n",
       "    }\n",
       "</style>\n",
       "<table border=\"1\" class=\"dataframe\">\n",
       "  <thead>\n",
       "    <tr style=\"text-align: right;\">\n",
       "      <th></th>\n",
       "      <th>tweets</th>\n",
       "      <th>lemmatized_text</th>\n",
       "    </tr>\n",
       "  </thead>\n",
       "  <tbody>\n",
       "    <tr>\n",
       "      <th>0</th>\n",
       "      <td>مر سوگ ہوگا تین دن</td>\n",
       "      <td>مر سوگ ہوگا تین دن</td>\n",
       "    </tr>\n",
       "    <tr>\n",
       "      <th>1</th>\n",
       "      <td>لڑکا لڑکی موج میلہ ن لیگی میاں فاروق کےبیٹوں ز...</td>\n",
       "      <td>لڑکا لڑکی موج میلہ ن لیگی میاں فاروق کےبیٹوں ز...</td>\n",
       "    </tr>\n",
       "    <tr>\n",
       "      <th>2</th>\n",
       "      <td>اینج ڈھولنا جیویں کنجراں جوڑی جیویں بلاول تے م...</td>\n",
       "      <td>اینج ڈھولنا جیویں کنجراں جوڑی جیویں بلاول تے م...</td>\n",
       "    </tr>\n",
       "    <tr>\n",
       "      <th>3</th>\n",
       "      <td>خاتون واقعہ پیش ذمہ دار</td>\n",
       "      <td>خاتون واقعہ پیش ذمہ دار</td>\n",
       "    </tr>\n",
       "    <tr>\n",
       "      <th>4</th>\n",
       "      <td>ریپسٹ نظروں فرار ہوگیا چوہان مبارکبادیں مصروف ...</td>\n",
       "      <td>ریپسٹ نظروں فرار ہوگیا چوہان مبارکبادیں مصروف ...</td>\n",
       "    </tr>\n",
       "    <tr>\n",
       "      <th>5</th>\n",
       "      <td>ریاست قانون حاکمیت سزا خوف بنیاد چلتی انسان حی...</td>\n",
       "      <td>ریاست قانون حاکمیت سزا خوف بنیاد چلتی انسان حی...</td>\n",
       "    </tr>\n",
       "    <tr>\n",
       "      <th>6</th>\n",
       "      <td>جانتا جلن سبب رکھلو برنال گزارا نام شہنشاہ بی ...</td>\n",
       "      <td>جانتا جلن سبب رکھلو برنال گزارا نام شہنشاہ بی ...</td>\n",
       "    </tr>\n",
       "    <tr>\n",
       "      <th>7</th>\n",
       "      <td>محافظ بنے پیاروں محتاج ھے ادارے عہدیداروں</td>\n",
       "      <td>محافظ بنے پیاروں محتاج ھے ادارے عہدیداروں</td>\n",
       "    </tr>\n",
       "    <tr>\n",
       "      <th>8</th>\n",
       "      <td>لاش ملے دن ویرانے قلم ضمیر فروشوں خلاف لکھتا</td>\n",
       "      <td>لاش ملے دن ویرانے قلم ضمیر فروشوں خلاف لکھتا</td>\n",
       "    </tr>\n",
       "    <tr>\n",
       "      <th>9</th>\n",
       "      <td>ا س وقت ا س لیڈی ڈاکٹر انصاف ملتا آج سوچنے جرت...</td>\n",
       "      <td>ا س وقت ا س لیڈی ڈاکٹر انصاف ملتا آج سوچنے جرت...</td>\n",
       "    </tr>\n",
       "  </tbody>\n",
       "</table>\n",
       "</div>\n",
       "      <button class=\"colab-df-convert\" onclick=\"convertToInteractive('df-43bfe1f1-b1b6-4c17-a64d-3dd0dd035e02')\"\n",
       "              title=\"Convert this dataframe to an interactive table.\"\n",
       "              style=\"display:none;\">\n",
       "        \n",
       "  <svg xmlns=\"http://www.w3.org/2000/svg\" height=\"24px\"viewBox=\"0 0 24 24\"\n",
       "       width=\"24px\">\n",
       "    <path d=\"M0 0h24v24H0V0z\" fill=\"none\"/>\n",
       "    <path d=\"M18.56 5.44l.94 2.06.94-2.06 2.06-.94-2.06-.94-.94-2.06-.94 2.06-2.06.94zm-11 1L8.5 8.5l.94-2.06 2.06-.94-2.06-.94L8.5 2.5l-.94 2.06-2.06.94zm10 10l.94 2.06.94-2.06 2.06-.94-2.06-.94-.94-2.06-.94 2.06-2.06.94z\"/><path d=\"M17.41 7.96l-1.37-1.37c-.4-.4-.92-.59-1.43-.59-.52 0-1.04.2-1.43.59L10.3 9.45l-7.72 7.72c-.78.78-.78 2.05 0 2.83L4 21.41c.39.39.9.59 1.41.59.51 0 1.02-.2 1.41-.59l7.78-7.78 2.81-2.81c.8-.78.8-2.07 0-2.86zM5.41 20L4 18.59l7.72-7.72 1.47 1.35L5.41 20z\"/>\n",
       "  </svg>\n",
       "      </button>\n",
       "      \n",
       "  <style>\n",
       "    .colab-df-container {\n",
       "      display:flex;\n",
       "      flex-wrap:wrap;\n",
       "      gap: 12px;\n",
       "    }\n",
       "\n",
       "    .colab-df-convert {\n",
       "      background-color: #E8F0FE;\n",
       "      border: none;\n",
       "      border-radius: 50%;\n",
       "      cursor: pointer;\n",
       "      display: none;\n",
       "      fill: #1967D2;\n",
       "      height: 32px;\n",
       "      padding: 0 0 0 0;\n",
       "      width: 32px;\n",
       "    }\n",
       "\n",
       "    .colab-df-convert:hover {\n",
       "      background-color: #E2EBFA;\n",
       "      box-shadow: 0px 1px 2px rgba(60, 64, 67, 0.3), 0px 1px 3px 1px rgba(60, 64, 67, 0.15);\n",
       "      fill: #174EA6;\n",
       "    }\n",
       "\n",
       "    [theme=dark] .colab-df-convert {\n",
       "      background-color: #3B4455;\n",
       "      fill: #D2E3FC;\n",
       "    }\n",
       "\n",
       "    [theme=dark] .colab-df-convert:hover {\n",
       "      background-color: #434B5C;\n",
       "      box-shadow: 0px 1px 3px 1px rgba(0, 0, 0, 0.15);\n",
       "      filter: drop-shadow(0px 1px 2px rgba(0, 0, 0, 0.3));\n",
       "      fill: #FFFFFF;\n",
       "    }\n",
       "  </style>\n",
       "\n",
       "      <script>\n",
       "        const buttonEl =\n",
       "          document.querySelector('#df-43bfe1f1-b1b6-4c17-a64d-3dd0dd035e02 button.colab-df-convert');\n",
       "        buttonEl.style.display =\n",
       "          google.colab.kernel.accessAllowed ? 'block' : 'none';\n",
       "\n",
       "        async function convertToInteractive(key) {\n",
       "          const element = document.querySelector('#df-43bfe1f1-b1b6-4c17-a64d-3dd0dd035e02');\n",
       "          const dataTable =\n",
       "            await google.colab.kernel.invokeFunction('convertToInteractive',\n",
       "                                                     [key], {});\n",
       "          if (!dataTable) return;\n",
       "\n",
       "          const docLinkHtml = 'Like what you see? Visit the ' +\n",
       "            '<a target=\"_blank\" href=https://colab.research.google.com/notebooks/data_table.ipynb>data table notebook</a>'\n",
       "            + ' to learn more about interactive tables.';\n",
       "          element.innerHTML = '';\n",
       "          dataTable['output_type'] = 'display_data';\n",
       "          await google.colab.output.renderOutput(dataTable, element);\n",
       "          const docLink = document.createElement('div');\n",
       "          docLink.innerHTML = docLinkHtml;\n",
       "          element.appendChild(docLink);\n",
       "        }\n",
       "      </script>\n",
       "    </div>\n",
       "  </div>\n",
       "  "
      ],
      "text/plain": [
       "                                              tweets  \\\n",
       "0                                 مر سوگ ہوگا تین دن   \n",
       "1  لڑکا لڑکی موج میلہ ن لیگی میاں فاروق کےبیٹوں ز...   \n",
       "2  اینج ڈھولنا جیویں کنجراں جوڑی جیویں بلاول تے م...   \n",
       "3                            خاتون واقعہ پیش ذمہ دار   \n",
       "4  ریپسٹ نظروں فرار ہوگیا چوہان مبارکبادیں مصروف ...   \n",
       "5  ریاست قانون حاکمیت سزا خوف بنیاد چلتی انسان حی...   \n",
       "6  جانتا جلن سبب رکھلو برنال گزارا نام شہنشاہ بی ...   \n",
       "7          محافظ بنے پیاروں محتاج ھے ادارے عہدیداروں   \n",
       "8       لاش ملے دن ویرانے قلم ضمیر فروشوں خلاف لکھتا   \n",
       "9  ا س وقت ا س لیڈی ڈاکٹر انصاف ملتا آج سوچنے جرت...   \n",
       "\n",
       "                                     lemmatized_text  \n",
       "0                                مر سوگ ہوگا تین دن   \n",
       "1  لڑکا لڑکی موج میلہ ن لیگی میاں فاروق کےبیٹوں ز...  \n",
       "2  اینج ڈھولنا جیویں کنجراں جوڑی جیویں بلاول تے م...  \n",
       "3                           خاتون واقعہ پیش ذمہ دار   \n",
       "4  ریپسٹ نظروں فرار ہوگیا چوہان مبارکبادیں مصروف ...  \n",
       "5  ریاست قانون حاکمیت سزا خوف بنیاد چلتی انسان حی...  \n",
       "6  جانتا جلن سبب رکھلو برنال گزارا نام شہنشاہ بی ...  \n",
       "7         محافظ بنے پیاروں محتاج ھے ادارے عہدیداروں   \n",
       "8      لاش ملے دن ویرانے قلم ضمیر فروشوں خلاف لکھتا   \n",
       "9  ا س وقت ا س لیڈی ڈاکٹر انصاف ملتا آج سوچنے جرت...  "
      ]
     },
     "execution_count": 26,
     "metadata": {},
     "output_type": "execute_result"
    }
   ],
   "source": [
    "df[['tweets', 'lemmatized_text']].head(10)"
   ]
  },
  {
   "cell_type": "code",
   "execution_count": 51,
   "metadata": {
    "colab": {
     "base_uri": "https://localhost:8080/",
     "height": 206
    },
    "id": "ahB_HxkaBJcG",
    "outputId": "99c3fde9-0201-4053-ba8f-c13b90a93e6f"
   },
   "outputs": [
    {
     "data": {
      "text/html": [
       "<div>\n",
       "<style scoped>\n",
       "    .dataframe tbody tr th:only-of-type {\n",
       "        vertical-align: middle;\n",
       "    }\n",
       "\n",
       "    .dataframe tbody tr th {\n",
       "        vertical-align: top;\n",
       "    }\n",
       "\n",
       "    .dataframe thead th {\n",
       "        text-align: right;\n",
       "    }\n",
       "</style>\n",
       "<table border=\"1\" class=\"dataframe\">\n",
       "  <thead>\n",
       "    <tr style=\"text-align: right;\">\n",
       "      <th></th>\n",
       "      <th>tweets</th>\n",
       "      <th>sentiment</th>\n",
       "      <th>encoded_sentiments</th>\n",
       "    </tr>\n",
       "  </thead>\n",
       "  <tbody>\n",
       "    <tr>\n",
       "      <th>0</th>\n",
       "      <td>مر سوگ ہوگا تین دن</td>\n",
       "      <td>N</td>\n",
       "      <td>0</td>\n",
       "    </tr>\n",
       "    <tr>\n",
       "      <th>1</th>\n",
       "      <td>لڑکا لڑکی موج میلہ ن لیگی میاں فاروق کےبیٹوں ز...</td>\n",
       "      <td>N</td>\n",
       "      <td>0</td>\n",
       "    </tr>\n",
       "    <tr>\n",
       "      <th>2</th>\n",
       "      <td>اینج ڈھولنا جیویں کنجراں جوڑی جیویں بلاول تے م...</td>\n",
       "      <td>P</td>\n",
       "      <td>1</td>\n",
       "    </tr>\n",
       "    <tr>\n",
       "      <th>3</th>\n",
       "      <td>خاتون واقعہ پیش ذمہ دار</td>\n",
       "      <td>N</td>\n",
       "      <td>0</td>\n",
       "    </tr>\n",
       "    <tr>\n",
       "      <th>4</th>\n",
       "      <td>ریپسٹ نظروں فرار ہوگیا چوہان مبارکبادیں مصروف ...</td>\n",
       "      <td>N</td>\n",
       "      <td>0</td>\n",
       "    </tr>\n",
       "  </tbody>\n",
       "</table>\n",
       "</div>"
      ],
      "text/plain": [
       "                                              tweets sentiment  \\\n",
       "0                                 مر سوگ ہوگا تین دن         N   \n",
       "1  لڑکا لڑکی موج میلہ ن لیگی میاں فاروق کےبیٹوں ز...         N   \n",
       "2  اینج ڈھولنا جیویں کنجراں جوڑی جیویں بلاول تے م...         P   \n",
       "3                            خاتون واقعہ پیش ذمہ دار         N   \n",
       "4  ریپسٹ نظروں فرار ہوگیا چوہان مبارکبادیں مصروف ...         N   \n",
       "\n",
       "   encoded_sentiments  \n",
       "0                   0  \n",
       "1                   0  \n",
       "2                   1  \n",
       "3                   0  \n",
       "4                   0  "
      ]
     },
     "execution_count": 51,
     "metadata": {},
     "output_type": "execute_result"
    }
   ],
   "source": [
    "df.head()"
   ]
  },
  {
   "cell_type": "code",
   "execution_count": 49,
   "metadata": {
    "id": "PKpNq8rpBOeY"
   },
   "outputs": [],
   "source": [
    "X_train, X_test, Y_train, Y_test = train_test_split(df['tweets'], df['encoded_sentiments'], test_size = 0.30, random_state = 7, shuffle = True)"
   ]
  },
  {
   "cell_type": "code",
   "execution_count": 51,
   "metadata": {
    "colab": {
     "base_uri": "https://localhost:8080/"
    },
    "id": "hNTParRwBSlq",
    "outputId": "3eb8f16d-b3cd-4c8e-a49c-98435bfa8854"
   },
   "outputs": [
    {
     "name": "stdout",
     "output_type": "stream",
     "text": [
      "Shape of X_train (350,)\n",
      "Shape of X_test (150,)\n",
      "Shape of Y_train (350,)\n",
      "Shape of Y_test (150,)\n"
     ]
    }
   ],
   "source": [
    "print('Shape of X_train', X_train.shape)\n",
    "print('Shape of X_test', X_test.shape)\n",
    "print('Shape of Y_train', Y_train.shape)\n",
    "print('Shape of Y_test', Y_test.shape)"
   ]
  },
  {
   "cell_type": "code",
   "execution_count": 53,
   "metadata": {
    "id": "58Z1l9ptBX3F"
   },
   "outputs": [],
   "source": [
    "max_feature_num = 500\n",
    "vectorizer = TfidfVectorizer(max_features=max_feature_num)\n",
    "train_vecs = vectorizer.fit_transform(X_train)\n",
    "test_vecs = TfidfVectorizer(max_features=max_feature_num, vocabulary=vectorizer.vocabulary_).fit_transform(X_test)"
   ]
  },
  {
   "cell_type": "code",
   "execution_count": 55,
   "metadata": {
    "colab": {
     "base_uri": "https://localhost:8080/"
    },
    "id": "N2HftETHBdat",
    "outputId": "ac8a3754-220c-4d43-8257-2e43447f740a"
   },
   "outputs": [
    {
     "data": {
      "text/plain": [
       "((350, 500), (150, 500))"
      ]
     },
     "execution_count": 55,
     "metadata": {},
     "output_type": "execute_result"
    }
   ],
   "source": [
    " #check the dimensions of feature vectors\n",
    "train_vecs.shape, test_vecs.shape"
   ]
  },
  {
   "cell_type": "code",
   "execution_count": 57,
   "metadata": {
    "colab": {
     "base_uri": "https://localhost:8080/"
    },
    "id": "qDkyzlMsBgDG",
    "outputId": "17a32982-afd3-4d61-ae9a-e00f42d443bd"
   },
   "outputs": [
    {
     "name": "stdout",
     "output_type": "stream",
     "text": [
      "(350, 500)\n",
      "(150, 500)\n"
     ]
    }
   ],
   "source": [
    "print(train_vecs.shape)  # Check the dimensions of train_vecs\n",
    "print(test_vecs.shape)  # Check the dimensions of test_vecs"
   ]
  },
  {
   "cell_type": "markdown",
   "metadata": {},
   "source": [
    "# BERT"
   ]
  },
  {
   "cell_type": "code",
   "execution_count": 104,
   "metadata": {},
   "outputs": [
    {
     "name": "stdout",
     "output_type": "stream",
     "text": [
      "Fold 1\n"
     ]
    },
    {
     "name": "stderr",
     "output_type": "stream",
     "text": [
      "Some weights of BertForSequenceClassification were not initialized from the model checkpoint at bert-base-uncased and are newly initialized: ['classifier.bias', 'classifier.weight']\n",
      "You should probably TRAIN this model on a down-stream task to be able to use it for predictions and inference.\n"
     ]
    },
    {
     "name": "stdout",
     "output_type": "stream",
     "text": [
      "Epoch 1, Loss: 0.6925968313217163\n"
     ]
    },
    {
     "name": "stderr",
     "output_type": "stream",
     "text": [
      "C:\\Users\\mobee\\anaconda3\\Lib\\site-packages\\sklearn\\metrics\\_classification.py:1565: UndefinedMetricWarning: Precision is ill-defined and being set to 0.0 due to no predicted samples. Use `zero_division` parameter to control this behavior.\n",
      "  _warn_prf(average, modifier, f\"{metric.capitalize()} is\", len(result))\n"
     ]
    },
    {
     "name": "stdout",
     "output_type": "stream",
     "text": [
      "Validation Metrics - Accuracy: 0.57, Precision: 0.0, Recall: 0.0, F1-score: 0.0\n",
      "Epoch 2, Loss: 0.6841730213165284\n",
      "Validation Metrics - Accuracy: 0.51, Precision: 0.3125, Recall: 0.11627906976744186, F1-score: 0.1694915254237288\n",
      "Epoch 3, Loss: 0.6862185072898864\n"
     ]
    },
    {
     "name": "stderr",
     "output_type": "stream",
     "text": [
      "C:\\Users\\mobee\\anaconda3\\Lib\\site-packages\\sklearn\\metrics\\_classification.py:1565: UndefinedMetricWarning: Precision is ill-defined and being set to 0.0 due to no predicted samples. Use `zero_division` parameter to control this behavior.\n",
      "  _warn_prf(average, modifier, f\"{metric.capitalize()} is\", len(result))\n",
      "C:\\Users\\mobee\\anaconda3\\Lib\\site-packages\\sklearn\\metrics\\_classification.py:1565: UndefinedMetricWarning: Precision is ill-defined and being set to 0.0 due to no predicted samples. Use `zero_division` parameter to control this behavior.\n",
      "  _warn_prf(average, modifier, f\"{metric.capitalize()} is\", len(result))\n"
     ]
    },
    {
     "name": "stdout",
     "output_type": "stream",
     "text": [
      "Validation Metrics - Accuracy: 0.57, Precision: 0.0, Recall: 0.0, F1-score: 0.0\n",
      "Fold 1 Metrics:\n",
      "Accuracy: 0.57\n",
      "Precision: 0.0\n",
      "Recall: 0.0\n",
      "F1-score: 0.0\n",
      "--------------------------------------------------\n",
      "Fold 2\n"
     ]
    },
    {
     "name": "stderr",
     "output_type": "stream",
     "text": [
      "Some weights of BertForSequenceClassification were not initialized from the model checkpoint at bert-base-uncased and are newly initialized: ['classifier.bias', 'classifier.weight']\n",
      "You should probably TRAIN this model on a down-stream task to be able to use it for predictions and inference.\n"
     ]
    },
    {
     "name": "stdout",
     "output_type": "stream",
     "text": [
      "Epoch 1, Loss: 0.6930847811698914\n",
      "Validation Metrics - Accuracy: 0.41, Precision: 0.41414141414141414, Recall: 0.9761904761904762, F1-score: 0.5815602836879432\n",
      "Epoch 2, Loss: 0.6981312203407287\n",
      "Validation Metrics - Accuracy: 0.41, Precision: 0.41414141414141414, Recall: 0.9761904761904762, F1-score: 0.5815602836879432\n",
      "Epoch 3, Loss: 0.7095088362693787\n",
      "Validation Metrics - Accuracy: 0.59, Precision: 1.0, Recall: 0.023809523809523808, F1-score: 0.046511627906976744\n",
      "Fold 2 Metrics:\n",
      "Accuracy: 0.59\n",
      "Precision: 1.0\n",
      "Recall: 0.023809523809523808\n",
      "F1-score: 0.046511627906976744\n",
      "--------------------------------------------------\n",
      "Fold 3\n"
     ]
    },
    {
     "name": "stderr",
     "output_type": "stream",
     "text": [
      "Some weights of BertForSequenceClassification were not initialized from the model checkpoint at bert-base-uncased and are newly initialized: ['classifier.bias', 'classifier.weight']\n",
      "You should probably TRAIN this model on a down-stream task to be able to use it for predictions and inference.\n"
     ]
    },
    {
     "name": "stdout",
     "output_type": "stream",
     "text": [
      "Epoch 1, Loss: 0.698075110912323\n"
     ]
    },
    {
     "name": "stderr",
     "output_type": "stream",
     "text": [
      "C:\\Users\\mobee\\anaconda3\\Lib\\site-packages\\sklearn\\metrics\\_classification.py:1565: UndefinedMetricWarning: Precision is ill-defined and being set to 0.0 due to no predicted samples. Use `zero_division` parameter to control this behavior.\n",
      "  _warn_prf(average, modifier, f\"{metric.capitalize()} is\", len(result))\n"
     ]
    },
    {
     "name": "stdout",
     "output_type": "stream",
     "text": [
      "Validation Metrics - Accuracy: 0.58, Precision: 0.0, Recall: 0.0, F1-score: 0.0\n",
      "Epoch 2, Loss: 0.6933023858070374\n"
     ]
    },
    {
     "name": "stderr",
     "output_type": "stream",
     "text": [
      "C:\\Users\\mobee\\anaconda3\\Lib\\site-packages\\sklearn\\metrics\\_classification.py:1565: UndefinedMetricWarning: Precision is ill-defined and being set to 0.0 due to no predicted samples. Use `zero_division` parameter to control this behavior.\n",
      "  _warn_prf(average, modifier, f\"{metric.capitalize()} is\", len(result))\n"
     ]
    },
    {
     "name": "stdout",
     "output_type": "stream",
     "text": [
      "Validation Metrics - Accuracy: 0.58, Precision: 0.0, Recall: 0.0, F1-score: 0.0\n",
      "Epoch 3, Loss: 0.6892351078987121\n"
     ]
    },
    {
     "name": "stderr",
     "output_type": "stream",
     "text": [
      "C:\\Users\\mobee\\anaconda3\\Lib\\site-packages\\sklearn\\metrics\\_classification.py:1565: UndefinedMetricWarning: Precision is ill-defined and being set to 0.0 due to no predicted samples. Use `zero_division` parameter to control this behavior.\n",
      "  _warn_prf(average, modifier, f\"{metric.capitalize()} is\", len(result))\n",
      "C:\\Users\\mobee\\anaconda3\\Lib\\site-packages\\sklearn\\metrics\\_classification.py:1565: UndefinedMetricWarning: Precision is ill-defined and being set to 0.0 due to no predicted samples. Use `zero_division` parameter to control this behavior.\n",
      "  _warn_prf(average, modifier, f\"{metric.capitalize()} is\", len(result))\n"
     ]
    },
    {
     "name": "stdout",
     "output_type": "stream",
     "text": [
      "Validation Metrics - Accuracy: 0.58, Precision: 0.0, Recall: 0.0, F1-score: 0.0\n",
      "Fold 3 Metrics:\n",
      "Accuracy: 0.58\n",
      "Precision: 0.0\n",
      "Recall: 0.0\n",
      "F1-score: 0.0\n",
      "--------------------------------------------------\n",
      "Fold 4\n"
     ]
    },
    {
     "name": "stderr",
     "output_type": "stream",
     "text": [
      "Some weights of BertForSequenceClassification were not initialized from the model checkpoint at bert-base-uncased and are newly initialized: ['classifier.bias', 'classifier.weight']\n",
      "You should probably TRAIN this model on a down-stream task to be able to use it for predictions and inference.\n"
     ]
    },
    {
     "name": "stdout",
     "output_type": "stream",
     "text": [
      "Epoch 1, Loss: 0.694186134338379\n",
      "Validation Metrics - Accuracy: 0.5, Precision: 0.625, Recall: 0.09615384615384616, F1-score: 0.16666666666666666\n",
      "Epoch 2, Loss: 0.6784599471092224\n"
     ]
    },
    {
     "name": "stderr",
     "output_type": "stream",
     "text": [
      "C:\\Users\\mobee\\anaconda3\\Lib\\site-packages\\sklearn\\metrics\\_classification.py:1565: UndefinedMetricWarning: Precision is ill-defined and being set to 0.0 due to no predicted samples. Use `zero_division` parameter to control this behavior.\n",
      "  _warn_prf(average, modifier, f\"{metric.capitalize()} is\", len(result))\n"
     ]
    },
    {
     "name": "stdout",
     "output_type": "stream",
     "text": [
      "Validation Metrics - Accuracy: 0.48, Precision: 0.0, Recall: 0.0, F1-score: 0.0\n",
      "Epoch 3, Loss: 0.6821369576454163\n",
      "Validation Metrics - Accuracy: 0.5, Precision: 1.0, Recall: 0.038461538461538464, F1-score: 0.07407407407407407\n",
      "Fold 4 Metrics:\n",
      "Accuracy: 0.5\n",
      "Precision: 1.0\n",
      "Recall: 0.038461538461538464\n",
      "F1-score: 0.07407407407407407\n",
      "--------------------------------------------------\n",
      "Fold 5\n"
     ]
    },
    {
     "name": "stderr",
     "output_type": "stream",
     "text": [
      "Some weights of BertForSequenceClassification were not initialized from the model checkpoint at bert-base-uncased and are newly initialized: ['classifier.bias', 'classifier.weight']\n",
      "You should probably TRAIN this model on a down-stream task to be able to use it for predictions and inference.\n"
     ]
    },
    {
     "name": "stdout",
     "output_type": "stream",
     "text": [
      "Epoch 1, Loss: 0.707787721157074\n"
     ]
    },
    {
     "name": "stderr",
     "output_type": "stream",
     "text": [
      "C:\\Users\\mobee\\anaconda3\\Lib\\site-packages\\sklearn\\metrics\\_classification.py:1565: UndefinedMetricWarning: Precision is ill-defined and being set to 0.0 due to no predicted samples. Use `zero_division` parameter to control this behavior.\n",
      "  _warn_prf(average, modifier, f\"{metric.capitalize()} is\", len(result))\n"
     ]
    },
    {
     "name": "stdout",
     "output_type": "stream",
     "text": [
      "Validation Metrics - Accuracy: 0.58, Precision: 0.0, Recall: 0.0, F1-score: 0.0\n",
      "Epoch 2, Loss: 0.6941043782234192\n",
      "Validation Metrics - Accuracy: 0.57, Precision: 0.48, Recall: 0.2857142857142857, F1-score: 0.3582089552238806\n",
      "Epoch 3, Loss: 0.6919429421424865\n",
      "Validation Metrics - Accuracy: 0.62, Precision: 0.6, Recall: 0.2857142857142857, F1-score: 0.3870967741935484\n",
      "Fold 5 Metrics:\n",
      "Accuracy: 0.62\n",
      "Precision: 0.6\n",
      "Recall: 0.2857142857142857\n",
      "F1-score: 0.3870967741935484\n",
      "--------------------------------------------------\n",
      "\n",
      "Results Table:\n",
      "   Fold  Accuracy  Precision   Recall  F1-score\n",
      "      1     0.570       0.00 0.000000  0.000000\n",
      "      2     0.590       1.00 0.023810  0.046512\n",
      "      3     0.580       0.00 0.000000  0.000000\n",
      "      4     0.500       1.00 0.038462  0.074074\n",
      "      5     0.620       0.60 0.285714  0.387097\n",
      "Average     0.572       0.52 0.069597  0.101536\n"
     ]
    }
   ],
   "source": [
    "import numpy as np\n",
    "import pandas as pd\n",
    "from sklearn.model_selection import KFold\n",
    "from sklearn.metrics import accuracy_score, precision_score, recall_score, f1_score\n",
    "from transformers import BertTokenizer, BertForSequenceClassification, AdamW\n",
    "from torch.utils.data import Dataset, DataLoader\n",
    "import torch\n",
    "from torch import nn\n",
    "from torch.optim import AdamW\n",
    "from urduhack.preprocessing import normalize_whitespace, remove_punctuation\n",
    "from urduhack.tokenization import sentence_tokenizer\n",
    "import os\n",
    "\n",
    "# Enable multi-processing\n",
    "os.environ[\"TOKENIZERS_PARALLELISM\"] = \"true\"\n",
    "\n",
    "# Load pre-trained BERT tokenizer\n",
    "tokenizer = BertTokenizer.from_pretrained('bert-base-uncased')\n",
    "\n",
    "# Tokenize the text data\n",
    "def tokenize_text(texts, max_length=128):\n",
    "    return tokenizer(\n",
    "        texts.tolist(),  # Convert pandas Series to list\n",
    "        padding=True,\n",
    "        truncation=True,\n",
    "        max_length=max_length,\n",
    "        return_tensors='pt'\n",
    "    )\n",
    "\n",
    "# Apply text preprocessing\n",
    "df['preprocessed_text'] = df['tweets'].apply(lambda x: ' '.join(sentence_tokenizer(remove_punctuation(normalize_whitespace(x)))))\n",
    "\n",
    "# Split the data into features (X) and labels (y)\n",
    "X = df['preprocessed_text']\n",
    "y = df['encoded_sentiments']\n",
    "\n",
    "# Initialize K-Fold cross-validation\n",
    "kfold = KFold(n_splits=5, shuffle=True, random_state=42)\n",
    "\n",
    "# Store evaluation metrics for each fold\n",
    "results = []\n",
    "\n",
    "# Custom Dataset class\n",
    "class CustomDataset(Dataset):\n",
    "    def __init__(self, encodings, labels):\n",
    "        self.encodings = encodings\n",
    "        self.labels = labels\n",
    "\n",
    "    def __getitem__(self, idx):\n",
    "        item = {key: val[idx] for key, val in self.encodings.items()}\n",
    "        item['labels'] = torch.tensor(self.labels[idx])\n",
    "        return item\n",
    "\n",
    "    def __len__(self):\n",
    "        return len(self.labels)\n",
    "\n",
    "# Training function\n",
    "def train_model(model, train_loader, val_loader, optimizer, device, epochs=3):\n",
    "    model.to(device)\n",
    "    criterion = nn.CrossEntropyLoss()\n",
    "\n",
    "    for epoch in range(epochs):\n",
    "        model.train()\n",
    "        total_loss = 0\n",
    "        for batch in train_loader:\n",
    "            optimizer.zero_grad()\n",
    "            input_ids = batch['input_ids'].to(device)\n",
    "            attention_mask = batch['attention_mask'].to(device)\n",
    "            labels = batch['labels'].to(device)\n",
    "\n",
    "            outputs = model(input_ids, attention_mask=attention_mask, labels=labels)\n",
    "            loss = outputs.loss\n",
    "            loss.backward()\n",
    "            optimizer.step()\n",
    "\n",
    "            total_loss += loss.item()\n",
    "\n",
    "        print(f\"Epoch {epoch + 1}, Loss: {total_loss / len(train_loader)}\")\n",
    "\n",
    "        # Validation\n",
    "        model.eval()\n",
    "        val_preds, val_labels = [], []\n",
    "        with torch.no_grad():\n",
    "            for batch in val_loader:\n",
    "                input_ids = batch['input_ids'].to(device)\n",
    "                attention_mask = batch['attention_mask'].to(device)\n",
    "                labels = batch['labels'].to(device)\n",
    "\n",
    "                outputs = model(input_ids, attention_mask=attention_mask)\n",
    "                logits = outputs.logits\n",
    "                preds = torch.argmax(logits, dim=-1)\n",
    "\n",
    "                val_preds.extend(preds.cpu().numpy())\n",
    "                val_labels.extend(labels.cpu().numpy())\n",
    "\n",
    "        # Calculate metrics\n",
    "        accuracy = accuracy_score(val_labels, val_preds)\n",
    "        precision = precision_score(val_labels, val_preds)\n",
    "        recall = recall_score(val_labels, val_preds)\n",
    "        f1 = f1_score(val_labels, val_preds)\n",
    "\n",
    "        print(f\"Validation Metrics - Accuracy: {accuracy}, Precision: {precision}, Recall: {recall}, F1-score: {f1}\")\n",
    "\n",
    "    return val_preds, val_labels\n",
    "\n",
    "# K-Fold cross-validation loop\n",
    "device = torch.device(\"cuda\" if torch.cuda.is_available() else \"cpu\")\n",
    "\n",
    "for fold, (train_idx, val_idx) in enumerate(kfold.split(X)):\n",
    "    print(f\"Fold {fold + 1}\")\n",
    "\n",
    "    # Split data into training and validation sets\n",
    "    X_train, X_val = X.iloc[train_idx], X.iloc[val_idx]\n",
    "    y_train, y_val = y.iloc[train_idx], y.iloc[val_idx]\n",
    "\n",
    "    # Tokenize the training and validation data\n",
    "    X_train_tokens = tokenize_text(X_train)\n",
    "    X_val_tokens = tokenize_text(X_val)\n",
    "\n",
    "    # Create custom datasets\n",
    "    train_dataset = CustomDataset(X_train_tokens, y_train.tolist())\n",
    "    val_dataset = CustomDataset(X_val_tokens, y_val.tolist())\n",
    "\n",
    "    # Create DataLoader\n",
    "    train_loader = DataLoader(train_dataset, batch_size=16, shuffle=True)\n",
    "    val_loader = DataLoader(val_dataset, batch_size=16)\n",
    "\n",
    "    # Load pre-trained BERT model for sequence classification\n",
    "    model = BertForSequenceClassification.from_pretrained('bert-base-uncased', num_labels=2)\n",
    "\n",
    "    # Set up optimizer\n",
    "    optimizer = AdamW(model.parameters(), lr=2e-5)\n",
    "\n",
    "    # Train and evaluate the model\n",
    "    val_preds, val_labels = train_model(model, train_loader, val_loader, optimizer, device)\n",
    "\n",
    "    # Calculate metrics for the current fold\n",
    "    accuracy = accuracy_score(val_labels, val_preds)\n",
    "    precision = precision_score(val_labels, val_preds)\n",
    "    recall = recall_score(val_labels, val_preds)\n",
    "    f1 = f1_score(val_labels, val_preds)\n",
    "\n",
    "    # Store metrics for the current fold\n",
    "    results.append({\n",
    "        'Fold': fold + 1,\n",
    "        'Accuracy': accuracy,\n",
    "        'Precision': precision,\n",
    "        'Recall': recall,\n",
    "        'F1-score': f1\n",
    "    })\n",
    "\n",
    "    print(f\"Fold {fold + 1} Metrics:\")\n",
    "    print(f\"Accuracy: {accuracy}\")\n",
    "    print(f\"Precision: {precision}\")\n",
    "    print(f\"Recall: {recall}\")\n",
    "    print(f\"F1-score: {f1}\")\n",
    "    print(\"-\" * 50)\n",
    "\n",
    "# Convert results to a DataFrame\n",
    "results_df = pd.DataFrame(results)\n",
    "\n",
    "# Calculate average metrics across all folds\n",
    "avg_metrics = pd.DataFrame({\n",
    "    'Fold': ['Average'],\n",
    "    'Accuracy': [results_df['Accuracy'].mean()],\n",
    "    'Precision': [results_df['Precision'].mean()],\n",
    "    'Recall': [results_df['Recall'].mean()],\n",
    "    'F1-score': [results_df['F1-score'].mean()]\n",
    "})\n",
    "\n",
    "# Append the average metrics to the results table\n",
    "results_df = pd.concat([results_df, avg_metrics], ignore_index=True)\n",
    "\n",
    "# Print the results table\n",
    "print(\"\\nResults Table:\")\n",
    "print(results_df.to_string(index=False))"
   ]
  },
  {
   "cell_type": "markdown",
   "metadata": {},
   "source": [
    "# BERT + smote + TFIDF + kfold"
   ]
  },
  {
   "cell_type": "code",
   "execution_count": 109,
   "metadata": {},
   "outputs": [
    {
     "name": "stdout",
     "output_type": "stream",
     "text": [
      "Fold 1\n"
     ]
    },
    {
     "name": "stderr",
     "output_type": "stream",
     "text": [
      "C:\\Users\\mobee\\anaconda3\\Lib\\site-packages\\sklearn\\base.py:474: FutureWarning: `BaseEstimator._validate_data` is deprecated in 1.6 and will be removed in 1.7. Use `sklearn.utils.validation.validate_data` instead. This function becomes public and is part of the scikit-learn developer API.\n",
      "  warnings.warn(\n",
      "Some weights of BertForSequenceClassification were not initialized from the model checkpoint at bert-base-uncased and are newly initialized: ['classifier.bias', 'classifier.weight']\n",
      "You should probably TRAIN this model on a down-stream task to be able to use it for predictions and inference.\n"
     ]
    },
    {
     "name": "stdout",
     "output_type": "stream",
     "text": [
      "Epoch 1, Loss: 0.7088723949023655\n",
      "Validation Metrics - Accuracy: 0.43, Precision: 0.43, Recall: 1.0, F1-score: 0.6013986013986014\n",
      "Epoch 2, Loss: 0.7014959880283901\n",
      "Validation Metrics - Accuracy: 0.44, Precision: 0.4329896907216495, Recall: 0.9767441860465116, F1-score: 0.6\n",
      "Epoch 3, Loss: 0.6926485449075699\n",
      "Validation Metrics - Accuracy: 0.57, Precision: 0.5, Recall: 0.023255813953488372, F1-score: 0.044444444444444446\n",
      "Epoch 4, Loss: 0.6934746610266822\n",
      "Validation Metrics - Accuracy: 0.56, Precision: 0.48936170212765956, Recall: 0.5348837209302325, F1-score: 0.5111111111111111\n",
      "Fold 1 Metrics:\n",
      "Accuracy: 0.56\n",
      "Precision: 0.48936170212765956\n",
      "Recall: 0.5348837209302325\n",
      "F1-score: 0.5111111111111111\n",
      "--------------------------------------------------\n",
      "Fold 2\n"
     ]
    },
    {
     "name": "stderr",
     "output_type": "stream",
     "text": [
      "C:\\Users\\mobee\\anaconda3\\Lib\\site-packages\\sklearn\\base.py:474: FutureWarning: `BaseEstimator._validate_data` is deprecated in 1.6 and will be removed in 1.7. Use `sklearn.utils.validation.validate_data` instead. This function becomes public and is part of the scikit-learn developer API.\n",
      "  warnings.warn(\n",
      "Some weights of BertForSequenceClassification were not initialized from the model checkpoint at bert-base-uncased and are newly initialized: ['classifier.bias', 'classifier.weight']\n",
      "You should probably TRAIN this model on a down-stream task to be able to use it for predictions and inference.\n"
     ]
    },
    {
     "name": "stdout",
     "output_type": "stream",
     "text": [
      "Epoch 1, Loss: 0.7029674372502736\n",
      "Validation Metrics - Accuracy: 0.53, Precision: 0.46153846153846156, Recall: 0.7142857142857143, F1-score: 0.5607476635514018\n",
      "Epoch 2, Loss: 0.6976037387337003\n",
      "Validation Metrics - Accuracy: 0.58, Precision: 0.5, Recall: 0.5714285714285714, F1-score: 0.5333333333333333\n",
      "Epoch 3, Loss: 0.6946080092872892\n"
     ]
    },
    {
     "name": "stderr",
     "output_type": "stream",
     "text": [
      "C:\\Users\\mobee\\anaconda3\\Lib\\site-packages\\sklearn\\metrics\\_classification.py:1565: UndefinedMetricWarning: Precision is ill-defined and being set to 0.0 due to no predicted samples. Use `zero_division` parameter to control this behavior.\n",
      "  _warn_prf(average, modifier, f\"{metric.capitalize()} is\", len(result))\n"
     ]
    },
    {
     "name": "stdout",
     "output_type": "stream",
     "text": [
      "Validation Metrics - Accuracy: 0.58, Precision: 0.0, Recall: 0.0, F1-score: 0.0\n",
      "Epoch 4, Loss: 0.6951819849865777\n",
      "Validation Metrics - Accuracy: 0.67, Precision: 0.8461538461538461, Recall: 0.2619047619047619, F1-score: 0.4\n",
      "Fold 2 Metrics:\n",
      "Accuracy: 0.67\n",
      "Precision: 0.8461538461538461\n",
      "Recall: 0.2619047619047619\n",
      "F1-score: 0.4\n",
      "--------------------------------------------------\n",
      "Fold 3\n"
     ]
    },
    {
     "name": "stderr",
     "output_type": "stream",
     "text": [
      "C:\\Users\\mobee\\anaconda3\\Lib\\site-packages\\sklearn\\base.py:474: FutureWarning: `BaseEstimator._validate_data` is deprecated in 1.6 and will be removed in 1.7. Use `sklearn.utils.validation.validate_data` instead. This function becomes public and is part of the scikit-learn developer API.\n",
      "  warnings.warn(\n",
      "Some weights of BertForSequenceClassification were not initialized from the model checkpoint at bert-base-uncased and are newly initialized: ['classifier.bias', 'classifier.weight']\n",
      "You should probably TRAIN this model on a down-stream task to be able to use it for predictions and inference.\n"
     ]
    },
    {
     "name": "stdout",
     "output_type": "stream",
     "text": [
      "Epoch 1, Loss: 0.700781313436372\n",
      "Validation Metrics - Accuracy: 0.54, Precision: 0.4473684210526316, Recall: 0.40476190476190477, F1-score: 0.425\n",
      "Epoch 2, Loss: 0.7029080625091281\n",
      "Validation Metrics - Accuracy: 0.42, Precision: 0.42, Recall: 1.0, F1-score: 0.5915492957746479\n",
      "Epoch 3, Loss: 0.6933027931622097\n",
      "Validation Metrics - Accuracy: 0.5, Precision: 0.4473684210526316, Recall: 0.8095238095238095, F1-score: 0.576271186440678\n",
      "Epoch 4, Loss: 0.7070259813751493\n"
     ]
    },
    {
     "name": "stderr",
     "output_type": "stream",
     "text": [
      "C:\\Users\\mobee\\anaconda3\\Lib\\site-packages\\sklearn\\metrics\\_classification.py:1565: UndefinedMetricWarning: Precision is ill-defined and being set to 0.0 due to no predicted samples. Use `zero_division` parameter to control this behavior.\n",
      "  _warn_prf(average, modifier, f\"{metric.capitalize()} is\", len(result))\n",
      "C:\\Users\\mobee\\anaconda3\\Lib\\site-packages\\sklearn\\metrics\\_classification.py:1565: UndefinedMetricWarning: Precision is ill-defined and being set to 0.0 due to no predicted samples. Use `zero_division` parameter to control this behavior.\n",
      "  _warn_prf(average, modifier, f\"{metric.capitalize()} is\", len(result))\n",
      "C:\\Users\\mobee\\anaconda3\\Lib\\site-packages\\sklearn\\base.py:474: FutureWarning: `BaseEstimator._validate_data` is deprecated in 1.6 and will be removed in 1.7. Use `sklearn.utils.validation.validate_data` instead. This function becomes public and is part of the scikit-learn developer API.\n",
      "  warnings.warn(\n"
     ]
    },
    {
     "name": "stdout",
     "output_type": "stream",
     "text": [
      "Validation Metrics - Accuracy: 0.58, Precision: 0.0, Recall: 0.0, F1-score: 0.0\n",
      "Fold 3 Metrics:\n",
      "Accuracy: 0.58\n",
      "Precision: 0.0\n",
      "Recall: 0.0\n",
      "F1-score: 0.0\n",
      "--------------------------------------------------\n",
      "Fold 4\n"
     ]
    },
    {
     "name": "stderr",
     "output_type": "stream",
     "text": [
      "Some weights of BertForSequenceClassification were not initialized from the model checkpoint at bert-base-uncased and are newly initialized: ['classifier.bias', 'classifier.weight']\n",
      "You should probably TRAIN this model on a down-stream task to be able to use it for predictions and inference.\n"
     ]
    },
    {
     "name": "stdout",
     "output_type": "stream",
     "text": [
      "Epoch 1, Loss: 0.7041041254997253\n",
      "Validation Metrics - Accuracy: 0.47, Precision: 0.0, Recall: 0.0, F1-score: 0.0\n",
      "Epoch 2, Loss: 0.693761944770813\n"
     ]
    },
    {
     "name": "stderr",
     "output_type": "stream",
     "text": [
      "C:\\Users\\mobee\\anaconda3\\Lib\\site-packages\\sklearn\\metrics\\_classification.py:1565: UndefinedMetricWarning: Precision is ill-defined and being set to 0.0 due to no predicted samples. Use `zero_division` parameter to control this behavior.\n",
      "  _warn_prf(average, modifier, f\"{metric.capitalize()} is\", len(result))\n"
     ]
    },
    {
     "name": "stdout",
     "output_type": "stream",
     "text": [
      "Validation Metrics - Accuracy: 0.48, Precision: 0.0, Recall: 0.0, F1-score: 0.0\n",
      "Epoch 3, Loss: 0.6948937897024483\n",
      "Validation Metrics - Accuracy: 0.51, Precision: 0.5172413793103449, Recall: 0.8653846153846154, F1-score: 0.6474820143884892\n",
      "Epoch 4, Loss: 0.6758325469904932\n"
     ]
    },
    {
     "name": "stderr",
     "output_type": "stream",
     "text": [
      "C:\\Users\\mobee\\anaconda3\\Lib\\site-packages\\sklearn\\metrics\\_classification.py:1565: UndefinedMetricWarning: Precision is ill-defined and being set to 0.0 due to no predicted samples. Use `zero_division` parameter to control this behavior.\n",
      "  _warn_prf(average, modifier, f\"{metric.capitalize()} is\", len(result))\n",
      "C:\\Users\\mobee\\anaconda3\\Lib\\site-packages\\sklearn\\metrics\\_classification.py:1565: UndefinedMetricWarning: Precision is ill-defined and being set to 0.0 due to no predicted samples. Use `zero_division` parameter to control this behavior.\n",
      "  _warn_prf(average, modifier, f\"{metric.capitalize()} is\", len(result))\n",
      "C:\\Users\\mobee\\anaconda3\\Lib\\site-packages\\sklearn\\base.py:474: FutureWarning: `BaseEstimator._validate_data` is deprecated in 1.6 and will be removed in 1.7. Use `sklearn.utils.validation.validate_data` instead. This function becomes public and is part of the scikit-learn developer API.\n",
      "  warnings.warn(\n"
     ]
    },
    {
     "name": "stdout",
     "output_type": "stream",
     "text": [
      "Validation Metrics - Accuracy: 0.48, Precision: 0.0, Recall: 0.0, F1-score: 0.0\n",
      "Fold 4 Metrics:\n",
      "Accuracy: 0.48\n",
      "Precision: 0.0\n",
      "Recall: 0.0\n",
      "F1-score: 0.0\n",
      "--------------------------------------------------\n",
      "Fold 5\n"
     ]
    },
    {
     "name": "stderr",
     "output_type": "stream",
     "text": [
      "Some weights of BertForSequenceClassification were not initialized from the model checkpoint at bert-base-uncased and are newly initialized: ['classifier.bias', 'classifier.weight']\n",
      "You should probably TRAIN this model on a down-stream task to be able to use it for predictions and inference.\n"
     ]
    },
    {
     "name": "stdout",
     "output_type": "stream",
     "text": [
      "Epoch 1, Loss: 0.7107342886073249\n",
      "Validation Metrics - Accuracy: 0.6, Precision: 0.5833333333333334, Recall: 0.16666666666666666, F1-score: 0.25925925925925924\n",
      "Epoch 2, Loss: 0.6741787833826882\n",
      "Validation Metrics - Accuracy: 0.59, Precision: 0.5714285714285714, Recall: 0.09523809523809523, F1-score: 0.16326530612244897\n",
      "Epoch 3, Loss: 0.6428852421896798\n",
      "Validation Metrics - Accuracy: 0.55, Precision: 0.47058823529411764, Recall: 0.5714285714285714, F1-score: 0.5161290322580645\n",
      "Epoch 4, Loss: 0.577810023512159\n",
      "Validation Metrics - Accuracy: 0.58, Precision: 0.5, Recall: 0.23809523809523808, F1-score: 0.3225806451612903\n",
      "Fold 5 Metrics:\n",
      "Accuracy: 0.58\n",
      "Precision: 0.5\n",
      "Recall: 0.23809523809523808\n",
      "F1-score: 0.3225806451612903\n",
      "--------------------------------------------------\n",
      "\n",
      "Results Table:\n",
      "   Fold  Accuracy  Precision   Recall  F1-score\n",
      "      1     0.560   0.489362 0.534884  0.511111\n",
      "      2     0.670   0.846154 0.261905  0.400000\n",
      "      3     0.580   0.000000 0.000000  0.000000\n",
      "      4     0.480   0.000000 0.000000  0.000000\n",
      "      5     0.580   0.500000 0.238095  0.322581\n",
      "Average     0.574   0.367103 0.206977  0.246738\n"
     ]
    }
   ],
   "source": [
    "import numpy as np\n",
    "import pandas as pd\n",
    "from sklearn.model_selection import KFold\n",
    "from sklearn.metrics import accuracy_score, precision_score, recall_score, f1_score\n",
    "from transformers import BertTokenizer, BertForSequenceClassification, AdamW\n",
    "from torch.utils.data import Dataset, DataLoader\n",
    "import torch\n",
    "from torch import nn\n",
    "from torch.optim import AdamW\n",
    "from urduhack.preprocessing import normalize_whitespace, remove_punctuation\n",
    "from urduhack.tokenization import sentence_tokenizer\n",
    "from imblearn.over_sampling import SMOTE\n",
    "from sklearn.feature_extraction.text import TfidfVectorizer\n",
    "import os\n",
    "\n",
    "# Enable multi-processing\n",
    "os.environ[\"TOKENIZERS_PARALLELISM\"] = \"true\"\n",
    "\n",
    "# Load pre-trained BERT tokenizer\n",
    "tokenizer = BertTokenizer.from_pretrained('bert-base-uncased')\n",
    "\n",
    "# Tokenize the text data\n",
    "def tokenize_text(texts, max_length=128):\n",
    "    return tokenizer(\n",
    "        texts.tolist(),  # Convert pandas Series to list\n",
    "        padding=True,\n",
    "        truncation=True,\n",
    "        max_length=max_length,\n",
    "        return_tensors='pt'\n",
    "    )\n",
    "\n",
    "# Apply text preprocessing\n",
    "df['preprocessed_text'] = df['tweets'].apply(lambda x: ' '.join(sentence_tokenizer(remove_punctuation(normalize_whitespace(x)))))\n",
    "\n",
    "# Split the data into features (X) and labels (y)\n",
    "X = df['preprocessed_text']\n",
    "y = df['encoded_sentiments']\n",
    "\n",
    "# Initialize K-Fold cross-validation\n",
    "kfold = KFold(n_splits=5, shuffle=True, random_state=42)\n",
    "\n",
    "# Store evaluation metrics for each fold\n",
    "results = []\n",
    "\n",
    "# Custom Dataset class\n",
    "class CustomDataset(Dataset):\n",
    "    def __init__(self, encodings, labels):\n",
    "        self.encodings = encodings\n",
    "        self.labels = labels\n",
    "\n",
    "    def __getitem__(self, idx):\n",
    "        item = {key: val[idx] for key, val in self.encodings.items()}\n",
    "        item['labels'] = torch.tensor(self.labels[idx])\n",
    "        return item\n",
    "\n",
    "    def __len__(self):\n",
    "        return len(self.labels)\n",
    "\n",
    "# Training function\n",
    "def train_model(model, train_loader, val_loader, optimizer, device, epochs=3):\n",
    "    model.to(device)\n",
    "    criterion = nn.CrossEntropyLoss()\n",
    "\n",
    "    for epoch in range(epochs):\n",
    "        model.train()\n",
    "        total_loss = 0\n",
    "        for batch in train_loader:\n",
    "            optimizer.zero_grad()\n",
    "            input_ids = batch['input_ids'].to(device)\n",
    "            attention_mask = batch['attention_mask'].to(device)\n",
    "            labels = batch['labels'].to(device)\n",
    "\n",
    "            outputs = model(input_ids, attention_mask=attention_mask, labels=labels)\n",
    "            loss = outputs.loss\n",
    "            loss.backward()\n",
    "            optimizer.step()\n",
    "\n",
    "            total_loss += loss.item()\n",
    "\n",
    "        print(f\"Epoch {epoch + 1}, Loss: {total_loss / len(train_loader)}\")\n",
    "\n",
    "        # Validation\n",
    "        model.eval()\n",
    "        val_preds, val_labels = [], []\n",
    "        with torch.no_grad():\n",
    "            for batch in val_loader:\n",
    "                input_ids = batch['input_ids'].to(device)\n",
    "                attention_mask = batch['attention_mask'].to(device)\n",
    "                labels = batch['labels'].to(device)\n",
    "\n",
    "                outputs = model(input_ids, attention_mask=attention_mask)\n",
    "                logits = outputs.logits\n",
    "                preds = torch.argmax(logits, dim=-1)\n",
    "\n",
    "                val_preds.extend(preds.cpu().numpy())\n",
    "                val_labels.extend(labels.cpu().numpy())\n",
    "\n",
    "        # Calculate metrics\n",
    "        accuracy = accuracy_score(val_labels, val_preds)\n",
    "        precision = precision_score(val_labels, val_preds)\n",
    "        recall = recall_score(val_labels, val_preds)\n",
    "        f1 = f1_score(val_labels, val_preds)\n",
    "\n",
    "        print(f\"Validation Metrics - Accuracy: {accuracy}, Precision: {precision}, Recall: {recall}, F1-score: {f1}\")\n",
    "\n",
    "    return val_preds, val_labels\n",
    "\n",
    "# K-Fold cross-validation loop\n",
    "device = torch.device(\"cuda\" if torch.cuda.is_available() else \"cpu\")\n",
    "\n",
    "for fold, (train_idx, val_idx) in enumerate(kfold.split(X)):\n",
    "    print(f\"Fold {fold + 1}\")\n",
    "\n",
    "    # Split data into training and validation sets\n",
    "    X_train, X_val = X.iloc[train_idx], X.iloc[val_idx]\n",
    "    y_train, y_val = y.iloc[train_idx], y.iloc[val_idx]\n",
    "\n",
    "    # Convert text to numerical features using TF-IDF\n",
    "    tfidf = TfidfVectorizer(max_features=5000)  # Adjust max_features as needed\n",
    "    X_train_tfidf = tfidf.fit_transform(X_train)\n",
    "    X_val_tfidf = tfidf.transform(X_val)\n",
    "\n",
    "    # Apply SMOTE to balance the classes\n",
    "    smote = SMOTE(random_state=42)\n",
    "    X_train_res, y_train_res = smote.fit_resample(X_train_tfidf, y_train)\n",
    "\n",
    "    # Convert TF-IDF features back to text (for BERT tokenization)\n",
    "    X_train_res_text = [\" \".join([tfidf.get_feature_names_out()[i] for i in doc.nonzero()[1]]) for doc in X_train_res]\n",
    "\n",
    "    # Tokenize the training and validation data\n",
    "    X_train_tokens = tokenize_text(pd.Series(X_train_res_text))\n",
    "    X_val_tokens = tokenize_text(X_val)\n",
    "\n",
    "    # Create custom datasets\n",
    "    train_dataset = CustomDataset(X_train_tokens, y_train_res.tolist())\n",
    "    val_dataset = CustomDataset(X_val_tokens, y_val.tolist())\n",
    "\n",
    "    # Create DataLoader\n",
    "    train_loader = DataLoader(train_dataset, batch_size=16, shuffle=True)\n",
    "    val_loader = DataLoader(val_dataset, batch_size=16)\n",
    "\n",
    "    # Load pre-trained BERT model for sequence classification\n",
    "    model = BertForSequenceClassification.from_pretrained('bert-base-uncased', num_labels=2)\n",
    "\n",
    "    # Set up optimizer with best parameters\n",
    "    optimizer = AdamW(model.parameters(), lr=2e-5, weight_decay=0.01)\n",
    "\n",
    "    # Train and evaluate the model\n",
    "    val_preds, val_labels = train_model(model, train_loader, val_loader, optimizer, device, epochs=4)\n",
    "\n",
    "    # Calculate metrics for the current fold\n",
    "    accuracy = accuracy_score(val_labels, val_preds)\n",
    "    precision = precision_score(val_labels, val_preds)\n",
    "    recall = recall_score(val_labels, val_preds)\n",
    "    f1 = f1_score(val_labels, val_preds)\n",
    "\n",
    "    # Store metrics for the current fold\n",
    "    results.append({\n",
    "        'Fold': fold + 1,\n",
    "        'Accuracy': accuracy,\n",
    "        'Precision': precision,\n",
    "        'Recall': recall,\n",
    "        'F1-score': f1\n",
    "    })\n",
    "\n",
    "    print(f\"Fold {fold + 1} Metrics:\")\n",
    "    print(f\"Accuracy: {accuracy}\")\n",
    "    print(f\"Precision: {precision}\")\n",
    "    print(f\"Recall: {recall}\")\n",
    "    print(f\"F1-score: {f1}\")\n",
    "    print(\"-\" * 50)\n",
    "\n",
    "# Convert results to a DataFrame\n",
    "results_df = pd.DataFrame(results)\n",
    "\n",
    "# Calculate average metrics across all folds\n",
    "avg_metrics = pd.DataFrame({\n",
    "    'Fold': ['Average'],\n",
    "    'Accuracy': [results_df['Accuracy'].mean()],\n",
    "    'Precision': [results_df['Precision'].mean()],\n",
    "    'Recall': [results_df['Recall'].mean()],\n",
    "    'F1-score': [results_df['F1-score'].mean()]\n",
    "})\n",
    "\n",
    "# Append the average metrics to the results table\n",
    "results_df = pd.concat([results_df, avg_metrics], ignore_index=True)\n",
    "\n",
    "# Print the results table\n",
    "print(\"\\nResults Table:\")\n",
    "print(results_df.to_string(index=False))"
   ]
  },
  {
   "cell_type": "markdown",
   "metadata": {},
   "source": [
    "# BERT + smote + TFIDF + kfold 10 Epoches "
   ]
  },
  {
   "cell_type": "code",
   "execution_count": 112,
   "metadata": {},
   "outputs": [
    {
     "name": "stdout",
     "output_type": "stream",
     "text": [
      "Fold 1\n"
     ]
    },
    {
     "name": "stderr",
     "output_type": "stream",
     "text": [
      "C:\\Users\\mobee\\anaconda3\\Lib\\site-packages\\sklearn\\base.py:474: FutureWarning: `BaseEstimator._validate_data` is deprecated in 1.6 and will be removed in 1.7. Use `sklearn.utils.validation.validate_data` instead. This function becomes public and is part of the scikit-learn developer API.\n",
      "  warnings.warn(\n",
      "Some weights of BertForSequenceClassification were not initialized from the model checkpoint at bert-base-uncased and are newly initialized: ['classifier.bias', 'classifier.weight']\n",
      "You should probably TRAIN this model on a down-stream task to be able to use it for predictions and inference.\n"
     ]
    },
    {
     "name": "stdout",
     "output_type": "stream",
     "text": [
      "Epoch 1, Loss: 0.7106067346675056\n",
      "Validation Metrics - Accuracy: 0.57, Precision: 0.5, Recall: 0.09302325581395349, F1-score: 0.1568627450980392\n",
      "Epoch 2, Loss: 0.6995892865317208\n",
      "Validation Metrics - Accuracy: 0.43, Precision: 0.43, Recall: 1.0, F1-score: 0.6013986013986014\n",
      "Epoch 3, Loss: 0.6828560914312091\n",
      "Validation Metrics - Accuracy: 0.43, Precision: 0.40540540540540543, Recall: 0.6976744186046512, F1-score: 0.5128205128205128\n",
      "Epoch 4, Loss: 0.6943575739860535\n",
      "Validation Metrics - Accuracy: 0.43, Precision: 0.43, Recall: 1.0, F1-score: 0.6013986013986014\n",
      "Epoch 5, Loss: 0.6987515730517251\n"
     ]
    },
    {
     "name": "stderr",
     "output_type": "stream",
     "text": [
      "C:\\Users\\mobee\\anaconda3\\Lib\\site-packages\\sklearn\\metrics\\_classification.py:1565: UndefinedMetricWarning: Precision is ill-defined and being set to 0.0 due to no predicted samples. Use `zero_division` parameter to control this behavior.\n",
      "  _warn_prf(average, modifier, f\"{metric.capitalize()} is\", len(result))\n"
     ]
    },
    {
     "name": "stdout",
     "output_type": "stream",
     "text": [
      "Validation Metrics - Accuracy: 0.57, Precision: 0.0, Recall: 0.0, F1-score: 0.0\n",
      "Epoch 6, Loss: 0.6933649884802955\n",
      "Validation Metrics - Accuracy: 0.42, Precision: 0.42105263157894735, Recall: 0.9302325581395349, F1-score: 0.5797101449275363\n",
      "Epoch 7, Loss: 0.690590175134795\n",
      "Validation Metrics - Accuracy: 0.45, Precision: 0.4166666666666667, Recall: 0.6976744186046512, F1-score: 0.5217391304347826\n",
      "Epoch 8, Loss: 0.6538669275385993\n",
      "Validation Metrics - Accuracy: 0.44, Precision: 0.4235294117647059, Recall: 0.8372093023255814, F1-score: 0.5625\n",
      "Epoch 9, Loss: 0.5841893777251244\n",
      "Validation Metrics - Accuracy: 0.5, Precision: 0.43137254901960786, Recall: 0.5116279069767442, F1-score: 0.46808510638297873\n",
      "Epoch 10, Loss: 0.45100588883672443\n",
      "Validation Metrics - Accuracy: 0.56, Precision: 0.48484848484848486, Recall: 0.37209302325581395, F1-score: 0.42105263157894735\n",
      "Fold 1 Metrics:\n",
      "Accuracy: 0.56\n",
      "Precision: 0.48484848484848486\n",
      "Recall: 0.37209302325581395\n",
      "F1-score: 0.42105263157894735\n",
      "--------------------------------------------------\n",
      "Fold 2\n"
     ]
    },
    {
     "name": "stderr",
     "output_type": "stream",
     "text": [
      "C:\\Users\\mobee\\anaconda3\\Lib\\site-packages\\sklearn\\base.py:474: FutureWarning: `BaseEstimator._validate_data` is deprecated in 1.6 and will be removed in 1.7. Use `sklearn.utils.validation.validate_data` instead. This function becomes public and is part of the scikit-learn developer API.\n",
      "  warnings.warn(\n",
      "Some weights of BertForSequenceClassification were not initialized from the model checkpoint at bert-base-uncased and are newly initialized: ['classifier.bias', 'classifier.weight']\n",
      "You should probably TRAIN this model on a down-stream task to be able to use it for predictions and inference.\n"
     ]
    },
    {
     "name": "stdout",
     "output_type": "stream",
     "text": [
      "Epoch 1, Loss: 0.7034754838262286\n",
      "Validation Metrics - Accuracy: 0.42, Precision: 0.42, Recall: 1.0, F1-score: 0.5915492957746479\n",
      "Epoch 2, Loss: 0.7088031619787216\n"
     ]
    },
    {
     "name": "stderr",
     "output_type": "stream",
     "text": [
      "C:\\Users\\mobee\\anaconda3\\Lib\\site-packages\\sklearn\\metrics\\_classification.py:1565: UndefinedMetricWarning: Precision is ill-defined and being set to 0.0 due to no predicted samples. Use `zero_division` parameter to control this behavior.\n",
      "  _warn_prf(average, modifier, f\"{metric.capitalize()} is\", len(result))\n"
     ]
    },
    {
     "name": "stdout",
     "output_type": "stream",
     "text": [
      "Validation Metrics - Accuracy: 0.58, Precision: 0.0, Recall: 0.0, F1-score: 0.0\n",
      "Epoch 3, Loss: 0.7106778834547315\n",
      "Validation Metrics - Accuracy: 0.42, Precision: 0.41836734693877553, Recall: 0.9761904761904762, F1-score: 0.5857142857142857\n",
      "Epoch 4, Loss: 0.6974053915057864\n",
      "Validation Metrics - Accuracy: 0.42, Precision: 0.42, Recall: 1.0, F1-score: 0.5915492957746479\n",
      "Epoch 5, Loss: 0.6986642756632396\n"
     ]
    },
    {
     "name": "stderr",
     "output_type": "stream",
     "text": [
      "C:\\Users\\mobee\\anaconda3\\Lib\\site-packages\\sklearn\\metrics\\_classification.py:1565: UndefinedMetricWarning: Precision is ill-defined and being set to 0.0 due to no predicted samples. Use `zero_division` parameter to control this behavior.\n",
      "  _warn_prf(average, modifier, f\"{metric.capitalize()} is\", len(result))\n"
     ]
    },
    {
     "name": "stdout",
     "output_type": "stream",
     "text": [
      "Validation Metrics - Accuracy: 0.58, Precision: 0.0, Recall: 0.0, F1-score: 0.0\n",
      "Epoch 6, Loss: 0.6913516074419022\n",
      "Validation Metrics - Accuracy: 0.59, Precision: 0.6666666666666666, Recall: 0.047619047619047616, F1-score: 0.08888888888888889\n",
      "Epoch 7, Loss: 0.6936284005641937\n",
      "Validation Metrics - Accuracy: 0.42, Precision: 0.4148936170212766, Recall: 0.9285714285714286, F1-score: 0.5735294117647058\n",
      "Epoch 8, Loss: 0.704317358987672\n"
     ]
    },
    {
     "name": "stderr",
     "output_type": "stream",
     "text": [
      "C:\\Users\\mobee\\anaconda3\\Lib\\site-packages\\sklearn\\metrics\\_classification.py:1565: UndefinedMetricWarning: Precision is ill-defined and being set to 0.0 due to no predicted samples. Use `zero_division` parameter to control this behavior.\n",
      "  _warn_prf(average, modifier, f\"{metric.capitalize()} is\", len(result))\n"
     ]
    },
    {
     "name": "stdout",
     "output_type": "stream",
     "text": [
      "Validation Metrics - Accuracy: 0.58, Precision: 0.0, Recall: 0.0, F1-score: 0.0\n",
      "Epoch 9, Loss: 0.656814598611423\n",
      "Validation Metrics - Accuracy: 0.6, Precision: 0.5263157894736842, Recall: 0.47619047619047616, F1-score: 0.5\n",
      "Epoch 10, Loss: 0.614324155662741\n",
      "Validation Metrics - Accuracy: 0.61, Precision: 0.5294117647058824, Recall: 0.6428571428571429, F1-score: 0.5806451612903226\n",
      "Fold 2 Metrics:\n",
      "Accuracy: 0.61\n",
      "Precision: 0.5294117647058824\n",
      "Recall: 0.6428571428571429\n",
      "F1-score: 0.5806451612903226\n",
      "--------------------------------------------------\n",
      "Fold 3\n"
     ]
    },
    {
     "name": "stderr",
     "output_type": "stream",
     "text": [
      "C:\\Users\\mobee\\anaconda3\\Lib\\site-packages\\sklearn\\base.py:474: FutureWarning: `BaseEstimator._validate_data` is deprecated in 1.6 and will be removed in 1.7. Use `sklearn.utils.validation.validate_data` instead. This function becomes public and is part of the scikit-learn developer API.\n",
      "  warnings.warn(\n",
      "Some weights of BertForSequenceClassification were not initialized from the model checkpoint at bert-base-uncased and are newly initialized: ['classifier.bias', 'classifier.weight']\n",
      "You should probably TRAIN this model on a down-stream task to be able to use it for predictions and inference.\n"
     ]
    },
    {
     "name": "stdout",
     "output_type": "stream",
     "text": [
      "Epoch 1, Loss: 0.6984698793717793\n"
     ]
    },
    {
     "name": "stderr",
     "output_type": "stream",
     "text": [
      "C:\\Users\\mobee\\anaconda3\\Lib\\site-packages\\sklearn\\metrics\\_classification.py:1565: UndefinedMetricWarning: Precision is ill-defined and being set to 0.0 due to no predicted samples. Use `zero_division` parameter to control this behavior.\n",
      "  _warn_prf(average, modifier, f\"{metric.capitalize()} is\", len(result))\n"
     ]
    },
    {
     "name": "stdout",
     "output_type": "stream",
     "text": [
      "Validation Metrics - Accuracy: 0.58, Precision: 0.0, Recall: 0.0, F1-score: 0.0\n",
      "Epoch 2, Loss: 0.6936164391892297\n",
      "Validation Metrics - Accuracy: 0.41, Precision: 0.40229885057471265, Recall: 0.8333333333333334, F1-score: 0.5426356589147286\n",
      "Epoch 3, Loss: 0.7020534532410758\n",
      "Validation Metrics - Accuracy: 0.44, Precision: 0.4186046511627907, Recall: 0.8571428571428571, F1-score: 0.5625\n",
      "Epoch 4, Loss: 0.6766883432865143\n",
      "Validation Metrics - Accuracy: 0.58, Precision: 0.5, Recall: 0.5714285714285714, F1-score: 0.5333333333333333\n",
      "Epoch 5, Loss: 0.6351934884275708\n",
      "Validation Metrics - Accuracy: 0.58, Precision: 0.5, Recall: 0.16666666666666666, F1-score: 0.25\n",
      "Epoch 6, Loss: 0.604994613145079\n",
      "Validation Metrics - Accuracy: 0.55, Precision: 0.44, Recall: 0.2619047619047619, F1-score: 0.3283582089552239\n",
      "Epoch 7, Loss: 0.5752219312957355\n",
      "Validation Metrics - Accuracy: 0.52, Precision: 0.4423076923076923, Recall: 0.5476190476190477, F1-score: 0.48936170212765956\n",
      "Epoch 8, Loss: 0.4393160662480763\n",
      "Validation Metrics - Accuracy: 0.53, Precision: 0.4418604651162791, Recall: 0.4523809523809524, F1-score: 0.4470588235294118\n",
      "Epoch 9, Loss: 0.3705455426658903\n",
      "Validation Metrics - Accuracy: 0.57, Precision: 0.48936170212765956, Recall: 0.5476190476190477, F1-score: 0.5168539325842697\n",
      "Epoch 10, Loss: 0.2522025105676481\n",
      "Validation Metrics - Accuracy: 0.6, Precision: 0.5172413793103449, Recall: 0.7142857142857143, F1-score: 0.6\n",
      "Fold 3 Metrics:\n",
      "Accuracy: 0.6\n",
      "Precision: 0.5172413793103449\n",
      "Recall: 0.7142857142857143\n",
      "F1-score: 0.6\n",
      "--------------------------------------------------\n",
      "Fold 4\n"
     ]
    },
    {
     "name": "stderr",
     "output_type": "stream",
     "text": [
      "C:\\Users\\mobee\\anaconda3\\Lib\\site-packages\\sklearn\\base.py:474: FutureWarning: `BaseEstimator._validate_data` is deprecated in 1.6 and will be removed in 1.7. Use `sklearn.utils.validation.validate_data` instead. This function becomes public and is part of the scikit-learn developer API.\n",
      "  warnings.warn(\n",
      "Some weights of BertForSequenceClassification were not initialized from the model checkpoint at bert-base-uncased and are newly initialized: ['classifier.bias', 'classifier.weight']\n",
      "You should probably TRAIN this model on a down-stream task to be able to use it for predictions and inference.\n"
     ]
    },
    {
     "name": "stdout",
     "output_type": "stream",
     "text": [
      "Epoch 1, Loss: 0.7078336312853056\n",
      "Validation Metrics - Accuracy: 0.52, Precision: 0.52, Recall: 1.0, F1-score: 0.6842105263157895\n",
      "Epoch 2, Loss: 0.7021798203731405\n",
      "Validation Metrics - Accuracy: 0.52, Precision: 0.52, Recall: 1.0, F1-score: 0.6842105263157895\n",
      "Epoch 3, Loss: 0.6901085541166109\n",
      "Validation Metrics - Accuracy: 0.48, Precision: 0.5, Recall: 0.038461538461538464, F1-score: 0.07142857142857142\n",
      "Epoch 4, Loss: 0.6741563595574478\n",
      "Validation Metrics - Accuracy: 0.49, Precision: 0.5098039215686274, Recall: 0.5, F1-score: 0.5048543689320388\n",
      "Epoch 5, Loss: 0.665179470489765\n",
      "Validation Metrics - Accuracy: 0.43, Precision: 0.38095238095238093, Recall: 0.15384615384615385, F1-score: 0.2191780821917808\n",
      "Epoch 6, Loss: 0.6135766896708258\n",
      "Validation Metrics - Accuracy: 0.48, Precision: 0.5, Recall: 0.21153846153846154, F1-score: 0.2972972972972973\n",
      "Epoch 7, Loss: 0.6076372173325769\n",
      "Validation Metrics - Accuracy: 0.44, Precision: 0.4583333333333333, Recall: 0.4230769230769231, F1-score: 0.44\n",
      "Epoch 8, Loss: 0.5338346629307188\n",
      "Validation Metrics - Accuracy: 0.43, Precision: 0.43243243243243246, Recall: 0.3076923076923077, F1-score: 0.3595505617977528\n",
      "Epoch 9, Loss: 0.40202177701325253\n",
      "Validation Metrics - Accuracy: 0.5, Precision: 0.5333333333333333, Recall: 0.3076923076923077, F1-score: 0.3902439024390244\n",
      "Epoch 10, Loss: 0.3483934798117342\n",
      "Validation Metrics - Accuracy: 0.46, Precision: 0.48214285714285715, Recall: 0.5192307692307693, F1-score: 0.5\n",
      "Fold 4 Metrics:\n",
      "Accuracy: 0.46\n",
      "Precision: 0.48214285714285715\n",
      "Recall: 0.5192307692307693\n",
      "F1-score: 0.5\n",
      "--------------------------------------------------\n",
      "Fold 5\n"
     ]
    },
    {
     "name": "stderr",
     "output_type": "stream",
     "text": [
      "C:\\Users\\mobee\\anaconda3\\Lib\\site-packages\\sklearn\\base.py:474: FutureWarning: `BaseEstimator._validate_data` is deprecated in 1.6 and will be removed in 1.7. Use `sklearn.utils.validation.validate_data` instead. This function becomes public and is part of the scikit-learn developer API.\n",
      "  warnings.warn(\n",
      "Some weights of BertForSequenceClassification were not initialized from the model checkpoint at bert-base-uncased and are newly initialized: ['classifier.bias', 'classifier.weight']\n",
      "You should probably TRAIN this model on a down-stream task to be able to use it for predictions and inference.\n"
     ]
    },
    {
     "name": "stdout",
     "output_type": "stream",
     "text": [
      "Epoch 1, Loss: 0.7040570399590901\n",
      "Validation Metrics - Accuracy: 0.49, Precision: 0.38461538461538464, Recall: 0.35714285714285715, F1-score: 0.37037037037037035\n",
      "Epoch 2, Loss: 0.7092018148728779\n",
      "Validation Metrics - Accuracy: 0.56, Precision: 0.45454545454545453, Recall: 0.23809523809523808, F1-score: 0.3125\n",
      "Epoch 3, Loss: 0.6970307784421104\n",
      "Validation Metrics - Accuracy: 0.46, Precision: 0.4375, Recall: 1.0, F1-score: 0.6086956521739131\n",
      "Epoch 4, Loss: 0.6888635413987296\n",
      "Validation Metrics - Accuracy: 0.57, Precision: 0.45454545454545453, Recall: 0.11904761904761904, F1-score: 0.18867924528301888\n",
      "Epoch 5, Loss: 0.6702831046921867\n",
      "Validation Metrics - Accuracy: 0.41, Precision: 0.40860215053763443, Recall: 0.9047619047619048, F1-score: 0.562962962962963\n",
      "Epoch 6, Loss: 0.6407305938856942\n",
      "Validation Metrics - Accuracy: 0.48, Precision: 0.4342105263157895, Recall: 0.7857142857142857, F1-score: 0.559322033898305\n",
      "Epoch 7, Loss: 0.6556683640394892\n",
      "Validation Metrics - Accuracy: 0.42, Precision: 0.42, Recall: 1.0, F1-score: 0.5915492957746479\n",
      "Epoch 8, Loss: 0.6374153175524303\n",
      "Validation Metrics - Accuracy: 0.52, Precision: 0.42857142857142855, Recall: 0.42857142857142855, F1-score: 0.42857142857142855\n",
      "Epoch 9, Loss: 0.5579888064946447\n",
      "Validation Metrics - Accuracy: 0.55, Precision: 0.46153846153846156, Recall: 0.42857142857142855, F1-score: 0.4444444444444444\n",
      "Epoch 10, Loss: 0.4434982974614416\n",
      "Validation Metrics - Accuracy: 0.52, Precision: 0.4117647058823529, Recall: 0.3333333333333333, F1-score: 0.3684210526315789\n",
      "Fold 5 Metrics:\n",
      "Accuracy: 0.52\n",
      "Precision: 0.4117647058823529\n",
      "Recall: 0.3333333333333333\n",
      "F1-score: 0.3684210526315789\n",
      "--------------------------------------------------\n",
      "\n",
      "Results Table:\n",
      "   Fold  Accuracy  Precision   Recall  F1-score\n",
      "      1      0.56   0.484848 0.372093  0.421053\n",
      "      2      0.61   0.529412 0.642857  0.580645\n",
      "      3      0.60   0.517241 0.714286  0.600000\n",
      "      4      0.46   0.482143 0.519231  0.500000\n",
      "      5      0.52   0.411765 0.333333  0.368421\n",
      "Average      0.55   0.485082 0.516360  0.494024\n"
     ]
    }
   ],
   "source": [
    "import numpy as np\n",
    "import pandas as pd\n",
    "from sklearn.model_selection import  KFold\n",
    "from sklearn.metrics import accuracy_score, precision_score, recall_score, f1_score\n",
    "from transformers import BertTokenizer, BertForSequenceClassification, AdamW\n",
    "from torch.utils.data import Dataset, DataLoader\n",
    "import torch\n",
    "from torch import nn\n",
    "from torch.optim import AdamW\n",
    "from urduhack.preprocessing import normalize_whitespace, remove_punctuation\n",
    "from urduhack.tokenization import sentence_tokenizer\n",
    "from imblearn.over_sampling import SMOTE\n",
    "from sklearn.feature_extraction.text import TfidfVectorizer\n",
    "import os\n",
    "\n",
    "# Enable multi-processing\n",
    "os.environ[\"TOKENIZERS_PARALLELISM\"] = \"true\"\n",
    "\n",
    "# Load pre-trained BERT tokenizer\n",
    "tokenizer = BertTokenizer.from_pretrained('bert-base-uncased')\n",
    "\n",
    "# Tokenize the text data\n",
    "def tokenize_text(texts, max_length=128):\n",
    "    return tokenizer(\n",
    "        texts.tolist(),  # Convert pandas Series to list\n",
    "        padding=True,\n",
    "        truncation=True,\n",
    "        max_length=max_length,\n",
    "        return_tensors='pt'\n",
    "    )\n",
    "\n",
    "# Apply text preprocessing\n",
    "df['preprocessed_text'] = df['tweets'].apply(lambda x: ' '.join(sentence_tokenizer(remove_punctuation(normalize_whitespace(x)))))\n",
    "\n",
    "# Split the data into features (X) and labels (y)\n",
    "X = df['preprocessed_text']\n",
    "y = df['encoded_sentiments']\n",
    "\n",
    "# Initialize K-Fold cross-validation\n",
    "kfold = KFold(n_splits=5, shuffle=True, random_state=42)\n",
    "\n",
    "# Store evaluation metrics for each fold\n",
    "results = []\n",
    "\n",
    "# Custom Dataset class\n",
    "class CustomDataset(Dataset):\n",
    "    def __init__(self, encodings, labels):\n",
    "        self.encodings = encodings\n",
    "        self.labels = labels\n",
    "\n",
    "    def __getitem__(self, idx):\n",
    "        item = {key: val[idx] for key, val in self.encodings.items()}\n",
    "        item['labels'] = torch.tensor(self.labels[idx])\n",
    "        return item\n",
    "\n",
    "    def __len__(self):\n",
    "        return len(self.labels)\n",
    "\n",
    "# Training function\n",
    "def train_model(model, train_loader, val_loader, optimizer, device, epochs=10):\n",
    "    model.to(device)\n",
    "    criterion = nn.CrossEntropyLoss()\n",
    "\n",
    "    for epoch in range(epochs):\n",
    "        model.train()\n",
    "        total_loss = 0\n",
    "        for batch in train_loader:\n",
    "            optimizer.zero_grad()\n",
    "            input_ids = batch['input_ids'].to(device)\n",
    "            attention_mask = batch['attention_mask'].to(device)\n",
    "            labels = batch['labels'].to(device)\n",
    "\n",
    "            outputs = model(input_ids, attention_mask=attention_mask, labels=labels)\n",
    "            loss = outputs.loss\n",
    "            loss.backward()\n",
    "            optimizer.step()\n",
    "\n",
    "            total_loss += loss.item()\n",
    "\n",
    "        print(f\"Epoch {epoch + 1}, Loss: {total_loss / len(train_loader)}\")\n",
    "\n",
    "        # Validation\n",
    "        model.eval()\n",
    "        val_preds, val_labels = [], []\n",
    "        with torch.no_grad():\n",
    "            for batch in val_loader:\n",
    "                input_ids = batch['input_ids'].to(device)\n",
    "                attention_mask = batch['attention_mask'].to(device)\n",
    "                labels = batch['labels'].to(device)\n",
    "\n",
    "                outputs = model(input_ids, attention_mask=attention_mask)\n",
    "                logits = outputs.logits\n",
    "                preds = torch.argmax(logits, dim=-1)\n",
    "\n",
    "                val_preds.extend(preds.cpu().numpy())\n",
    "                val_labels.extend(labels.cpu().numpy())\n",
    "\n",
    "        # Calculate metrics\n",
    "        accuracy = accuracy_score(val_labels, val_preds)\n",
    "        precision = precision_score(val_labels, val_preds)\n",
    "        recall = recall_score(val_labels, val_preds)\n",
    "        f1 = f1_score(val_labels, val_preds)\n",
    "\n",
    "        print(f\"Validation Metrics - Accuracy: {accuracy}, Precision: {precision}, Recall: {recall}, F1-score: {f1}\")\n",
    "\n",
    "    return val_preds, val_labels\n",
    "\n",
    "# K-Fold cross-validation loop\n",
    "device = torch.device(\"cuda\" if torch.cuda.is_available() else \"cpu\")\n",
    "\n",
    "for fold, (train_idx, val_idx) in enumerate(kfold.split(X)):\n",
    "    print(f\"Fold {fold + 1}\")\n",
    "\n",
    "    # Split data into training and validation sets\n",
    "    X_train, X_val = X.iloc[train_idx], X.iloc[val_idx]\n",
    "    y_train, y_val = y.iloc[train_idx], y.iloc[val_idx]\n",
    "\n",
    "    # Convert text to numerical features using TF-IDF\n",
    "    tfidf = TfidfVectorizer(max_features=5000)  # Adjust max_features as needed\n",
    "    X_train_tfidf = tfidf.fit_transform(X_train)\n",
    "    X_val_tfidf = tfidf.transform(X_val)\n",
    "\n",
    "    # Apply SMOTE to balance the classes\n",
    "    smote = SMOTE(random_state=42)\n",
    "    X_train_res, y_train_res = smote.fit_resample(X_train_tfidf, y_train)\n",
    "\n",
    "    # Convert TF-IDF features back to text (for BERT tokenization)\n",
    "    X_train_res_text = [\" \".join([tfidf.get_feature_names_out()[i] for i in doc.nonzero()[1]]) for doc in X_train_res]\n",
    "\n",
    "    # Tokenize the training and validation data\n",
    "    X_train_tokens = tokenize_text(pd.Series(X_train_res_text))\n",
    "    X_val_tokens = tokenize_text(X_val)\n",
    "\n",
    "    # Create custom datasets\n",
    "    train_dataset = CustomDataset(X_train_tokens, y_train_res.tolist())\n",
    "    val_dataset = CustomDataset(X_val_tokens, y_val.tolist())\n",
    "\n",
    "    # Create DataLoader\n",
    "    train_loader = DataLoader(train_dataset, batch_size=16, shuffle=True)\n",
    "    val_loader = DataLoader(val_dataset, batch_size=16)\n",
    "\n",
    "    # Load pre-trained BERT model for sequence classification\n",
    "    model = BertForSequenceClassification.from_pretrained('bert-base-uncased', num_labels=2)\n",
    "\n",
    "    # Set up optimizer with best parameters\n",
    "    optimizer = AdamW(model.parameters(), lr=2e-5, weight_decay=0.01)\n",
    "\n",
    "    # Train and evaluate the model\n",
    "    val_preds, val_labels = train_model(model, train_loader, val_loader, optimizer, device, epochs=10)\n",
    "\n",
    "    # Calculate metrics for the current fold\n",
    "    accuracy = accuracy_score(val_labels, val_preds)\n",
    "    precision = precision_score(val_labels, val_preds)\n",
    "    recall = recall_score(val_labels, val_preds)\n",
    "    f1 = f1_score(val_labels, val_preds)\n",
    "\n",
    "    # Store metrics for the current fold\n",
    "    results.append({\n",
    "        'Fold': fold + 1,\n",
    "        'Accuracy': accuracy,\n",
    "        'Precision': precision,\n",
    "        'Recall': recall,\n",
    "        'F1-score': f1\n",
    "    })\n",
    "\n",
    "    print(f\"Fold {fold + 1} Metrics:\")\n",
    "    print(f\"Accuracy: {accuracy}\")\n",
    "    print(f\"Precision: {precision}\")\n",
    "    print(f\"Recall: {recall}\")\n",
    "    print(f\"F1-score: {f1}\")\n",
    "    print(\"-\" * 50)\n",
    "\n",
    "# Convert results to a DataFrame\n",
    "results_df = pd.DataFrame(results)\n",
    "\n",
    "# Calculate average metrics across all folds\n",
    "avg_metrics = pd.DataFrame({\n",
    "    'Fold': ['Average'],\n",
    "    'Accuracy': [results_df['Accuracy'].mean()],\n",
    "    'Precision': [results_df['Precision'].mean()],\n",
    "    'Recall': [results_df['Recall'].mean()],\n",
    "    'F1-score': [results_df['F1-score'].mean()]\n",
    "})\n",
    "\n",
    "# Append the average metrics to the results table\n",
    "results_df = pd.concat([results_df, avg_metrics], ignore_index=True)\n",
    "\n",
    "# Print the results table\n",
    "print(\"\\nResults Table:\")\n",
    "print(results_df.to_string(index=False))"
   ]
  },
  {
   "cell_type": "markdown",
   "metadata": {},
   "source": [
    "# BertTokenizer, BertForSequenceClassification,\n",
    "  #  XLMRobertaTokenizer, XLMRobertaForSequenceClassification,\n",
    "   # RobertaTokenizer, RobertaForSequenceClassification,"
   ]
  },
  {
   "cell_type": "code",
   "execution_count": 61,
   "metadata": {},
   "outputs": [
    {
     "name": "stderr",
     "output_type": "stream",
     "text": [
      "Some weights of BertForSequenceClassification were not initialized from the model checkpoint at bert-base-multilingual-cased and are newly initialized: ['classifier.bias', 'classifier.weight']\n",
      "You should probably TRAIN this model on a down-stream task to be able to use it for predictions and inference.\n"
     ]
    },
    {
     "data": {
      "application/vnd.jupyter.widget-view+json": {
       "model_id": "eab0a0d069de4bfbbf80a018a3724b70",
       "version_major": 2,
       "version_minor": 0
      },
      "text/plain": [
       "model.safetensors:  34%|###3      | 377M/1.12G [00:00<?, ?B/s]"
      ]
     },
     "metadata": {},
     "output_type": "display_data"
    },
    {
     "name": "stderr",
     "output_type": "stream",
     "text": [
      "Some weights of XLMRobertaForSequenceClassification were not initialized from the model checkpoint at xlm-roberta-base and are newly initialized: ['classifier.dense.bias', 'classifier.dense.weight', 'classifier.out_proj.bias', 'classifier.out_proj.weight']\n",
      "You should probably TRAIN this model on a down-stream task to be able to use it for predictions and inference.\n"
     ]
    },
    {
     "data": {
      "application/vnd.jupyter.widget-view+json": {
       "model_id": "fa51dd0a7e4845aaacb9f44129f4205f",
       "version_major": 2,
       "version_minor": 0
      },
      "text/plain": [
       "tokenizer_config.json:   0%|          | 0.00/25.0 [00:00<?, ?B/s]"
      ]
     },
     "metadata": {},
     "output_type": "display_data"
    },
    {
     "name": "stderr",
     "output_type": "stream",
     "text": [
      "C:\\Users\\mobee\\anaconda3\\Lib\\site-packages\\huggingface_hub\\file_download.py:142: UserWarning: `huggingface_hub` cache-system uses symlinks by default to efficiently store duplicated files but your machine does not support them in C:\\Users\\mobee\\.cache\\huggingface\\hub\\models--roberta-base. Caching files will still work but in a degraded version that might require more space on your disk. This warning can be disabled by setting the `HF_HUB_DISABLE_SYMLINKS_WARNING` environment variable. For more details, see https://huggingface.co/docs/huggingface_hub/how-to-cache#limitations.\n",
      "To support symlinks on Windows, you either need to activate Developer Mode or to run Python as an administrator. In order to activate developer mode, see this article: https://docs.microsoft.com/en-us/windows/apps/get-started/enable-your-device-for-development\n",
      "  warnings.warn(message)\n"
     ]
    },
    {
     "data": {
      "application/vnd.jupyter.widget-view+json": {
       "model_id": "afd055f9feab4a1fa66d8f39ef51eeb2",
       "version_major": 2,
       "version_minor": 0
      },
      "text/plain": [
       "vocab.json:   0%|          | 0.00/899k [00:00<?, ?B/s]"
      ]
     },
     "metadata": {},
     "output_type": "display_data"
    },
    {
     "data": {
      "application/vnd.jupyter.widget-view+json": {
       "model_id": "88a47265001c4fd9bab84dd426c5e3d5",
       "version_major": 2,
       "version_minor": 0
      },
      "text/plain": [
       "merges.txt:   0%|          | 0.00/456k [00:00<?, ?B/s]"
      ]
     },
     "metadata": {},
     "output_type": "display_data"
    },
    {
     "data": {
      "application/vnd.jupyter.widget-view+json": {
       "model_id": "32950e140bfe43be90fd32dc668e4408",
       "version_major": 2,
       "version_minor": 0
      },
      "text/plain": [
       "tokenizer.json:   0%|          | 0.00/1.36M [00:00<?, ?B/s]"
      ]
     },
     "metadata": {},
     "output_type": "display_data"
    },
    {
     "data": {
      "application/vnd.jupyter.widget-view+json": {
       "model_id": "a697fee4e11243adaa65f3dc767ca030",
       "version_major": 2,
       "version_minor": 0
      },
      "text/plain": [
       "config.json:   0%|          | 0.00/481 [00:00<?, ?B/s]"
      ]
     },
     "metadata": {},
     "output_type": "display_data"
    },
    {
     "data": {
      "application/vnd.jupyter.widget-view+json": {
       "model_id": "294122b2cdfa4bf5a178df90a04dad89",
       "version_major": 2,
       "version_minor": 0
      },
      "text/plain": [
       "model.safetensors:   0%|          | 0.00/499M [00:00<?, ?B/s]"
      ]
     },
     "metadata": {},
     "output_type": "display_data"
    },
    {
     "name": "stderr",
     "output_type": "stream",
     "text": [
      "Some weights of RobertaForSequenceClassification were not initialized from the model checkpoint at roberta-base and are newly initialized: ['classifier.dense.bias', 'classifier.dense.weight', 'classifier.out_proj.bias', 'classifier.out_proj.weight']\n",
      "You should probably TRAIN this model on a down-stream task to be able to use it for predictions and inference.\n",
      "C:\\Users\\mobee\\anaconda3\\Lib\\site-packages\\sklearn\\base.py:474: FutureWarning: `BaseEstimator._validate_data` is deprecated in 1.6 and will be removed in 1.7. Use `sklearn.utils.validation.validate_data` instead. This function becomes public and is part of the scikit-learn developer API.\n",
      "  warnings.warn(\n"
     ]
    },
    {
     "name": "stdout",
     "output_type": "stream",
     "text": [
      "Training and evaluating mBERT...\n",
      "Fold 1\n",
      "Epoch 1, Loss: 0.7217158909354892\n",
      "Epoch 2, Loss: 0.7017478176525661\n",
      "Epoch 3, Loss: 0.6847773045301437\n",
      "mBERT Metrics:\n",
      "Accuracy: 0.63\n",
      "Precision: 0.6875\n",
      "Recall: 0.2558139534883721\n",
      "F1-score: 0.3728813559322034\n",
      "--------------------------------------------------\n",
      "Fold 2\n"
     ]
    },
    {
     "name": "stderr",
     "output_type": "stream",
     "text": [
      "C:\\Users\\mobee\\anaconda3\\Lib\\site-packages\\sklearn\\base.py:474: FutureWarning: `BaseEstimator._validate_data` is deprecated in 1.6 and will be removed in 1.7. Use `sklearn.utils.validation.validate_data` instead. This function becomes public and is part of the scikit-learn developer API.\n",
      "  warnings.warn(\n"
     ]
    },
    {
     "name": "stdout",
     "output_type": "stream",
     "text": [
      "Epoch 1, Loss: 0.704431625349181\n",
      "Epoch 2, Loss: 0.6724699352468763\n",
      "Epoch 3, Loss: 0.5888367678437915\n",
      "mBERT Metrics:\n",
      "Accuracy: 0.71\n",
      "Precision: 0.6382978723404256\n",
      "Recall: 0.7142857142857143\n",
      "F1-score: 0.6741573033707865\n",
      "--------------------------------------------------\n",
      "Fold 3\n"
     ]
    },
    {
     "name": "stderr",
     "output_type": "stream",
     "text": [
      "C:\\Users\\mobee\\anaconda3\\Lib\\site-packages\\sklearn\\base.py:474: FutureWarning: `BaseEstimator._validate_data` is deprecated in 1.6 and will be removed in 1.7. Use `sklearn.utils.validation.validate_data` instead. This function becomes public and is part of the scikit-learn developer API.\n",
      "  warnings.warn(\n"
     ]
    },
    {
     "name": "stdout",
     "output_type": "stream",
     "text": [
      "Epoch 1, Loss: 0.5804342542375837\n",
      "Epoch 2, Loss: 0.4895209382687296\n",
      "Epoch 3, Loss: 0.43479585328272413\n",
      "mBERT Metrics:\n",
      "Accuracy: 0.43\n",
      "Precision: 0.42424242424242425\n",
      "Recall: 1.0\n",
      "F1-score: 0.5957446808510638\n",
      "--------------------------------------------------\n",
      "Fold 4\n"
     ]
    },
    {
     "name": "stderr",
     "output_type": "stream",
     "text": [
      "C:\\Users\\mobee\\anaconda3\\Lib\\site-packages\\sklearn\\base.py:474: FutureWarning: `BaseEstimator._validate_data` is deprecated in 1.6 and will be removed in 1.7. Use `sklearn.utils.validation.validate_data` instead. This function becomes public and is part of the scikit-learn developer API.\n",
      "  warnings.warn(\n"
     ]
    },
    {
     "name": "stdout",
     "output_type": "stream",
     "text": [
      "Epoch 1, Loss: 0.4451654239975173\n",
      "Epoch 2, Loss: 0.29663075121312305\n",
      "Epoch 3, Loss: 0.23497098645773426\n",
      "mBERT Metrics:\n",
      "Accuracy: 0.62\n",
      "Precision: 0.5777777777777777\n",
      "Recall: 1.0\n",
      "F1-score: 0.7323943661971831\n",
      "--------------------------------------------------\n",
      "Fold 5\n"
     ]
    },
    {
     "name": "stderr",
     "output_type": "stream",
     "text": [
      "C:\\Users\\mobee\\anaconda3\\Lib\\site-packages\\sklearn\\base.py:474: FutureWarning: `BaseEstimator._validate_data` is deprecated in 1.6 and will be removed in 1.7. Use `sklearn.utils.validation.validate_data` instead. This function becomes public and is part of the scikit-learn developer API.\n",
      "  warnings.warn(\n"
     ]
    },
    {
     "name": "stdout",
     "output_type": "stream",
     "text": [
      "Epoch 1, Loss: 0.37751477531024386\n",
      "Epoch 2, Loss: 0.28575286854590687\n",
      "Epoch 3, Loss: 0.18773888563737273\n",
      "mBERT Metrics:\n",
      "Accuracy: 0.91\n",
      "Precision: 0.8837209302325582\n",
      "Recall: 0.9047619047619048\n",
      "F1-score: 0.8941176470588236\n",
      "--------------------------------------------------\n",
      "\n",
      "Results for mBERT:\n",
      "   Fold  Accuracy  Precision   Recall  F1-score\n",
      "      1      0.63   0.687500 0.255814  0.372881\n",
      "      2      0.71   0.638298 0.714286  0.674157\n",
      "      3      0.43   0.424242 1.000000  0.595745\n",
      "      4      0.62   0.577778 1.000000  0.732394\n",
      "      5      0.91   0.883721 0.904762  0.894118\n",
      "Average      0.66   0.642308 0.774972  0.653859\n",
      "Training and evaluating XLM-R...\n",
      "Fold 1\n"
     ]
    },
    {
     "name": "stderr",
     "output_type": "stream",
     "text": [
      "C:\\Users\\mobee\\anaconda3\\Lib\\site-packages\\sklearn\\base.py:474: FutureWarning: `BaseEstimator._validate_data` is deprecated in 1.6 and will be removed in 1.7. Use `sklearn.utils.validation.validate_data` instead. This function becomes public and is part of the scikit-learn developer API.\n",
      "  warnings.warn(\n"
     ]
    },
    {
     "name": "stdout",
     "output_type": "stream",
     "text": [
      "Epoch 1, Loss: 0.7030984801905495\n",
      "Epoch 2, Loss: 0.6993909350463322\n",
      "Epoch 3, Loss: 0.6923227842364993\n",
      "XLM-R Metrics:\n",
      "Accuracy: 0.44\n",
      "Precision: 0.43434343434343436\n",
      "Recall: 1.0\n",
      "F1-score: 0.6056338028169014\n",
      "--------------------------------------------------\n",
      "Fold 2\n"
     ]
    },
    {
     "name": "stderr",
     "output_type": "stream",
     "text": [
      "C:\\Users\\mobee\\anaconda3\\Lib\\site-packages\\sklearn\\base.py:474: FutureWarning: `BaseEstimator._validate_data` is deprecated in 1.6 and will be removed in 1.7. Use `sklearn.utils.validation.validate_data` instead. This function becomes public and is part of the scikit-learn developer API.\n",
      "  warnings.warn(\n"
     ]
    },
    {
     "name": "stdout",
     "output_type": "stream",
     "text": [
      "Epoch 1, Loss: 0.7039526722260884\n",
      "Epoch 2, Loss: 0.6906664222478867\n",
      "Epoch 3, Loss: 0.6913548473800931\n",
      "XLM-R Metrics:\n",
      "Accuracy: 0.64\n",
      "Precision: 0.6666666666666666\n",
      "Recall: 0.2857142857142857\n",
      "F1-score: 0.4\n",
      "--------------------------------------------------\n",
      "Fold 3\n"
     ]
    },
    {
     "name": "stderr",
     "output_type": "stream",
     "text": [
      "C:\\Users\\mobee\\anaconda3\\Lib\\site-packages\\sklearn\\base.py:474: FutureWarning: `BaseEstimator._validate_data` is deprecated in 1.6 and will be removed in 1.7. Use `sklearn.utils.validation.validate_data` instead. This function becomes public and is part of the scikit-learn developer API.\n",
      "  warnings.warn(\n"
     ]
    },
    {
     "name": "stdout",
     "output_type": "stream",
     "text": [
      "Epoch 1, Loss: 0.6771849180970874\n",
      "Epoch 2, Loss: 0.6840702380452838\n",
      "Epoch 3, Loss: 0.6567603402904102\n",
      "XLM-R Metrics:\n",
      "Accuracy: 0.51\n",
      "Precision: 0.45569620253164556\n",
      "Recall: 0.8571428571428571\n",
      "F1-score: 0.5950413223140496\n",
      "--------------------------------------------------\n",
      "Fold 4\n"
     ]
    },
    {
     "name": "stderr",
     "output_type": "stream",
     "text": [
      "C:\\Users\\mobee\\anaconda3\\Lib\\site-packages\\sklearn\\base.py:474: FutureWarning: `BaseEstimator._validate_data` is deprecated in 1.6 and will be removed in 1.7. Use `sklearn.utils.validation.validate_data` instead. This function becomes public and is part of the scikit-learn developer API.\n",
      "  warnings.warn(\n"
     ]
    },
    {
     "name": "stdout",
     "output_type": "stream",
     "text": [
      "Epoch 1, Loss: 0.620915242310228\n",
      "Epoch 2, Loss: 0.5053769791948384\n",
      "Epoch 3, Loss: 0.42920394241809845\n",
      "XLM-R Metrics:\n",
      "Accuracy: 0.72\n",
      "Precision: 0.7307692307692307\n",
      "Recall: 0.7307692307692307\n",
      "F1-score: 0.7307692307692307\n",
      "--------------------------------------------------\n",
      "Fold 5\n"
     ]
    },
    {
     "name": "stderr",
     "output_type": "stream",
     "text": [
      "C:\\Users\\mobee\\anaconda3\\Lib\\site-packages\\sklearn\\base.py:474: FutureWarning: `BaseEstimator._validate_data` is deprecated in 1.6 and will be removed in 1.7. Use `sklearn.utils.validation.validate_data` instead. This function becomes public and is part of the scikit-learn developer API.\n",
      "  warnings.warn(\n"
     ]
    },
    {
     "name": "stdout",
     "output_type": "stream",
     "text": [
      "Epoch 1, Loss: 0.4148785578353064\n",
      "Epoch 2, Loss: 0.35901286719100817\n",
      "Epoch 3, Loss: 0.2893148123153618\n",
      "XLM-R Metrics:\n",
      "Accuracy: 0.84\n",
      "Precision: 0.8421052631578947\n",
      "Recall: 0.7619047619047619\n",
      "F1-score: 0.8\n",
      "--------------------------------------------------\n",
      "\n",
      "Results for XLM-R:\n",
      "   Fold  Accuracy  Precision   Recall  F1-score\n",
      "      1      0.44   0.434343 1.000000  0.605634\n",
      "      2      0.64   0.666667 0.285714  0.400000\n",
      "      3      0.51   0.455696 0.857143  0.595041\n",
      "      4      0.72   0.730769 0.730769  0.730769\n",
      "      5      0.84   0.842105 0.761905  0.800000\n",
      "Average      0.63   0.625916 0.727106  0.626289\n",
      "Training and evaluating RoBERTa...\n",
      "Fold 1\n"
     ]
    },
    {
     "name": "stderr",
     "output_type": "stream",
     "text": [
      "C:\\Users\\mobee\\anaconda3\\Lib\\site-packages\\sklearn\\base.py:474: FutureWarning: `BaseEstimator._validate_data` is deprecated in 1.6 and will be removed in 1.7. Use `sklearn.utils.validation.validate_data` instead. This function becomes public and is part of the scikit-learn developer API.\n",
      "  warnings.warn(\n"
     ]
    },
    {
     "name": "stdout",
     "output_type": "stream",
     "text": [
      "Epoch 1, Loss: 0.7057823325906482\n",
      "Epoch 2, Loss: 0.7007455229759216\n",
      "Epoch 3, Loss: 0.6982669149126325\n"
     ]
    },
    {
     "name": "stderr",
     "output_type": "stream",
     "text": [
      "C:\\Users\\mobee\\anaconda3\\Lib\\site-packages\\sklearn\\metrics\\_classification.py:1565: UndefinedMetricWarning: Precision is ill-defined and being set to 0.0 due to no predicted samples. Use `zero_division` parameter to control this behavior.\n",
      "  _warn_prf(average, modifier, f\"{metric.capitalize()} is\", len(result))\n",
      "C:\\Users\\mobee\\anaconda3\\Lib\\site-packages\\sklearn\\base.py:474: FutureWarning: `BaseEstimator._validate_data` is deprecated in 1.6 and will be removed in 1.7. Use `sklearn.utils.validation.validate_data` instead. This function becomes public and is part of the scikit-learn developer API.\n",
      "  warnings.warn(\n"
     ]
    },
    {
     "name": "stdout",
     "output_type": "stream",
     "text": [
      "RoBERTa Metrics:\n",
      "Accuracy: 0.57\n",
      "Precision: 0.0\n",
      "Recall: 0.0\n",
      "F1-score: 0.0\n",
      "--------------------------------------------------\n",
      "Fold 2\n",
      "Epoch 1, Loss: 0.7018486623253141\n",
      "Epoch 2, Loss: 0.6857990516083581\n",
      "Epoch 3, Loss: 0.699000066944531\n"
     ]
    },
    {
     "name": "stderr",
     "output_type": "stream",
     "text": [
      "C:\\Users\\mobee\\anaconda3\\Lib\\site-packages\\sklearn\\metrics\\_classification.py:1565: UndefinedMetricWarning: Precision is ill-defined and being set to 0.0 due to no predicted samples. Use `zero_division` parameter to control this behavior.\n",
      "  _warn_prf(average, modifier, f\"{metric.capitalize()} is\", len(result))\n",
      "C:\\Users\\mobee\\anaconda3\\Lib\\site-packages\\sklearn\\base.py:474: FutureWarning: `BaseEstimator._validate_data` is deprecated in 1.6 and will be removed in 1.7. Use `sklearn.utils.validation.validate_data` instead. This function becomes public and is part of the scikit-learn developer API.\n",
      "  warnings.warn(\n"
     ]
    },
    {
     "name": "stdout",
     "output_type": "stream",
     "text": [
      "RoBERTa Metrics:\n",
      "Accuracy: 0.58\n",
      "Precision: 0.0\n",
      "Recall: 0.0\n",
      "F1-score: 0.0\n",
      "--------------------------------------------------\n",
      "Fold 3\n",
      "Epoch 1, Loss: 0.6968979303325925\n",
      "Epoch 2, Loss: 0.7004146533352988\n",
      "Epoch 3, Loss: 0.6906861215829849\n"
     ]
    },
    {
     "name": "stderr",
     "output_type": "stream",
     "text": [
      "C:\\Users\\mobee\\anaconda3\\Lib\\site-packages\\sklearn\\metrics\\_classification.py:1565: UndefinedMetricWarning: Precision is ill-defined and being set to 0.0 due to no predicted samples. Use `zero_division` parameter to control this behavior.\n",
      "  _warn_prf(average, modifier, f\"{metric.capitalize()} is\", len(result))\n",
      "C:\\Users\\mobee\\anaconda3\\Lib\\site-packages\\sklearn\\base.py:474: FutureWarning: `BaseEstimator._validate_data` is deprecated in 1.6 and will be removed in 1.7. Use `sklearn.utils.validation.validate_data` instead. This function becomes public and is part of the scikit-learn developer API.\n",
      "  warnings.warn(\n"
     ]
    },
    {
     "name": "stdout",
     "output_type": "stream",
     "text": [
      "RoBERTa Metrics:\n",
      "Accuracy: 0.58\n",
      "Precision: 0.0\n",
      "Recall: 0.0\n",
      "F1-score: 0.0\n",
      "--------------------------------------------------\n",
      "Fold 4\n",
      "Epoch 1, Loss: 0.6948105446223555\n",
      "Epoch 2, Loss: 0.6954724192619324\n",
      "Epoch 3, Loss: 0.6889829450640185\n",
      "RoBERTa Metrics:\n",
      "Accuracy: 0.52\n",
      "Precision: 0.75\n",
      "Recall: 0.11538461538461539\n",
      "F1-score: 0.2\n",
      "--------------------------------------------------\n",
      "Fold 5\n"
     ]
    },
    {
     "name": "stderr",
     "output_type": "stream",
     "text": [
      "C:\\Users\\mobee\\anaconda3\\Lib\\site-packages\\sklearn\\base.py:474: FutureWarning: `BaseEstimator._validate_data` is deprecated in 1.6 and will be removed in 1.7. Use `sklearn.utils.validation.validate_data` instead. This function becomes public and is part of the scikit-learn developer API.\n",
      "  warnings.warn(\n"
     ]
    },
    {
     "name": "stdout",
     "output_type": "stream",
     "text": [
      "Epoch 1, Loss: 0.6879556775093079\n",
      "Epoch 2, Loss: 0.6674330426113946\n",
      "Epoch 3, Loss: 0.653165687407766\n",
      "RoBERTa Metrics:\n",
      "Accuracy: 0.61\n",
      "Precision: 0.5405405405405406\n",
      "Recall: 0.47619047619047616\n",
      "F1-score: 0.5063291139240507\n",
      "--------------------------------------------------\n",
      "\n",
      "Results for RoBERTa:\n",
      "   Fold  Accuracy  Precision   Recall  F1-score\n",
      "      1     0.570   0.000000 0.000000  0.000000\n",
      "      2     0.580   0.000000 0.000000  0.000000\n",
      "      3     0.580   0.000000 0.000000  0.000000\n",
      "      4     0.520   0.750000 0.115385  0.200000\n",
      "      5     0.610   0.540541 0.476190  0.506329\n",
      "Average     0.572   0.258108 0.118315  0.141266\n"
     ]
    }
   ],
   "source": [
    "import numpy as np\n",
    "import pandas as pd\n",
    "from sklearn.model_selection import KFold\n",
    "from sklearn.metrics import accuracy_score, precision_score, recall_score, f1_score\n",
    "from transformers import (\n",
    "    BertTokenizer, BertForSequenceClassification,\n",
    "    XLMRobertaTokenizer, XLMRobertaForSequenceClassification,\n",
    "    RobertaTokenizer, RobertaForSequenceClassification,\n",
    "    AdamW, Trainer, TrainingArguments\n",
    ")\n",
    "from torch.utils.data import Dataset, DataLoader\n",
    "import torch\n",
    "from torch import nn\n",
    "from torch.optim import AdamW\n",
    "from urduhack.preprocessing import normalize_whitespace, remove_punctuation\n",
    "from urduhack.tokenization import sentence_tokenizer\n",
    "from imblearn.over_sampling import SMOTE\n",
    "from sklearn.feature_extraction.text import TfidfVectorizer\n",
    "import os\n",
    "\n",
    "# Enable multi-processing\n",
    "os.environ[\"TOKENIZERS_PARALLELISM\"] = \"true\"\n",
    "\n",
    "# Load dataset\n",
    "# df = pd.read_csv(\"your_dataset.csv\")  # Replace with \"your dataset\n",
    "df['preprocessed_text'] = df['tweets'].apply(lambda x: ' '.join(sentence_tokenizer(remove_punctuation(normalize_whitespace(x)))))\n",
    "\n",
    "# Split the data into features (X) and labels (y)\n",
    "X = df['preprocessed_text']\n",
    "y = df['encoded_sentiments']\n",
    "\n",
    "# Initialize K-Fold cross-validation\n",
    "kfold = KFold(n_splits=5, shuffle=True, random_state=42)\n",
    "\n",
    "# Store evaluation metrics for each fold\n",
    "results = []\n",
    "\n",
    "# Custom Dataset class\n",
    "class CustomDataset(Dataset):\n",
    "    def __init__(self, encodings, labels):\n",
    "        self.encodings = encodings\n",
    "        self.labels = labels\n",
    "\n",
    "    def __getitem__(self, idx):\n",
    "        item = {key: val[idx] for key, val in self.encodings.items()}\n",
    "        item['labels'] = torch.tensor(self.labels[idx])\n",
    "        return item\n",
    "\n",
    "    def __len__(self):\n",
    "        return len(self.labels)\n",
    "\n",
    "# Function to tokenize text\n",
    "def tokenize_text(texts, tokenizer, max_length=128):\n",
    "    return tokenizer(\n",
    "        texts.tolist(),  # Convert pandas Series to list\n",
    "        padding=True,\n",
    "        truncation=True,\n",
    "        max_length=max_length,\n",
    "        return_tensors='pt'\n",
    "    )\n",
    "\n",
    "# Function to apply SMOTE\n",
    "def apply_smote(X_train, y_train):\n",
    "    tfidf = TfidfVectorizer(max_features=5000)  # Adjust max_features as needed\n",
    "    X_train_tfidf = tfidf.fit_transform(X_train)\n",
    "    smote = SMOTE(random_state=42)\n",
    "    X_train_res, y_train_res = smote.fit_resample(X_train_tfidf, y_train)\n",
    "    X_train_res_text = [\" \".join([tfidf.get_feature_names_out()[i] for i in doc.nonzero()[1]]) for doc in X_train_res]\n",
    "    return X_train_res_text, y_train_res\n",
    "\n",
    "# Function to train and evaluate a model\n",
    "def train_evaluate_model(model_name, tokenizer, model, X_train, y_train, X_val, y_val, device, epochs=3):\n",
    "    # Tokenize the training and validation data\n",
    "    X_train_tokens = tokenize_text(X_train, tokenizer)\n",
    "    X_val_tokens = tokenize_text(X_val, tokenizer)\n",
    "\n",
    "    # Create custom datasets\n",
    "    train_dataset = CustomDataset(X_train_tokens, y_train.tolist())\n",
    "    val_dataset = CustomDataset(X_val_tokens, y_val.tolist())\n",
    "\n",
    "    # Create DataLoader\n",
    "    train_loader = DataLoader(train_dataset, batch_size=16, shuffle=True)\n",
    "    val_loader = DataLoader(val_dataset, batch_size=16)\n",
    "\n",
    "    # Set up optimizer\n",
    "    optimizer = AdamW(model.parameters(), lr=2e-5, weight_decay=0.01)\n",
    "\n",
    "    # Training loop\n",
    "    model.to(device)\n",
    "    criterion = nn.CrossEntropyLoss()\n",
    "\n",
    "    for epoch in range(epochs):\n",
    "        model.train()\n",
    "        total_loss = 0\n",
    "        for batch in train_loader:\n",
    "            optimizer.zero_grad()\n",
    "            input_ids = batch['input_ids'].to(device)\n",
    "            attention_mask = batch['attention_mask'].to(device)\n",
    "            labels = batch['labels'].to(device)\n",
    "\n",
    "            outputs = model(input_ids, attention_mask=attention_mask, labels=labels)\n",
    "            loss = outputs.loss\n",
    "            loss.backward()\n",
    "            optimizer.step()\n",
    "\n",
    "            total_loss += loss.item()\n",
    "\n",
    "        print(f\"Epoch {epoch + 1}, Loss: {total_loss / len(train_loader)}\")\n",
    "\n",
    "    # Evaluation\n",
    "    model.eval()\n",
    "    val_preds, val_labels = [], []\n",
    "    with torch.no_grad():\n",
    "        for batch in val_loader:\n",
    "            input_ids = batch['input_ids'].to(device)\n",
    "            attention_mask = batch['attention_mask'].to(device)\n",
    "            labels = batch['labels'].to(device)\n",
    "\n",
    "            outputs = model(input_ids, attention_mask=attention_mask)\n",
    "            logits = outputs.logits\n",
    "            preds = torch.argmax(logits, dim=-1)\n",
    "\n",
    "            val_preds.extend(preds.cpu().numpy())\n",
    "            val_labels.extend(labels.cpu().numpy())\n",
    "\n",
    "    # Calculate metrics\n",
    "    accuracy = accuracy_score(val_labels, val_preds)\n",
    "    precision = precision_score(val_labels, val_preds)\n",
    "    recall = recall_score(val_labels, val_preds)\n",
    "    f1 = f1_score(val_labels, val_preds)\n",
    "\n",
    "    print(f\"{model_name} Metrics:\")\n",
    "    print(f\"Accuracy: {accuracy}\")\n",
    "    print(f\"Precision: {precision}\")\n",
    "    print(f\"Recall: {recall}\")\n",
    "    print(f\"F1-score: {f1}\")\n",
    "    print(\"-\" * 50)\n",
    "\n",
    "    return accuracy, precision, recall, f1\n",
    "\n",
    "# Define models and tokenizers\n",
    "models = {\n",
    "    \"mBERT\": {\n",
    "        \"tokenizer\": BertTokenizer.from_pretrained(\"bert-base-multilingual-cased\"),\n",
    "        \"model\": BertForSequenceClassification.from_pretrained(\"bert-base-multilingual-cased\", num_labels=2)\n",
    "    },\n",
    "    \"XLM-R\": {\n",
    "        \"tokenizer\": XLMRobertaTokenizer.from_pretrained(\"xlm-roberta-base\"),\n",
    "        \"model\": XLMRobertaForSequenceClassification.from_pretrained(\"xlm-roberta-base\", num_labels=2)\n",
    "    },\n",
    "    \"RoBERTa\": {\n",
    "        \"tokenizer\": RobertaTokenizer.from_pretrained(\"roberta-base\"),\n",
    "        \"model\": RobertaForSequenceClassification.from_pretrained(\"roberta-base\", num_labels=2)\n",
    "    }\n",
    "}\n",
    "\n",
    "# K-Fold cross-validation loop\n",
    "device = torch.device(\"cuda\" if torch.cuda.is_available() else \"cpu\")\n",
    "\n",
    "for model_name, config in models.items():\n",
    "    print(f\"Training and evaluating {model_name}...\")\n",
    "    tokenizer = config[\"tokenizer\"]\n",
    "    model = config[\"model\"]\n",
    "\n",
    "    fold_results = []\n",
    "    for fold, (train_idx, val_idx) in enumerate(kfold.split(X)):\n",
    "        print(f\"Fold {fold + 1}\")\n",
    "\n",
    "        # Split data into training and validation sets\n",
    "        X_train, X_val = X.iloc[train_idx], X.iloc[val_idx]\n",
    "        y_train, y_val = y.iloc[train_idx], y.iloc[val_idx]\n",
    "\n",
    "        # Apply SMOTE to balance the classes\n",
    "        X_train_res_text, y_train_res = apply_smote(X_train, y_train)\n",
    "\n",
    "        # Train and evaluate the model\n",
    "        accuracy, precision, recall, f1 = train_evaluate_model(\n",
    "            model_name, tokenizer, model, pd.Series(X_train_res_text), y_train_res, X_val, y_val, device\n",
    "        )\n",
    "\n",
    "        # Store metrics for the current fold\n",
    "        fold_results.append({\n",
    "            'Fold': fold + 1,\n",
    "            'Accuracy': accuracy,\n",
    "            'Precision': precision,\n",
    "            'Recall': recall,\n",
    "            'F1-score': f1\n",
    "        })\n",
    "\n",
    "    # Convert fold results to a DataFrame\n",
    "    fold_results_df = pd.DataFrame(fold_results)\n",
    "\n",
    "    # Calculate average metrics across all folds\n",
    "    avg_metrics = pd.DataFrame({\n",
    "        'Fold': ['Average'],\n",
    "        'Accuracy': [fold_results_df['Accuracy'].mean()],\n",
    "        'Precision': [fold_results_df['Precision'].mean()],\n",
    "        'Recall': [fold_results_df['Recall'].mean()],\n",
    "        'F1-score': [fold_results_df['F1-score'].mean()]\n",
    "    })\n",
    "\n",
    "    # Append the average metrics to the results table\n",
    "    results_df = pd.concat([fold_results_df, avg_metrics], ignore_index=True)\n",
    "\n",
    "    # Print the results table\n",
    "    print(f\"\\nResults for {model_name}:\")\n",
    "    print(results_df.to_string(index=False))"
   ]
  },
  {
   "cell_type": "code",
   "execution_count": null,
   "metadata": {},
   "outputs": [],
   "source": []
  },
  {
   "cell_type": "code",
   "execution_count": null,
   "metadata": {
    "colab": {
     "base_uri": "https://localhost:8080/"
    },
    "id": "0lJyE1c4BnNz",
    "outputId": "f0f479b4-4e58-4135-8d84-3dcc996a76c5"
   },
   "outputs": [
    {
     "name": "stdout",
     "output_type": "stream",
     "text": [
      "Epoch 1/10\n",
      "10/10 [==============================] - 3s 147ms/step - loss: 0.6910 - accuracy: 0.5219 - val_loss: 0.6828 - val_accuracy: 0.6250\n",
      "Epoch 2/10\n",
      "10/10 [==============================] - 1s 71ms/step - loss: 0.6624 - accuracy: 0.6656 - val_loss: 0.6596 - val_accuracy: 0.6500\n",
      "Epoch 3/10\n",
      "10/10 [==============================] - 0s 47ms/step - loss: 0.5432 - accuracy: 0.7719 - val_loss: 0.6488 - val_accuracy: 0.6125\n",
      "Epoch 4/10\n",
      "10/10 [==============================] - 0s 49ms/step - loss: 0.3281 - accuracy: 0.8906 - val_loss: 0.6933 - val_accuracy: 0.6125\n",
      "Epoch 5/10\n",
      "10/10 [==============================] - 0s 50ms/step - loss: 0.1790 - accuracy: 0.9531 - val_loss: 0.7537 - val_accuracy: 0.6000\n",
      "Epoch 6/10\n",
      "10/10 [==============================] - 0s 46ms/step - loss: 0.1551 - accuracy: 0.9594 - val_loss: 0.7297 - val_accuracy: 0.7000\n",
      "Epoch 7/10\n",
      "10/10 [==============================] - 0s 49ms/step - loss: 0.0731 - accuracy: 0.9781 - val_loss: 1.5911 - val_accuracy: 0.6375\n",
      "Epoch 8/10\n",
      "10/10 [==============================] - 0s 47ms/step - loss: 0.0338 - accuracy: 1.0000 - val_loss: 1.3724 - val_accuracy: 0.6375\n",
      "Epoch 9/10\n",
      "10/10 [==============================] - 0s 48ms/step - loss: 0.0249 - accuracy: 0.9937 - val_loss: 1.3903 - val_accuracy: 0.6500\n",
      "Epoch 10/10\n",
      "10/10 [==============================] - 0s 45ms/step - loss: 0.0200 - accuracy: 0.9937 - val_loss: 1.6942 - val_accuracy: 0.6375\n",
      "4/4 [==============================] - 0s 10ms/step\n",
      "Precision: 0.5681818181818182\n",
      "Recall: 0.5813953488372093\n",
      "F1-score: 0.5747126436781609\n"
     ]
    },
    {
     "name": "stderr",
     "output_type": "stream",
     "text": [
      "/usr/local/lib/python3.10/dist-packages/sklearn/linear_model/_logistic.py:458: ConvergenceWarning: lbfgs failed to converge (status=1):\n",
      "STOP: TOTAL NO. of ITERATIONS REACHED LIMIT.\n",
      "\n",
      "Increase the number of iterations (max_iter) or scale the data as shown in:\n",
      "    https://scikit-learn.org/stable/modules/preprocessing.html\n",
      "Please also refer to the documentation for alternative solver options:\n",
      "    https://scikit-learn.org/stable/modules/linear_model.html#logistic-regression\n",
      "  n_iter_i = _check_optimize_result(\n"
     ]
    }
   ],
   "source": [
    "import numpy as np\n",
    "from sklearn.ensemble import RandomForestClassifier\n",
    "from sklearn.linear_model import LogisticRegression\n",
    "from sklearn.svm import SVC\n",
    "from sklearn.model_selection import train_test_split\n",
    "from sklearn.metrics import accuracy_score, precision_score, recall_score, f1_score\n",
    "from tensorflow.keras.models import Sequential\n",
    "from tensorflow.keras.layers import Embedding, LSTM, Dense\n",
    "from tensorflow.keras.preprocessing.text import Tokenizer\n",
    "from tensorflow.keras.preprocessing.sequence import pad_sequences\n",
    "from urduhack.preprocessing import normalize_whitespace, remove_punctuation\n",
    "from urduhack.tokenization import sentence_tokenizer\n",
    "\n",
    "# Apply text preprocessing using UrduHack\n",
    "df['preprocessed_text'] = df['tweets'].apply(lambda x: ' '.join(sentence_tokenizer(remove_stopwords(remove_punctuation(normalize_whitespace(x))))))\n",
    "\n",
    "# Split the data into training and testing sets\n",
    "X_train, X_test, y_train, y_test = train_test_split(df['preprocessed_text'], df['encoded_sentiments'], test_size=0.2, random_state=42)\n",
    "\n",
    "# Tokenize the text data\n",
    "tokenizer = Tokenizer()\n",
    "tokenizer.fit_on_texts(X_train)\n",
    "X_train_sequences = tokenizer.texts_to_sequences(X_train)\n",
    "X_test_sequences = tokenizer.texts_to_sequences(X_test)\n",
    "\n",
    "# Pad the sequences to have the same length\n",
    "max_sequence_length = max(max(len(seq) for seq in X_train_sequences), max(len(seq) for seq in X_test_sequences))\n",
    "X_train_padded = pad_sequences(X_train_sequences, maxlen=max_sequence_length)\n",
    "X_test_padded = pad_sequences(X_test_sequences, maxlen=max_sequence_length)\n",
    "\n",
    "# Define the RNN model\n",
    "model = Sequential()\n",
    "model.add(Embedding(len(tokenizer.word_index) + 1, 100, input_length=max_sequence_length))\n",
    "model.add(LSTM(128))\n",
    "model.add(Dense(1, activation='sigmoid'))\n",
    "\n",
    "# Compile the model\n",
    "model.compile(loss='binary_crossentropy', optimizer='adam', metrics=['accuracy'])\n",
    "\n",
    "# Train the model\n",
    "model.fit(X_train_padded, y_train, epochs=10, batch_size=32, validation_split=0.2)\n",
    "\n",
    "# Make predictions on the test data\n",
    "y_pred_rnn = model.predict(X_test_padded)\n",
    "y_pred_rnn_classes = (y_pred_rnn > 0.5).astype(int)\n",
    "\n",
    "# Train base models on the preprocessed training data\n",
    "base_model1 = RandomForestClassifier(random_state=42)\n",
    "base_model2 = LogisticRegression(random_state=42)\n",
    "base_model3 = SVC(random_state=42)\n",
    "\n",
    "base_model1.fit(X_train_padded, y_train)\n",
    "base_model2.fit(X_train_padded, y_train)\n",
    "base_model3.fit(X_train_padded, y_train)\n",
    "\n",
    "# Make predictions on the test data using base models\n",
    "y_pred1 = base_model1.predict(X_test_padded)\n",
    "y_pred2 = base_model2.predict(X_test_padded)\n",
    "y_pred3 = base_model3.predict(X_test_padded)\n",
    "\n",
    "# Create stacked features\n",
    "stacked_features = np.column_stack((y_pred1, y_pred2, y_pred3, y_pred_rnn_classes.flatten()))\n",
    "\n",
    "# Train the meta-classifier\n",
    "meta_classifier = RandomForestClassifier(random_state=42)\n",
    "meta_classifier.fit(stacked_features, y_test)\n",
    "\n",
    "# Make final predictions using the stacking ensemble\n",
    "stacked_pred = meta_classifier.predict(stacked_features)\n",
    "\n",
    "# Calculate the evaluation metrics\n",
    "accuracy = accuracy_score(y_test, stacked_pred)\n",
    "precision = precision_score(y_test, stacked_pred)\n",
    "recall = recall_score(y_test, stacked_pred)\n",
    "f1 = f1_score(y_test, stacked_pred)\n",
    "\n",
    "# Print the evaluation metrics\n",
    "print(\"accuracy:\", accuracy)\n",
    "print(\"Precision:\", precision)\n",
    "print(\"Recall:\", recall)\n",
    "print(\"F1-score:\", f1)\n"
   ]
  },
  {
   "cell_type": "code",
   "execution_count": null,
   "metadata": {
    "colab": {
     "base_uri": "https://localhost:8080/"
    },
    "id": "O6JxsNVwC0u6",
    "outputId": "12683ec2-7da8-49e8-c779-42eb5a8871f8"
   },
   "outputs": [
    {
     "data": {
      "text/plain": [
       "0.63"
      ]
     },
     "execution_count": 40,
     "metadata": {},
     "output_type": "execute_result"
    }
   ],
   "source": [
    "accuracy = accuracy_score(y_test, stacked_pred)\n",
    "accuracy"
   ]
  },
  {
   "cell_type": "code",
   "execution_count": null,
   "metadata": {
    "colab": {
     "base_uri": "https://localhost:8080/"
    },
    "id": "9OHGwDHDh86h",
    "outputId": "794a964b-c063-45f0-d360-e5b95a3635c5"
   },
   "outputs": [
    {
     "name": "stdout",
     "output_type": "stream",
     "text": [
      "Classification Accuracy: 56.00000000000001%\n",
      "Precision: 0.48148148148148145\n",
      "Recall: 0.3023255813953488\n",
      "Negative Recall: 0.7543859649122807\n",
      "F1 Score: 0.37142857142857144\n"
     ]
    }
   ],
   "source": [
    "from sklearn.metrics import precision_score, recall_score, confusion_matrix, f1_score\n",
    "from sklearn.ensemble import RandomForestClassifier\n",
    "from sklearn.feature_extraction.text import TfidfVectorizer\n",
    "from sklearn.metrics import accuracy_score\n",
    "from sklearn.model_selection import train_test_split\n",
    "\n",
    "# Split the data into training and testing sets\n",
    "X_train, X_test, y_train, y_test = train_test_split(df['tweets'], df['encoded_sentiments'], test_size=0.2, random_state=42)\n",
    "\n",
    "# Vectorize the text data\n",
    "tfidf = TfidfVectorizer()\n",
    "X_train_tfidf = tfidf.fit_transform(X_train)\n",
    "X_test_tfidf = tfidf.transform(X_test)\n",
    "\n",
    "# Train the model (using Random Forest)\n",
    "model = RandomForestClassifier(n_estimators=100, random_state=42)\n",
    "model.fit(X_train_tfidf, y_train)\n",
    "\n",
    "# Make predictions on the test data\n",
    "y_pred = model.predict(X_test_tfidf)\n",
    "\n",
    "# Calculate the classification accuracy\n",
    "accuracy = accuracy_score(y_test, y_pred)\n",
    "\n",
    "# Calculate precision\n",
    "precision = precision_score(y_test, y_pred)\n",
    "\n",
    "# Calculate recall\n",
    "recall = recall_score(y_test, y_pred)\n",
    "# Calculate F1 score\n",
    "f1 = f1_score(y_test, y_pred)\n",
    "\n",
    "# Calculate negative recall\n",
    "confusion_mat = confusion_matrix(y_test, y_pred)\n",
    "tn, fp, fn, tp = confusion_mat.ravel()\n",
    "negative_recall = tn / (tn + fp)\n",
    "\n",
    "# Print the metrics\n",
    "print(f\"Classification Accuracy: {accuracy * 100}%\")\n",
    "print(f\"Precision: {precision}\")\n",
    "print(f\"Recall: {recall}\")\n",
    "print(f\"Negative Recall: {negative_recall}\")\n",
    "print(f\"F1 Score: {f1}\")\n"
   ]
  },
  {
   "cell_type": "code",
   "execution_count": null,
   "metadata": {
    "colab": {
     "base_uri": "https://localhost:8080/"
    },
    "id": "Pn6g6jg2Eav2",
    "outputId": "691349ec-febc-4d92-d451-312901f6f04b"
   },
   "outputs": [
    {
     "name": "stdout",
     "output_type": "stream",
     "text": [
      "Classification Accuracy: 56.00000000000001%\n"
     ]
    }
   ],
   "source": [
    "from sklearn.ensemble import RandomForestClassifier\n",
    "from sklearn.feature_extraction.text import TfidfVectorizer\n",
    "from sklearn.metrics import accuracy_score\n",
    "from sklearn.model_selection import train_test_split\n",
    "\n",
    "# Split the data into training and testing sets\n",
    "X_train, X_test, y_train, y_test = train_test_split(df['tweets'], df['encoded_sentiments'], test_size=0.2, random_state=42)\n",
    "\n",
    "# Vectorize the text data\n",
    "tfidf = TfidfVectorizer()\n",
    "X_train_tfidf = tfidf.fit_transform(X_train)\n",
    "X_test_tfidf = tfidf.transform(X_test)\n",
    "\n",
    "# Train the model (using Random Forest)\n",
    "model = RandomForestClassifier(n_estimators=100, random_state=42)\n",
    "model.fit(X_train_tfidf, y_train)\n",
    "\n",
    "# Make predictions on the test data\n",
    "y_pred = model.predict(X_test_tfidf)\n",
    "\n",
    "# Calculate the classification accuracy\n",
    "accuracy = accuracy_score(y_test, y_pred)\n",
    "\n",
    "# Print the accuracy\n",
    "print(f\"Classification Accuracy: {accuracy * 100}%\")\n"
   ]
  },
  {
   "cell_type": "code",
   "execution_count": null,
   "metadata": {
    "colab": {
     "base_uri": "https://localhost:8080/",
     "height": 605
    },
    "id": "KIAr9DfaEgFR",
    "outputId": "efcce840-106c-42d4-cd6b-1659cce0e75b"
   },
   "outputs": [
    {
     "name": "stdout",
     "output_type": "stream",
     "text": [
      "              precision    recall  f1-score   support\n",
      "\n",
      "           0       0.59      0.75      0.66        57\n",
      "           1       0.48      0.30      0.37        43\n",
      "\n",
      "    accuracy                           0.56       100\n",
      "   macro avg       0.54      0.53      0.52       100\n",
      "weighted avg       0.54      0.56      0.54       100\n",
      "\n"
     ]
    },
    {
     "data": {
      "image/png": "[encoded data removed]",
      "text/plain": [
       "<Figure size 640x480 with 2 Axes>"
      ]
     },
     "metadata": {},
     "output_type": "display_data"
    }
   ],
   "source": [
    "# Import the required libraries\n",
    "import seaborn as sns\n",
    "import matplotlib.pyplot as plt\n",
    "from sklearn.metrics import classification_report, confusion_matrix\n",
    "\n",
    "# Make predictions on the test data\n",
    "y_pred = model.predict(X_test_tfidf)\n",
    "\n",
    "# Calculate precision, recall and F1-score\n",
    "print(classification_report(y_test, y_pred))\n",
    "\n",
    "# Create the confusion matrix\n",
    "conf_matrix = confusion_matrix(y_test, y_pred)\n",
    "sns.heatmap(conf_matrix, annot=True, cmap='Blues', fmt='g')\n",
    "plt.xlabel('Predicted Labels')\n",
    "plt.ylabel('True Labels')\n",
    "plt.show()"
   ]
  },
  {
   "cell_type": "code",
   "execution_count": null,
   "metadata": {
    "colab": {
     "base_uri": "https://localhost:8080/"
    },
    "id": "judjoRLgjaNu",
    "outputId": "581b9b3e-89e0-4fc6-abb8-3f7ac3186ac2"
   },
   "outputs": [
    {
     "name": "stdout",
     "output_type": "stream",
     "text": [
      "Classification Accuracy: 50.0%\n",
      "Precision: 0.40540540540540543\n",
      "Recall: 0.3488372093023256\n",
      "Negative Recall: 0.6140350877192983\n",
      "F1 Score: 0.375\n"
     ]
    }
   ],
   "source": [
    "from sklearn.metrics import precision_score, recall_score, confusion_matrix, f1_score\n",
    "from sklearn.ensemble import RandomForestClassifier\n",
    "from sklearn.feature_extraction.text import TfidfVectorizer\n",
    "from sklearn.metrics import accuracy_score\n",
    "from sklearn.model_selection import train_test_split\n",
    "\n",
    "# Split the data into training and testing sets\n",
    "X_train, X_test, y_train, y_test = train_test_split(df['tweets'], df['encoded_sentiments'], test_size=0.2, random_state=42)\n",
    "\n",
    "# Vectorize the text data\n",
    "tfidf = TfidfVectorizer()\n",
    "X_train_tfidf = tfidf.fit_transform(X_train)\n",
    "X_test_tfidf = tfidf.transform(X_test)\n",
    "\n",
    "# Train the model (using Random Forest)\n",
    "model = DecisionTreeClassifier(random_state=42)\n",
    "model.fit(X_train_tfidf, y_train)\n",
    "\n",
    "# Make predictions on the test data\n",
    "y_pred = model.predict(X_test_tfidf)\n",
    "\n",
    "# Calculate the classification accuracy\n",
    "accuracy = accuracy_score(y_test, y_pred)\n",
    "\n",
    "# Calculate precision\n",
    "precision = precision_score(y_test, y_pred)\n",
    "\n",
    "# Calculate recall\n",
    "recall = recall_score(y_test, y_pred)\n",
    "# Calculate F1 score\n",
    "f1 = f1_score(y_test, y_pred)\n",
    "\n",
    "# Calculate negative recall\n",
    "confusion_mat = confusion_matrix(y_test, y_pred)\n",
    "tn, fp, fn, tp = confusion_mat.ravel()\n",
    "negative_recall = tn / (tn + fp)\n",
    "\n",
    "# Print the metrics\n",
    "print(f\"Classification Accuracy: {accuracy * 100}%\")\n",
    "print(f\"Precision: {precision}\")\n",
    "print(f\"Recall: {recall}\")\n",
    "print(f\"Negative Recall: {negative_recall}\")\n",
    "print(f\"F1 Score: {f1}\")\n"
   ]
  },
  {
   "cell_type": "markdown",
   "metadata": {
    "id": "NwMKHCK_CzDs"
   },
   "source": []
  },
  {
   "cell_type": "code",
   "execution_count": null,
   "metadata": {
    "colab": {
     "base_uri": "https://localhost:8080/"
    },
    "id": "7VQMMRxVE1WG",
    "outputId": "07d03841-ab6e-4b59-e913-d538f5dd832c"
   },
   "outputs": [
    {
     "name": "stdout",
     "output_type": "stream",
     "text": [
      "Classification Accuracy: 50.0%\n"
     ]
    }
   ],
   "source": [
    "from sklearn.tree import DecisionTreeClassifier\n",
    "from sklearn.feature_extraction.text import TfidfVectorizer\n",
    "from sklearn.metrics import accuracy_score\n",
    "from sklearn.model_selection import train_test_split\n",
    "\n",
    "# Split the data into training and testing sets\n",
    "X_train, X_test, y_train, y_test = train_test_split(df['tweets'], df['encoded_sentiments'], test_size=0.2, random_state=42)\n",
    "\n",
    "# Vectorize the text data\n",
    "tfidf = TfidfVectorizer()\n",
    "X_train_tfidf = tfidf.fit_transform(X_train)\n",
    "X_test_tfidf = tfidf.transform(X_test)\n",
    "\n",
    "# Train the model (using Decision Tree)\n",
    "model = DecisionTreeClassifier(random_state=42)\n",
    "model.fit(X_train_tfidf, y_train)\n",
    "\n",
    "# Make predictions on the test data\n",
    "y_pred = model.predict(X_test_tfidf)\n",
    "\n",
    "# Calculate the classification accuracy\n",
    "accuracy = accuracy_score(y_test, y_pred)\n",
    "\n",
    "# Print the accuracy\n",
    "print(f\"Classification Accuracy: {accuracy * 100}%\")\n"
   ]
  },
  {
   "cell_type": "code",
   "execution_count": null,
   "metadata": {
    "colab": {
     "base_uri": "https://localhost:8080/",
     "height": 611
    },
    "id": "J39E7sdUFDwq",
    "outputId": "a8ecb069-9cd0-4064-b5c6-2114d84d4827"
   },
   "outputs": [
    {
     "name": "stdout",
     "output_type": "stream",
     "text": [
      "              precision    recall  f1-score   support\n",
      "\n",
      "           0       0.56      0.61      0.58        57\n",
      "           1       0.41      0.35      0.38        43\n",
      "\n",
      "    accuracy                           0.50       100\n",
      "   macro avg       0.48      0.48      0.48       100\n",
      "weighted avg       0.49      0.50      0.49       100\n",
      "\n"
     ]
    },
    {
     "data": {
      "image/png": "[encoded data removed]",
      "text/plain": [
       "<Figure size 640x480 with 2 Axes>"
      ]
     },
     "metadata": {},
     "output_type": "display_data"
    }
   ],
   "source": [
    "# Import the required libraries\n",
    "import seaborn as sns\n",
    "import matplotlib.pyplot as plt\n",
    "from sklearn.metrics import classification_report, confusion_matrix\n",
    "\n",
    "# Make predictions on the test data\n",
    "y_pred = model.predict(X_test_tfidf)\n",
    "\n",
    "# Calculate precision, recall and F1-score\n",
    "print(classification_report(y_test, y_pred))\n",
    "\n",
    "# Create the confusion matrix\n",
    "conf_matrix = confusion_matrix(y_test, y_pred)\n",
    "sns.heatmap(conf_matrix, annot=True, cmap='Blues', fmt='g')\n",
    "plt.xlabel('Predicted Labels')\n",
    "plt.ylabel('True Labels')\n",
    "plt.show()"
   ]
  },
  {
   "cell_type": "code",
   "execution_count": null,
   "metadata": {
    "colab": {
     "base_uri": "https://localhost:8080/"
    },
    "id": "ckhB_6IckYxx",
    "outputId": "a033154a-7880-455d-cdc6-b32cb4045a24"
   },
   "outputs": [
    {
     "name": "stdout",
     "output_type": "stream",
     "text": [
      "Classification Accuracy: 61.0%\n",
      "Precision: 0.6\n",
      "Recall: 0.27906976744186046\n",
      "Negative Recall: 0.8596491228070176\n",
      "F1 Score: 0.380952380952381\n"
     ]
    }
   ],
   "source": [
    "from sklearn.metrics import precision_score, recall_score, confusion_matrix, f1_score\n",
    "from sklearn.svm import SVC\n",
    "from sklearn.ensemble import RandomForestClassifier\n",
    "from sklearn.feature_extraction.text import TfidfVectorizer\n",
    "from sklearn.metrics import accuracy_score\n",
    "from sklearn.model_selection import train_test_split\n",
    "\n",
    "# Split the data into training and testing sets\n",
    "X_train, X_test, y_train, y_test = train_test_split(df['tweets'], df['encoded_sentiments'], test_size=0.2, random_state=42)\n",
    "\n",
    "# Vectorize the text data\n",
    "tfidf = TfidfVectorizer()\n",
    "X_train_tfidf = tfidf.fit_transform(X_train)\n",
    "X_test_tfidf = tfidf.transform(X_test)\n",
    "\n",
    "# Train the model (using Random Forest)\n",
    "model = SVC(random_state=42)\n",
    "model.fit(X_train_tfidf, y_train)\n",
    "\n",
    "# Make predictions on the test data\n",
    "y_pred = model.predict(X_test_tfidf)\n",
    "\n",
    "# Calculate the classification accuracy\n",
    "accuracy = accuracy_score(y_test, y_pred)\n",
    "\n",
    "# Calculate precision\n",
    "precision = precision_score(y_test, y_pred)\n",
    "\n",
    "# Calculate recall\n",
    "recall = recall_score(y_test, y_pred)\n",
    "# Calculate F1 score\n",
    "f1 = f1_score(y_test, y_pred)\n",
    "\n",
    "# Calculate negative recall\n",
    "confusion_mat = confusion_matrix(y_test, y_pred)\n",
    "tn, fp, fn, tp = confusion_mat.ravel()\n",
    "negative_recall = tn / (tn + fp)\n",
    "\n",
    "# Print the metrics\n",
    "print(f\"Classification Accuracy: {accuracy * 100}%\")\n",
    "print(f\"Precision: {precision}\")\n",
    "print(f\"Recall: {recall}\")\n",
    "print(f\"Negative Recall: {negative_recall}\")\n",
    "print(f\"F1 Score: {f1}\")\n"
   ]
  },
  {
   "cell_type": "code",
   "execution_count": null,
   "metadata": {
    "colab": {
     "base_uri": "https://localhost:8080/"
    },
    "id": "Ks9nsVK6FPcc",
    "outputId": "17b4edb8-cecc-422e-8497-43b7e901c353"
   },
   "outputs": [
    {
     "name": "stdout",
     "output_type": "stream",
     "text": [
      "Classification Accuracy: 61.0%\n"
     ]
    }
   ],
   "source": [
    "from sklearn.svm import SVC\n",
    "from sklearn.feature_extraction.text import TfidfVectorizer\n",
    "from sklearn.metrics import accuracy_score\n",
    "from sklearn.model_selection import train_test_split\n",
    "\n",
    "# Split the data into training and testing sets\n",
    "X_train, X_test, y_train, y_test = train_test_split(df['tweets'], df['encoded_sentiments'], test_size=0.2, random_state=42)\n",
    "\n",
    "# Vectorize the text data\n",
    "tfidf = TfidfVectorizer()\n",
    "X_train_tfidf = tfidf.fit_transform(X_train)\n",
    "X_test_tfidf = tfidf.transform(X_test)\n",
    "\n",
    "# Train the model (using SVM)\n",
    "model = SVC(random_state=42)\n",
    "model.fit(X_train_tfidf, y_train)\n",
    "\n",
    "# Make predictions on the test data\n",
    "y_pred = model.predict(X_test_tfidf)\n",
    "\n",
    "# Calculate the classification accuracy\n",
    "accuracy = accuracy_score(y_test, y_pred)\n",
    "\n",
    "# Print the accuracy\n",
    "print(f\"Classification Accuracy: {accuracy * 100}%\")"
   ]
  },
  {
   "cell_type": "code",
   "execution_count": null,
   "metadata": {
    "colab": {
     "base_uri": "https://localhost:8080/",
     "height": 605
    },
    "id": "Asy991lyFZ9M",
    "outputId": "2e255f48-dcca-43d4-93ae-7b30316894b4"
   },
   "outputs": [
    {
     "name": "stdout",
     "output_type": "stream",
     "text": [
      "              precision    recall  f1-score   support\n",
      "\n",
      "           0       0.61      0.86      0.72        57\n",
      "           1       0.60      0.28      0.38        43\n",
      "\n",
      "    accuracy                           0.61       100\n",
      "   macro avg       0.61      0.57      0.55       100\n",
      "weighted avg       0.61      0.61      0.57       100\n",
      "\n"
     ]
    },
    {
     "data": {
      "image/png": "[encoded data removed]",
      "text/plain": [
       "<Figure size 640x480 with 2 Axes>"
      ]
     },
     "metadata": {},
     "output_type": "display_data"
    }
   ],
   "source": [
    "# Import the required libraries\n",
    "import seaborn as sns\n",
    "import matplotlib.pyplot as plt\n",
    "from sklearn.metrics import classification_report, confusion_matrix\n",
    "\n",
    "# Make predictions on the test data\n",
    "y_pred = model.predict(X_test_tfidf)\n",
    "\n",
    "# Calculate precision, recall and F1-score\n",
    "print(classification_report(y_test, y_pred))\n",
    "\n",
    "# Create the confusion matrix\n",
    "conf_matrix = confusion_matrix(y_test, y_pred)\n",
    "sns.heatmap(conf_matrix, annot=True, cmap='Blues', fmt='g')\n",
    "plt.xlabel('Predicted Labels')\n",
    "plt.ylabel('True Labels')\n",
    "plt.show()"
   ]
  },
  {
   "cell_type": "code",
   "execution_count": null,
   "metadata": {
    "colab": {
     "base_uri": "https://localhost:8080/"
    },
    "id": "nSzjv4tElAPE",
    "outputId": "40f1ecc1-3e65-4a12-c6a6-b68264a8ae31"
   },
   "outputs": [
    {
     "name": "stdout",
     "output_type": "stream",
     "text": [
      "Classification Accuracy: 56.99999999999999%\n",
      "Precision: 0.5\n",
      "Recall: 0.46511627906976744\n",
      "Negative Recall: 0.6491228070175439\n",
      "F1 Score: 0.4819277108433735\n"
     ]
    }
   ],
   "source": [
    "from sklearn.metrics import precision_score, recall_score, confusion_matrix, f1_score\n",
    "from sklearn.naive_bayes import BernoulliNB\n",
    "from sklearn.ensemble import RandomForestClassifier\n",
    "from sklearn.feature_extraction.text import TfidfVectorizer\n",
    "from sklearn.metrics import accuracy_score\n",
    "from sklearn.model_selection import train_test_split\n",
    "\n",
    "# Split the data into training and testing sets\n",
    "X_train, X_test, y_train, y_test = train_test_split(df['tweets'], df['encoded_sentiments'], test_size=0.2, random_state=42)\n",
    "\n",
    "# Vectorize the text data\n",
    "tfidf = TfidfVectorizer()\n",
    "X_train_tfidf = tfidf.fit_transform(X_train)\n",
    "X_test_tfidf = tfidf.transform(X_test)\n",
    "\n",
    "# Train the model (using Random Forest)\n",
    "model = BernoulliNB()\n",
    "model.fit(X_train_tfidf, y_train)\n",
    "\n",
    "# Make predictions on the test data\n",
    "y_pred = model.predict(X_test_tfidf)\n",
    "\n",
    "# Calculate the classification accuracy\n",
    "accuracy = accuracy_score(y_test, y_pred)\n",
    "\n",
    "# Calculate precision\n",
    "precision = precision_score(y_test, y_pred)\n",
    "\n",
    "# Calculate recall\n",
    "recall = recall_score(y_test, y_pred)\n",
    "# Calculate F1 score\n",
    "f1 = f1_score(y_test, y_pred)\n",
    "\n",
    "# Calculate negative recall\n",
    "confusion_mat = confusion_matrix(y_test, y_pred)\n",
    "tn, fp, fn, tp = confusion_mat.ravel()\n",
    "negative_recall = tn / (tn + fp)\n",
    "\n",
    "# Print the metrics\n",
    "print(f\"Classification Accuracy: {accuracy * 100}%\")\n",
    "print(f\"Precision: {precision}\")\n",
    "print(f\"Recall: {recall}\")\n",
    "print(f\"Negative Recall: {negative_recall}\")\n",
    "print(f\"F1 Score: {f1}\")\n"
   ]
  },
  {
   "cell_type": "code",
   "execution_count": null,
   "metadata": {
    "colab": {
     "base_uri": "https://localhost:8080/"
    },
    "id": "riWoFYmMFuPk",
    "outputId": "49755866-7267-4690-a351-95aa0fcbb17d"
   },
   "outputs": [
    {
     "name": "stdout",
     "output_type": "stream",
     "text": [
      "Classification Accuracy: 56.99999999999999%\n"
     ]
    }
   ],
   "source": [
    "from sklearn.naive_bayes import BernoulliNB\n",
    "from sklearn.feature_extraction.text import TfidfVectorizer\n",
    "from sklearn.metrics import accuracy_score\n",
    "from sklearn.model_selection import train_test_split\n",
    "\n",
    "# Split the data into training and testing sets\n",
    "X_train, X_test, y_train, y_test = train_test_split(df['tweets'], df['encoded_sentiments'], test_size=0.2, random_state=42)\n",
    "\n",
    "# Vectorize the text data\n",
    "tfidf = TfidfVectorizer()\n",
    "X_train_tfidf = tfidf.fit_transform(X_train)\n",
    "X_test_tfidf = tfidf.transform(X_test)\n",
    "\n",
    "# Train the model (using Bernoulli Naive Bayes)\n",
    "model = BernoulliNB()\n",
    "model.fit(X_train_tfidf, y_train)\n",
    "\n",
    "# Make predictions on the test data\n",
    "y_pred = model.predict(X_test_tfidf)\n",
    "\n",
    "# Calculate the classification accuracy\n",
    "accuracy = accuracy_score(y_test, y_pred)\n",
    "\n",
    "# Print the accuracy\n",
    "print(f\"Classification Accuracy: {accuracy * 100}%\")\n"
   ]
  },
  {
   "cell_type": "code",
   "execution_count": null,
   "metadata": {
    "colab": {
     "base_uri": "https://localhost:8080/",
     "height": 605
    },
    "id": "_tzdqeC7F_hx",
    "outputId": "145262f4-5d18-478c-8ac4-b22270758033"
   },
   "outputs": [
    {
     "name": "stdout",
     "output_type": "stream",
     "text": [
      "              precision    recall  f1-score   support\n",
      "\n",
      "           0       0.62      0.65      0.63        57\n",
      "           1       0.50      0.47      0.48        43\n",
      "\n",
      "    accuracy                           0.57       100\n",
      "   macro avg       0.56      0.56      0.56       100\n",
      "weighted avg       0.57      0.57      0.57       100\n",
      "\n"
     ]
    },
    {
     "data": {
      "image/png": "[encoded data removed]",
      "text/plain": [
       "<Figure size 640x480 with 2 Axes>"
      ]
     },
     "metadata": {},
     "output_type": "display_data"
    }
   ],
   "source": [
    "# Import the required libraries\n",
    "import seaborn as sns\n",
    "import matplotlib.pyplot as plt\n",
    "from sklearn.metrics import classification_report, confusion_matrix\n",
    "\n",
    "# Make predictions on the test data\n",
    "y_pred = model.predict(X_test_tfidf)\n",
    "\n",
    "# Calculate precision, recall and F1-score\n",
    "print(classification_report(y_test, y_pred))\n",
    "\n",
    "# Create the confusion matrix\n",
    "conf_matrix = confusion_matrix(y_test, y_pred)\n",
    "sns.heatmap(conf_matrix, annot=True, cmap='Blues', fmt='g')\n",
    "plt.xlabel('Predicted Labels')\n",
    "plt.ylabel('True Labels')\n",
    "plt.show()"
   ]
  },
  {
   "cell_type": "code",
   "execution_count": null,
   "metadata": {
    "colab": {
     "base_uri": "https://localhost:8080/"
    },
    "id": "SBQnBlknmgat",
    "outputId": "bdcefd6e-91f3-4707-82f3-1088b95d4d09"
   },
   "outputs": [
    {
     "name": "stdout",
     "output_type": "stream",
     "text": [
      "Classification Accuracy: 57.99999999999999%\n",
      "Precision: 0.5185185185185185\n",
      "Recall: 0.32558139534883723\n",
      "Negative Recall: 0.7719298245614035\n",
      "F1 Score: 0.4\n"
     ]
    }
   ],
   "source": [
    "from sklearn.metrics import precision_score, recall_score, confusion_matrix, f1_score\n",
    "from sklearn.linear_model import LogisticRegression\n",
    "from sklearn.ensemble import RandomForestClassifier\n",
    "from sklearn.feature_extraction.text import TfidfVectorizer\n",
    "from sklearn.metrics import accuracy_score\n",
    "from sklearn.model_selection import train_test_split\n",
    "\n",
    "# Split the data into training and testing sets\n",
    "X_train, X_test, y_train, y_test = train_test_split(df['tweets'], df['encoded_sentiments'], test_size=0.2, random_state=42)\n",
    "\n",
    "# Vectorize the text data\n",
    "tfidf = TfidfVectorizer()\n",
    "X_train_tfidf = tfidf.fit_transform(X_train)\n",
    "X_test_tfidf = tfidf.transform(X_test)\n",
    "\n",
    "# Train the model (using Random Forest)\n",
    "model = LogisticRegression(random_state=42)\n",
    "model.fit(X_train_tfidf, y_train)\n",
    "\n",
    "# Make predictions on the test data\n",
    "y_pred = model.predict(X_test_tfidf)\n",
    "\n",
    "# Calculate the classification accuracy\n",
    "accuracy = accuracy_score(y_test, y_pred)\n",
    "\n",
    "# Calculate precision\n",
    "precision = precision_score(y_test, y_pred)\n",
    "\n",
    "# Calculate recall\n",
    "recall = recall_score(y_test, y_pred)\n",
    "# Calculate F1 score\n",
    "f1 = f1_score(y_test, y_pred)\n",
    "\n",
    "# Calculate negative recall\n",
    "confusion_mat = confusion_matrix(y_test, y_pred)\n",
    "tn, fp, fn, tp = confusion_mat.ravel()\n",
    "negative_recall = tn / (tn + fp)\n",
    "\n",
    "# Print the metrics\n",
    "print(f\"Classification Accuracy: {accuracy * 100}%\")\n",
    "print(f\"Precision: {precision}\")\n",
    "print(f\"Recall: {recall}\")\n",
    "print(f\"Negative Recall: {negative_recall}\")\n",
    "print(f\"F1 Score: {f1}\")\n"
   ]
  },
  {
   "cell_type": "code",
   "execution_count": null,
   "metadata": {
    "colab": {
     "base_uri": "https://localhost:8080/"
    },
    "id": "AtSYkFeuGPfd",
    "outputId": "e0b306b4-f209-488b-c85c-935b00ff95c1"
   },
   "outputs": [
    {
     "name": "stdout",
     "output_type": "stream",
     "text": [
      "Classification Accuracy: 57.99999999999999%\n"
     ]
    }
   ],
   "source": [
    "from sklearn.linear_model import LogisticRegression\n",
    "from sklearn.feature_extraction.text import TfidfVectorizer\n",
    "from sklearn.metrics import accuracy_score\n",
    "from sklearn.model_selection import train_test_split\n",
    "\n",
    "# Split the data into training and testing sets\n",
    "X_train, X_test, y_train, y_test = train_test_split(df['tweets'], df['encoded_sentiments'], test_size=0.2, random_state=42)\n",
    "\n",
    "# Vectorize the text data\n",
    "tfidf = TfidfVectorizer()\n",
    "X_train_tfidf = tfidf.fit_transform(X_train)\n",
    "X_test_tfidf = tfidf.transform(X_test)\n",
    "\n",
    "# Train the model (using Logistic Regression)\n",
    "model = LogisticRegression(random_state=42)\n",
    "model.fit(X_train_tfidf, y_train)\n",
    "\n",
    "# Make predictions on the test data\n",
    "y_pred = model.predict(X_test_tfidf)\n",
    "\n",
    "# Calculate the classification accuracy\n",
    "accuracy = accuracy_score(y_test, y_pred)\n",
    "\n",
    "# Print the accuracy\n",
    "print(f\"Classification Accuracy: {accuracy * 100}%\")\n"
   ]
  },
  {
   "cell_type": "code",
   "execution_count": null,
   "metadata": {
    "colab": {
     "base_uri": "https://localhost:8080/",
     "height": 605
    },
    "id": "IC-IJpajGWzh",
    "outputId": "769e99a8-85d5-4446-c197-ae2cd325af5d"
   },
   "outputs": [
    {
     "name": "stdout",
     "output_type": "stream",
     "text": [
      "              precision    recall  f1-score   support\n",
      "\n",
      "           0       0.60      0.77      0.68        57\n",
      "           1       0.52      0.33      0.40        43\n",
      "\n",
      "    accuracy                           0.58       100\n",
      "   macro avg       0.56      0.55      0.54       100\n",
      "weighted avg       0.57      0.58      0.56       100\n",
      "\n"
     ]
    },
    {
     "data": {
      "image/png": "[encoded data removed]",
      "text/plain": [
       "<Figure size 640x480 with 2 Axes>"
      ]
     },
     "metadata": {},
     "output_type": "display_data"
    }
   ],
   "source": [
    "# Import the required libraries\n",
    "import seaborn as sns\n",
    "import matplotlib.pyplot as plt\n",
    "from sklearn.metrics import classification_report, confusion_matrix\n",
    "\n",
    "# Make predictions on the test data\n",
    "y_pred = model.predict(X_test_tfidf)\n",
    "\n",
    "# Calculate precision, recall and F1-score\n",
    "print(classification_report(y_test, y_pred))\n",
    "\n",
    "# Create the confusion matrix\n",
    "conf_matrix = confusion_matrix(y_test, y_pred)\n",
    "sns.heatmap(conf_matrix, annot=True, cmap='Blues', fmt='g')\n",
    "plt.xlabel('Predicted Labels')\n",
    "plt.ylabel('True Labels')\n",
    "plt.show()"
   ]
  },
  {
   "cell_type": "code",
   "execution_count": null,
   "metadata": {
    "colab": {
     "base_uri": "https://localhost:8080/"
    },
    "id": "PiB18aL1nPnh",
    "outputId": "8877119b-fc24-4cd2-8e88-16f2c560d3ce"
   },
   "outputs": [
    {
     "name": "stdout",
     "output_type": "stream",
     "text": [
      "Classification Accuracy: 59.0%\n",
      "Precision: 0.53125\n",
      "Recall: 0.3953488372093023\n",
      "Negative Recall: 0.7368421052631579\n",
      "F1 Score: 0.45333333333333325\n"
     ]
    }
   ],
   "source": [
    "from sklearn.metrics import precision_score, recall_score, confusion_matrix, f1_score\n",
    "from sklearn.naive_bayes import MultinomialNB\n",
    "from sklearn.ensemble import RandomForestClassifier\n",
    "from sklearn.feature_extraction.text import TfidfVectorizer\n",
    "from sklearn.metrics import accuracy_score\n",
    "from sklearn.model_selection import train_test_split\n",
    "\n",
    "# Split the data into training and testing sets\n",
    "X_train, X_test, y_train, y_test = train_test_split(df['tweets'], df['encoded_sentiments'], test_size=0.2, random_state=42)\n",
    "\n",
    "# Vectorize the text data\n",
    "tfidf = TfidfVectorizer()\n",
    "X_train_tfidf = tfidf.fit_transform(X_train)\n",
    "X_test_tfidf = tfidf.transform(X_test)\n",
    "\n",
    "# Train the model (using Random Forest)\n",
    "model = MultinomialNB()\n",
    "model.fit(X_train_tfidf, y_train)\n",
    "\n",
    "# Make predictions on the test data\n",
    "y_pred = model.predict(X_test_tfidf)\n",
    "\n",
    "# Calculate the classification accuracy\n",
    "accuracy = accuracy_score(y_test, y_pred)\n",
    "\n",
    "# Calculate precision\n",
    "precision = precision_score(y_test, y_pred)\n",
    "\n",
    "# Calculate recall\n",
    "recall = recall_score(y_test, y_pred)\n",
    "# Calculate F1 score\n",
    "f1 = f1_score(y_test, y_pred)\n",
    "\n",
    "# Calculate negative recall\n",
    "confusion_mat = confusion_matrix(y_test, y_pred)\n",
    "tn, fp, fn, tp = confusion_mat.ravel()\n",
    "negative_recall = tn / (tn + fp)\n",
    "\n",
    "# Print the metrics\n",
    "print(f\"Classification Accuracy: {accuracy * 100}%\")\n",
    "print(f\"Precision: {precision}\")\n",
    "print(f\"Recall: {recall}\")\n",
    "print(f\"Negative Recall: {negative_recall}\")\n",
    "print(f\"F1 Score: {f1}\")\n"
   ]
  },
  {
   "cell_type": "code",
   "execution_count": null,
   "metadata": {
    "colab": {
     "base_uri": "https://localhost:8080/"
    },
    "id": "689SWfBJGd48",
    "outputId": "e2b1b9b2-0908-4886-95f6-c177e9c2414a"
   },
   "outputs": [
    {
     "name": "stdout",
     "output_type": "stream",
     "text": [
      "Classification Accuracy: 59.0%\n"
     ]
    }
   ],
   "source": [
    "from sklearn.naive_bayes import MultinomialNB\n",
    "from sklearn.feature_extraction.text import TfidfVectorizer\n",
    "from sklearn.metrics import accuracy_score\n",
    "from sklearn.model_selection import train_test_split\n",
    "\n",
    "# Split the data into training and testing sets\n",
    "X_train, X_test, y_train, y_test = train_test_split(df['tweets'], df['encoded_sentiments'], test_size=0.2, random_state=42)\n",
    "\n",
    "# Vectorize the text data\n",
    "tfidf = TfidfVectorizer()\n",
    "X_train_tfidf = tfidf.fit_transform(X_train)\n",
    "X_test_tfidf = tfidf.transform(X_test)\n",
    "\n",
    "# Train the model (using Multinomial Naive Bayes)\n",
    "model = MultinomialNB()\n",
    "model.fit(X_train_tfidf, y_train)\n",
    "\n",
    "# Make predictions on the test data\n",
    "y_pred = model.predict(X_test_tfidf)\n",
    "\n",
    "# Calculate the classification accuracy\n",
    "accuracy = accuracy_score(y_test, y_pred)\n",
    "\n",
    "# Print the accuracy\n",
    "print(f\"Classification Accuracy: {accuracy * 100}%\")\n"
   ]
  },
  {
   "cell_type": "code",
   "execution_count": null,
   "metadata": {
    "colab": {
     "base_uri": "https://localhost:8080/",
     "height": 605
    },
    "id": "5cb12yi5Gqj2",
    "outputId": "c966919e-e7ea-44ff-8967-c9d2c21f4b81"
   },
   "outputs": [
    {
     "name": "stdout",
     "output_type": "stream",
     "text": [
      "              precision    recall  f1-score   support\n",
      "\n",
      "           0       0.62      0.74      0.67        57\n",
      "           1       0.53      0.40      0.45        43\n",
      "\n",
      "    accuracy                           0.59       100\n",
      "   macro avg       0.57      0.57      0.56       100\n",
      "weighted avg       0.58      0.59      0.58       100\n",
      "\n"
     ]
    },
    {
     "data": {
      "image/png": "[encoded data removed]",
      "text/plain": [
       "<Figure size 640x480 with 2 Axes>"
      ]
     },
     "metadata": {},
     "output_type": "display_data"
    }
   ],
   "source": [
    "# Import the required libraries\n",
    "import seaborn as sns\n",
    "import matplotlib.pyplot as plt\n",
    "from sklearn.metrics import classification_report, confusion_matrix\n",
    "\n",
    "# Make predictions on the test data\n",
    "y_pred = model.predict(X_test_tfidf)\n",
    "\n",
    "# Calculate precision, recall and F1-score\n",
    "print(classification_report(y_test, y_pred))\n",
    "\n",
    "# Create the confusion matrix\n",
    "conf_matrix = confusion_matrix(y_test, y_pred)\n",
    "sns.heatmap(conf_matrix, annot=True, cmap='Blues', fmt='g')\n",
    "plt.xlabel('Predicted Labels')\n",
    "plt.ylabel('True Labels')\n",
    "plt.show()"
   ]
  },
  {
   "cell_type": "code",
   "execution_count": null,
   "metadata": {
    "colab": {
     "base_uri": "https://localhost:8080/"
    },
    "id": "ps1LmNk0GxAv",
    "outputId": "a971bfa5-5780-4cca-e6e0-ead1b9b347e7"
   },
   "outputs": [
    {
     "name": "stdout",
     "output_type": "stream",
     "text": [
      "[[43 14]\n",
      " [30 13]]\n",
      "Classification Accuracy: 56.00000000000001%\n"
     ]
    }
   ],
   "source": [
    "# random forest\n",
    "# Import the required libraries\n",
    "from sklearn.ensemble import RandomForestClassifier\n",
    "from sklearn.feature_extraction.text import TfidfVectorizer\n",
    "from sklearn.metrics import confusion_matrix\n",
    "from sklearn.model_selection import train_test_split\n",
    "\n",
    "# Split the data into training and testing sets\n",
    "X_train, X_test, y_train, y_test = train_test_split(df['tweets'], df['encoded_sentiments'], test_size=0.2, random_state=42)\n",
    "\n",
    "# Vectorize the text data\n",
    "tfidf = TfidfVectorizer()\n",
    "X_train_tfidf = tfidf.fit_transform(X_train)\n",
    "X_test_tfidf = tfidf.transform(X_test)\n",
    "\n",
    "# Train the model (using Random Forest)\n",
    "model = RandomForestClassifier(n_estimators=100, random_state=42)\n",
    "model.fit(X_train_tfidf, y_train)\n",
    "\n",
    "# Make predictions on the test data\n",
    "y_pred = model.predict(X_test_tfidf)\n",
    "\n",
    "# Create the confusion matrix\n",
    "conf_matrix = confusion_matrix(y_test, y_pred)\n",
    "print(conf_matrix)\n",
    "# Calculate the classification accuracy\n",
    "accuracy = accuracy_score(y_test, y_pred)\n",
    "\n",
    "# Print the accuracy\n",
    "print(f\"Classification Accuracy: {accuracy * 100}%\")\n"
   ]
  },
  {
   "cell_type": "code",
   "execution_count": null,
   "metadata": {
    "colab": {
     "base_uri": "https://localhost:8080/"
    },
    "id": "9e72nFZ_pCEU",
    "outputId": "0be49774-614f-42db-f9d8-dd1bc97af112"
   },
   "outputs": [
    {
     "name": "stdout",
     "output_type": "stream",
     "text": [
      "[[34 23]\n",
      " [20 23]]\n",
      "Classification Accuracy: 56.99999999999999%\n",
      "F1 Score: 0.5168539325842696\n",
      "Negative Recall: 0.5964912280701754\n",
      "Precision: 0.5\n",
      "Recall: 0.5348837209302325\n"
     ]
    }
   ],
   "source": [
    "from sklearn.linear_model import LogisticRegression\n",
    "from sklearn.feature_extraction.text import CountVectorizer\n",
    "from sklearn.metrics import accuracy_score, f1_score, recall_score, precision_score, confusion_matrix\n",
    "from sklearn.model_selection import train_test_split\n",
    "\n",
    "# Split the data into training and testing sets\n",
    "X_train, X_test, y_train, y_test = train_test_split(df['tweets'], df['encoded_sentiments'], test_size=0.2, random_state=42)\n",
    "\n",
    "# Vectorize the text data\n",
    "count_vectorizer = CountVectorizer()\n",
    "X_train_count = count_vectorizer.fit_transform(X_train)\n",
    "X_test_count = count_vectorizer.transform(X_test)\n",
    "\n",
    "# Train the model (using Logistic Regression)\n",
    "model = LogisticRegression(random_state=42)\n",
    "model.fit(X_train_count, y_train)\n",
    "\n",
    "# Make predictions on the test data\n",
    "y_pred = model.predict(X_test_count)\n",
    "\n",
    "# Create the confusion matrix\n",
    "conf_matrix = confusion_matrix(y_test, y_pred)\n",
    "print(conf_matrix)\n",
    "\n",
    "# Calculate the classification accuracy\n",
    "accuracy = accuracy_score(y_test, y_pred)\n",
    "\n",
    "# Calculate the F1 score\n",
    "f1 = f1_score(y_test, y_pred)\n",
    "\n",
    "# Calculate the negative recall\n",
    "tn, fp, fn, tp = conf_matrix.ravel()\n",
    "negative_recall = tn / (tn + fp)\n",
    "\n",
    "# Calculate the precision\n",
    "precision = precision_score(y_test, y_pred)\n",
    "\n",
    "# Calculate the recall\n",
    "recall = recall_score(y_test, y_pred)\n",
    "\n",
    "# Print the metrics\n",
    "print(f\"Classification Accuracy: {accuracy * 100}%\")\n",
    "print(f\"F1 Score: {f1}\")\n",
    "print(f\"Negative Recall: {negative_recall}\")\n",
    "print(f\"Precision: {precision}\")\n",
    "print(f\"Recall: {recall}\")\n"
   ]
  },
  {
   "cell_type": "code",
   "execution_count": null,
   "metadata": {
    "colab": {
     "base_uri": "https://localhost:8080/"
    },
    "id": "S9ymSTVkHOGJ",
    "outputId": "7174ac8a-b8c4-4cee-b60a-4c3d5bbf9872"
   },
   "outputs": [
    {
     "name": "stdout",
     "output_type": "stream",
     "text": [
      "[[34 23]\n",
      " [20 23]]\n",
      "Classification Accuracy: 56.99999999999999%\n"
     ]
    }
   ],
   "source": [
    "from sklearn.linear_model import LogisticRegression\n",
    "from sklearn.feature_extraction.text import CountVectorizer\n",
    "from sklearn.metrics import confusion_matrix\n",
    "from sklearn.model_selection import train_test_split\n",
    "\n",
    "# Split the data into training and testing sets\n",
    "X_train, X_test, y_train, y_test = train_test_split(df['tweets'], df['encoded_sentiments'], test_size=0.2, random_state=42)\n",
    "\n",
    "# Vectorize the text data\n",
    "count_vectorizer = CountVectorizer()\n",
    "X_train_count = count_vectorizer.fit_transform(X_train)\n",
    "X_test_count = count_vectorizer.transform(X_test)\n",
    "\n",
    "# Train the model (using Logistic Regression)\n",
    "model = LogisticRegression(random_state=42)\n",
    "model.fit(X_train_count, y_train)\n",
    "\n",
    "# Make predictions on the test data\n",
    "y_pred = model.predict(X_test_count)\n",
    "\n",
    "# Create the confusion matrix\n",
    "conf_matrix = confusion_matrix(y_test, y_pred)\n",
    "print(conf_matrix)\n",
    "\n",
    "# Calculate the classification accuracy\n",
    "accuracy = accuracy_score(y_test, y_pred)\n",
    "\n",
    "# Print the accuracy\n",
    "print(f\"Classification Accuracy: {accuracy * 100}%\")\n"
   ]
  },
  {
   "cell_type": "code",
   "execution_count": null,
   "metadata": {
    "colab": {
     "base_uri": "https://localhost:8080/"
    },
    "id": "uBgEPkk0HwSR",
    "outputId": "5d879969-7143-4ae6-be63-3abc75327359"
   },
   "outputs": [
    {
     "name": "stdout",
     "output_type": "stream",
     "text": [
      "[[42 15]\n",
      " [30 13]]\n",
      "Negative Recall (TNR): 0.7368421052631579\n",
      "Overall Recall (Sensitivity): 0.3023255813953488\n"
     ]
    }
   ],
   "source": [
    "from sklearn.ensemble import RandomForestClassifier\n",
    "from sklearn.feature_extraction.text import CountVectorizer\n",
    "from sklearn.metrics import confusion_matrix\n",
    "from sklearn.model_selection import train_test_split\n",
    "\n",
    "# Split the data into training and testing sets\n",
    "X_train, X_test, y_train, y_test = train_test_split(df['tweets'], df['encoded_sentiments'], test_size=0.2, random_state=42)\n",
    "\n",
    "# Vectorize the text data\n",
    "count_vectorizer = CountVectorizer()\n",
    "X_train_count = count_vectorizer.fit_transform(X_train)\n",
    "X_test_count = count_vectorizer.transform(X_test)\n",
    "\n",
    "# Train the model (using Random Forest)\n",
    "model = RandomForestClassifier(random_state=42)\n",
    "model.fit(X_train_count, y_train)\n",
    "\n",
    "# Make predictions on the test data\n",
    "y_pred = model.predict(X_test_count)\n",
    "\n",
    "# Create the confusion matrix\n",
    "conf_matrix = confusion_matrix(y_test, y_pred)\n",
    "print(conf_matrix)\n",
    "\n",
    "# Calculate the negative recall (True Negative Rate)\n",
    "tn, fp, fn, tp = conf_matrix.ravel()\n",
    "negative_recall = tn / (tn + fp)\n",
    "print(f\"Negative Recall (TNR): {negative_recall}\")\n",
    "\n",
    "# Calculate the overall recall (Sensitivity)\n",
    "overall_recall = recall_score(y_test, y_pred)\n",
    "print(f\"Overall Recall (Sensitivity): {overall_recall}\")\n"
   ]
  },
  {
   "cell_type": "code",
   "execution_count": null,
   "metadata": {
    "id": "a5RcTT4IXHmq"
   },
   "outputs": [],
   "source": []
  },
  {
   "cell_type": "code",
   "execution_count": null,
   "metadata": {
    "colab": {
     "base_uri": "https://localhost:8080/"
    },
    "id": "YM959jSRXJ0F",
    "outputId": "b7b1cecf-ac7d-44f7-a0f1-176c103f1c34"
   },
   "outputs": [
    {
     "name": "stdout",
     "output_type": "stream",
     "text": [
      "Epoch 1/10\n",
      "10/10 [==============================] - 1s 43ms/step - loss: 0.6908 - accuracy: 0.5281 - val_loss: 0.6824 - val_accuracy: 0.5750\n",
      "Epoch 2/10\n",
      "10/10 [==============================] - 0s 20ms/step - loss: 0.6416 - accuracy: 0.6250 - val_loss: 0.6752 - val_accuracy: 0.5750\n",
      "Epoch 3/10\n",
      "10/10 [==============================] - 0s 21ms/step - loss: 0.6009 - accuracy: 0.6969 - val_loss: 0.6684 - val_accuracy: 0.5875\n",
      "Epoch 4/10\n",
      "10/10 [==============================] - 0s 20ms/step - loss: 0.5482 - accuracy: 0.9094 - val_loss: 0.6592 - val_accuracy: 0.6250\n",
      "Epoch 5/10\n",
      "10/10 [==============================] - 0s 21ms/step - loss: 0.4757 - accuracy: 0.9875 - val_loss: 0.6443 - val_accuracy: 0.6125\n",
      "Epoch 6/10\n",
      "10/10 [==============================] - 0s 20ms/step - loss: 0.3804 - accuracy: 0.9875 - val_loss: 0.6291 - val_accuracy: 0.6000\n",
      "Epoch 7/10\n",
      "10/10 [==============================] - 0s 20ms/step - loss: 0.2716 - accuracy: 0.9906 - val_loss: 0.6197 - val_accuracy: 0.6250\n",
      "Epoch 8/10\n",
      "10/10 [==============================] - 0s 21ms/step - loss: 0.1711 - accuracy: 0.9937 - val_loss: 0.6181 - val_accuracy: 0.6250\n",
      "Epoch 9/10\n",
      "10/10 [==============================] - 0s 21ms/step - loss: 0.0999 - accuracy: 0.9937 - val_loss: 0.6449 - val_accuracy: 0.6250\n",
      "Epoch 10/10\n",
      "10/10 [==============================] - 0s 20ms/step - loss: 0.0570 - accuracy: 0.9937 - val_loss: 0.6766 - val_accuracy: 0.6375\n",
      "4/4 [==============================] - 0s 4ms/step\n",
      "[[34 23]\n",
      " [19 24]]\n",
      "Classification Accuracy: 57.99999999999999%\n",
      "F1 Score: 0.5333333333333333\n",
      "Negative Recall: 0.5964912280701754\n",
      "Precision: 0.5106382978723404\n",
      "Recall: 0.5581395348837209\n",
      "Validation Loss: [0.6823910474777222, 0.6752156019210815, 0.66844642162323, 0.6592485904693604, 0.6443101167678833, 0.6291179060935974, 0.6196607351303101, 0.6180944442749023, 0.6449053883552551, 0.6766332983970642]\n",
      "Validation Accuracy: [0.574999988079071, 0.574999988079071, 0.5874999761581421, 0.625, 0.612500011920929, 0.6000000238418579, 0.625, 0.625, 0.625, 0.637499988079071]\n",
      "4/4 [==============================] - 0s 7ms/step - loss: 0.7842 - accuracy: 0.5800\n",
      "Test Loss: 0.7841526865959167\n",
      "Test Accuracy: 0.5799999833106995\n"
     ]
    }
   ],
   "source": [
    "import tensorflow as tf\n",
    "import numpy as np\n",
    "from sklearn.feature_extraction.text import CountVectorizer\n",
    "from sklearn.metrics import accuracy_score, f1_score, recall_score, precision_score, confusion_matrix\n",
    "from sklearn.model_selection import train_test_split\n",
    "from tensorflow.keras.preprocessing.text import Tokenizer\n",
    "from tensorflow.keras.preprocessing.sequence import pad_sequences\n",
    "\n",
    "# Split the data into training and testing sets\n",
    "X_train, X_test, y_train, y_test = train_test_split(df['tweets'], df['encoded_sentiments'], test_size=0.2, random_state=42)\n",
    "\n",
    "# Tokenize and pad the text data\n",
    "tokenizer = Tokenizer()\n",
    "tokenizer.fit_on_texts(X_train)\n",
    "X_train_seq = tokenizer.texts_to_sequences(X_train)\n",
    "X_test_seq = tokenizer.texts_to_sequences(X_test)\n",
    "X_train_pad = pad_sequences(X_train_seq)\n",
    "X_test_pad = pad_sequences(X_test_seq, maxlen=X_train_pad.shape[1])\n",
    "\n",
    "# Create the CNN model\n",
    "model = tf.keras.Sequential([\n",
    "    tf.keras.layers.Embedding(input_dim=len(tokenizer.word_index) + 1, output_dim=100, input_length=X_train_pad.shape[1]),\n",
    "    tf.keras.layers.Conv1D(128, 5, activation='relu'),\n",
    "    tf.keras.layers.GlobalMaxPooling1D(),\n",
    "    tf.keras.layers.Dense(1, activation='sigmoid')\n",
    "])\n",
    "\n",
    "# Compile the model\n",
    "model.compile(loss='binary_crossentropy', optimizer='adam', metrics=['accuracy'])\n",
    "\n",
    "# Train the model\n",
    "history = model.fit(X_train_pad, y_train, epochs=10, validation_split=0.2)\n",
    "\n",
    "# Make predictions on the test data\n",
    "y_pred_probs = model.predict(X_test_pad).flatten()\n",
    "y_pred = np.where(y_pred_probs > 0.5, 1, 0)\n",
    "\n",
    "# Create the confusion matrix\n",
    "conf_matrix = confusion_matrix(y_test, y_pred)\n",
    "print(conf_matrix)\n",
    "\n",
    "# Calculate the classification accuracy\n",
    "accuracy = accuracy_score(y_test, y_pred)\n",
    "\n",
    "# Calculate the F1 score\n",
    "f1 = f1_score(y_test, y_pred)\n",
    "\n",
    "# Calculate the negative recall\n",
    "tn, fp, fn, tp = conf_matrix.ravel()\n",
    "negative_recall = tn / (tn + fp)\n",
    "\n",
    "# Calculate the precision\n",
    "precision = precision_score(y_test, y_pred)\n",
    "\n",
    "# Calculate the recall\n",
    "recall = recall_score(y_test, y_pred)\n",
    "\n",
    "# Print the metrics\n",
    "print(f\"Classification Accuracy: {accuracy * 100}%\")\n",
    "print(f\"F1 Score: {f1}\")\n",
    "print(f\"Negative Recall: {negative_recall}\")\n",
    "print(f\"Precision: {precision}\")\n",
    "print(f\"Recall: {recall}\")\n",
    "\n",
    "# Print the validation loss and accuracy history\n",
    "val_loss = history.history['val_loss']\n",
    "val_accuracy = history.history['val_accuracy']\n",
    "print(\"Validation Loss:\", val_loss)\n",
    "print(\"Validation Accuracy:\", val_accuracy)\n",
    "\n",
    "# Print the test loss and accuracy\n",
    "test_loss, test_accuracy = model.evaluate(X_test_pad, y_test)\n",
    "print(\"Test Loss:\", test_loss)\n",
    "print(\"Test Accuracy:\", test_accuracy)\n"
   ]
  },
  {
   "cell_type": "code",
   "execution_count": null,
   "metadata": {
    "colab": {
     "base_uri": "https://localhost:8080/",
     "height": 640
    },
    "id": "RuiyxvDYIZRd",
    "outputId": "46c16c8f-150b-48f5-d2db-be32f381d9f8"
   },
   "outputs": [
    {
     "name": "stdout",
     "output_type": "stream",
     "text": [
      "              precision    recall  f1-score   support\n",
      "\n",
      "           0       0.58      0.74      0.65        57\n",
      "           1       0.46      0.30      0.37        43\n",
      "\n",
      "    accuracy                           0.55       100\n",
      "   macro avg       0.52      0.52      0.51       100\n",
      "weighted avg       0.53      0.55      0.53       100\n",
      "\n",
      "F1-Score: 0.53\n",
      "Recall: 0.55\n"
     ]
    },
    {
     "data": {
      "image/png": "[encoded data removed]",
      "text/plain": [
       "<Figure size 640x480 with 2 Axes>"
      ]
     },
     "metadata": {},
     "output_type": "display_data"
    }
   ],
   "source": [
    "# Import the required libraries\n",
    "import seaborn as sns\n",
    "import matplotlib.pyplot as plt\n",
    "from sklearn.metrics import classification_report, confusion_matrix, f1_score, recall_score\n",
    "\n",
    "# Make predictions on the test data\n",
    "y_pred = model.predict(X_test_count)\n",
    "\n",
    "# Calculate precision, recall, and F1-score\n",
    "print(classification_report(y_test, y_pred))\n",
    "\n",
    "# Calculate F1-score\n",
    "f1 = f1_score(y_test, y_pred, average='weighted')\n",
    "print(f\"F1-Score: {f1:.2f}\")\n",
    "\n",
    "# Calculate recall score\n",
    "recall = recall_score(y_test, y_pred, average='weighted')\n",
    "print(f\"Recall: {recall:.2f}\")\n",
    "\n",
    "# Create the confusion matrix\n",
    "conf_matrix = confusion_matrix(y_test, y_pred)\n",
    "sns.heatmap(conf_matrix, annot=True, cmap='Blues', fmt='g')\n",
    "plt.xlabel('Predicted Labels')\n",
    "plt.ylabel('True Labels')\n",
    "plt.show()"
   ]
  },
  {
   "cell_type": "code",
   "execution_count": null,
   "metadata": {
    "colab": {
     "base_uri": "https://localhost:8080/"
    },
    "id": "6R3xnAr-pl2V",
    "outputId": "a141d17c-8ed1-44b8-e069-6711704c3a00"
   },
   "outputs": [
    {
     "name": "stdout",
     "output_type": "stream",
     "text": [
      "[[42 15]\n",
      " [30 13]]\n",
      "Classification Accuracy: 55.00000000000001%\n",
      "F1 Score: 0.36619718309859156\n",
      "Negative Recall: 0.7368421052631579\n",
      "Precision: 0.4642857142857143\n",
      "Recall: 0.3023255813953488\n"
     ]
    }
   ],
   "source": [
    "from sklearn.ensemble import RandomForestClassifier\n",
    "from sklearn.feature_extraction.text import CountVectorizer\n",
    "from sklearn.metrics import accuracy_score, f1_score, recall_score, precision_score, confusion_matrix\n",
    "from sklearn.model_selection import train_test_split\n",
    "\n",
    "# Split the data into training and testing sets\n",
    "X_train, X_test, y_train, y_test = train_test_split(df['tweets'], df['encoded_sentiments'], test_size=0.2, random_state=42)\n",
    "\n",
    "# Vectorize the text data\n",
    "count_vectorizer = CountVectorizer()\n",
    "X_train_count = count_vectorizer.fit_transform(X_train)\n",
    "X_test_count = count_vectorizer.transform(X_test)\n",
    "\n",
    "# Train the model (using Random Forest)\n",
    "model = RandomForestClassifier(n_estimators=100, random_state=42)\n",
    "model.fit(X_train_count, y_train)\n",
    "\n",
    "# Make predictions on the test data\n",
    "y_pred = model.predict(X_test_count)\n",
    "\n",
    "# Create the confusion matrix\n",
    "conf_matrix = confusion_matrix(y_test, y_pred)\n",
    "print(conf_matrix)\n",
    "\n",
    "# Calculate the classification accuracy\n",
    "accuracy = accuracy_score(y_test, y_pred)\n",
    "\n",
    "# Calculate the F1 score\n",
    "f1 = f1_score(y_test, y_pred)\n",
    "\n",
    "# Calculate the negative recall\n",
    "tn, fp, fn, tp = conf_matrix.ravel()\n",
    "negative_recall = tn / (tn + fp)\n",
    "\n",
    "# Calculate the precision\n",
    "precision = precision_score(y_test, y_pred)\n",
    "\n",
    "# Calculate the recall\n",
    "recall = recall_score(y_test, y_pred)\n",
    "\n",
    "# Print the metrics\n",
    "print(f\"Classification Accuracy: {accuracy * 100}%\")\n",
    "print(f\"F1 Score: {f1}\")\n",
    "print(f\"Negative Recall: {negative_recall}\")\n",
    "print(f\"Precision: {precision}\")\n",
    "print(f\"Recall: {recall}\")\n"
   ]
  },
  {
   "cell_type": "code",
   "execution_count": null,
   "metadata": {
    "colab": {
     "base_uri": "https://localhost:8080/"
    },
    "id": "axO5l5ItIoD0",
    "outputId": "ee8ef0c5-51b8-4977-e4e6-25a72ef6b884"
   },
   "outputs": [
    {
     "name": "stdout",
     "output_type": "stream",
     "text": [
      "Classification Accuracy: 50.0%\n"
     ]
    }
   ],
   "source": [
    "from sklearn.ensemble import RandomForestClassifier\n",
    "from sklearn.feature_extraction.text import TfidfVectorizer\n",
    "from sklearn.metrics import accuracy_score\n",
    "from sklearn.model_selection import train_test_split\n",
    "from sklearn.feature_extraction.text import CountVectorizer\n",
    "# Split the data into training and testing sets\n",
    "X_train, X_test, y_train, y_test = train_test_split(df['tweets'], df['encoded_sentiments'], test_size=0.2, random_state=42)\n",
    "\n",
    "# Vectorize the text data\n",
    "count_vectorizer = CountVectorizer()\n",
    "X_train_count = count_vectorizer.fit_transform(X_train)\n",
    "X_test_count = count_vectorizer.transform(X_test)\n",
    "\n",
    "# Train the model (using Random Forest)\n",
    "model = RandomForestClassifier(n_estimators=100, random_state=42)\n",
    "model.fit(X_train_tfidf, y_train)\n",
    "\n",
    "# Make predictions on the test data\n",
    "y_pred = model.predict(X_test_count)\n",
    "\n",
    "# Calculate the classification accuracy\n",
    "accuracy = accuracy_score(y_test, y_pred)\n",
    "\n",
    "# Print the accuracy\n",
    "print(f\"Classification Accuracy: {accuracy * 100}%\")"
   ]
  },
  {
   "cell_type": "code",
   "execution_count": null,
   "metadata": {
    "colab": {
     "base_uri": "https://localhost:8080/"
    },
    "id": "TX8hsTm4qzUI",
    "outputId": "31ebd71c-d4fd-41a7-a40e-554d39a4c3ca"
   },
   "outputs": [
    {
     "name": "stdout",
     "output_type": "stream",
     "text": [
      "[[36 21]\n",
      " [21 22]]\n",
      "Classification Accuracy: 57.99999999999999%\n",
      "F1 Score: 0.5116279069767442\n",
      "Negative Recall: 0.631578947368421\n",
      "Precision: 0.5116279069767442\n",
      "Recall: 0.5116279069767442\n"
     ]
    }
   ],
   "source": [
    "from sklearn.feature_extraction.text import CountVectorizer\n",
    "from sklearn.metrics import accuracy_score, f1_score, recall_score, precision_score, confusion_matrix\n",
    "from sklearn.model_selection import train_test_split\n",
    "from sklearn.naive_bayes import MultinomialNB\n",
    "\n",
    "# Split the data into training and testing sets\n",
    "X_train, X_test, y_train, y_test = train_test_split(df['tweets'], df['encoded_sentiments'], test_size=0.2, random_state=42)\n",
    "\n",
    "# Vectorize the text data\n",
    "count_vectorizer = CountVectorizer()\n",
    "X_train_count = count_vectorizer.fit_transform(X_train)\n",
    "X_test_count = count_vectorizer.transform(X_test)\n",
    "\n",
    "# Train the model (using Multinomial Naive Bayes)\n",
    "model = MultinomialNB()\n",
    "model.fit(X_train_count, y_train)\n",
    "\n",
    "# Make predictions on the test data\n",
    "y_pred = model.predict(X_test_count)\n",
    "\n",
    "# Create the confusion matrix\n",
    "conf_matrix = confusion_matrix(y_test, y_pred)\n",
    "print(conf_matrix)\n",
    "\n",
    "# Calculate the classification accuracy\n",
    "accuracy = accuracy_score(y_test, y_pred)\n",
    "\n",
    "# Calculate the F1 score\n",
    "f1 = f1_score(y_test, y_pred)\n",
    "\n",
    "# Calculate the negative recall\n",
    "tn, fp, fn, tp = conf_matrix.ravel()\n",
    "negative_recall = tn / (tn + fp)\n",
    "\n",
    "# Calculate the precision\n",
    "precision = precision_score(y_test, y_pred)\n",
    "\n",
    "# Calculate the recall\n",
    "recall = recall_score(y_test, y_pred)\n",
    "\n",
    "# Print the metrics\n",
    "print(f\"Classification Accuracy: {accuracy * 100}%\")\n",
    "print(f\"F1 Score: {f1}\")\n",
    "print(f\"Negative Recall: {negative_recall}\")\n",
    "print(f\"Precision: {precision}\")\n",
    "print(f\"Recall: {recall}\")\n"
   ]
  },
  {
   "cell_type": "code",
   "execution_count": null,
   "metadata": {
    "colab": {
     "base_uri": "https://localhost:8080/"
    },
    "id": "rvxVuqHsI376",
    "outputId": "7b23d707-f216-4624-99e3-a92ebfb17001"
   },
   "outputs": [
    {
     "name": "stdout",
     "output_type": "stream",
     "text": [
      "Classification Accuracy: 59.0%\n"
     ]
    }
   ],
   "source": [
    "from sklearn.naive_bayes import MultinomialNB\n",
    "from sklearn.feature_extraction.text import TfidfVectorizer\n",
    "from sklearn.metrics import accuracy_score\n",
    "from sklearn.model_selection import train_test_split\n",
    "from sklearn.feature_extraction.text import CountVectorizer\n",
    "\n",
    "# Split the data into training and testing sets\n",
    "X_train, X_test, y_train, y_test = train_test_split(df['tweets'], df['encoded_sentiments'], test_size=0.2, random_state=42)\n",
    "\n",
    "# Vectorize the text data\n",
    "count_vectorizer = CountVectorizer()\n",
    "X_train_count = count_vectorizer.fit_transform(X_train)\n",
    "X_test_count = count_vectorizer.transform(X_test)\n",
    "\n",
    "# Train the model (using Multinomial Naive Bayes)\n",
    "model = MultinomialNB()\n",
    "model.fit(X_train_tfidf, y_train)\n",
    "\n",
    "# Make predictions on the test data\n",
    "y_pred = model.predict(X_test_tfidf)\n",
    "\n",
    "# Calculate the classification accuracy\n",
    "accuracy = accuracy_score(y_test, y_pred)\n",
    "\n",
    "# Print the accuracy\n",
    "print(f\"Classification Accuracy: {accuracy * 100}%\")"
   ]
  },
  {
   "cell_type": "code",
   "execution_count": null,
   "metadata": {
    "colab": {
     "base_uri": "https://localhost:8080/",
     "height": 646
    },
    "id": "SIEsA2u0JbdX",
    "outputId": "97a55326-b330-4c90-8bb7-0dc84bf75944"
   },
   "outputs": [
    {
     "name": "stdout",
     "output_type": "stream",
     "text": [
      "              precision    recall  f1-score   support\n",
      "\n",
      "           0       0.62      0.63      0.63        57\n",
      "           1       0.50      0.49      0.49        43\n",
      "\n",
      "    accuracy                           0.57       100\n",
      "   macro avg       0.56      0.56      0.56       100\n",
      "weighted avg       0.57      0.57      0.57       100\n",
      "\n",
      "F1-Score: 0.57\n",
      "Recall: 0.57\n"
     ]
    },
    {
     "data": {
      "image/png": "[encoded data removed]",
      "text/plain": [
       "<Figure size 640x480 with 2 Axes>"
      ]
     },
     "metadata": {},
     "output_type": "display_data"
    }
   ],
   "source": [
    "# Import the required libraries\n",
    "import seaborn as sns\n",
    "import matplotlib.pyplot as plt\n",
    "from sklearn.metrics import classification_report, confusion_matrix, f1_score, recall_score\n",
    "\n",
    "# Make predictions on the test data\n",
    "y_pred = model.predict(X_test_count)\n",
    "\n",
    "# Calculate precision, recall, and F1-score\n",
    "print(classification_report(y_test, y_pred))\n",
    "\n",
    "# Calculate F1-score\n",
    "f1 = f1_score(y_test, y_pred, average='weighted')\n",
    "print(f\"F1-Score: {f1:.2f}\")\n",
    "\n",
    "# Calculate recall score\n",
    "recall = recall_score(y_test, y_pred, average='weighted')\n",
    "print(f\"Recall: {recall:.2f}\")\n",
    "\n",
    "# Create the confusion matrix\n",
    "conf_matrix = confusion_matrix(y_test, y_pred)\n",
    "sns.heatmap(conf_matrix, annot=True, cmap='Blues', fmt='g')\n",
    "plt.xlabel('Predicted Labels')\n",
    "plt.ylabel('True Labels')\n",
    "plt.show()"
   ]
  },
  {
   "cell_type": "code",
   "execution_count": null,
   "metadata": {
    "colab": {
     "base_uri": "https://localhost:8080/"
    },
    "id": "Vs4rNlLurp8Z",
    "outputId": "5f30fe99-8cf6-4949-dfb5-48960a788485"
   },
   "outputs": [
    {
     "name": "stdout",
     "output_type": "stream",
     "text": [
      "[[37 20]\n",
      " [23 20]]\n",
      "Classification Accuracy: 56.99999999999999%\n",
      "F1 Score: 0.4819277108433735\n",
      "Negative Recall: 0.6491228070175439\n",
      "Precision: 0.5\n",
      "Recall: 0.46511627906976744\n"
     ]
    }
   ],
   "source": [
    "from sklearn.feature_extraction.text import CountVectorizer\n",
    "from sklearn.metrics import accuracy_score, f1_score, recall_score, precision_score, confusion_matrix\n",
    "from sklearn.model_selection import train_test_split\n",
    "from sklearn.naive_bayes import BernoulliNB\n",
    "\n",
    "# Split the data into training and testing sets\n",
    "X_train, X_test, y_train, y_test = train_test_split(df['tweets'], df['encoded_sentiments'], test_size=0.2, random_state=42)\n",
    "\n",
    "# Vectorize the text data\n",
    "count_vectorizer = CountVectorizer()\n",
    "X_train_count = count_vectorizer.fit_transform(X_train)\n",
    "X_test_count = count_vectorizer.transform(X_test)\n",
    "\n",
    "# Train the model (using Bernoulli Naive Bayes)\n",
    "model = BernoulliNB()\n",
    "model.fit(X_train_count, y_train)\n",
    "\n",
    "# Make predictions on the test data\n",
    "y_pred = model.predict(X_test_count)\n",
    "\n",
    "# Create the confusion matrix\n",
    "conf_matrix = confusion_matrix(y_test, y_pred)\n",
    "print(conf_matrix)\n",
    "\n",
    "# Calculate the classification accuracy\n",
    "accuracy = accuracy_score(y_test, y_pred)\n",
    "\n",
    "# Calculate the F1 score\n",
    "f1 = f1_score(y_test, y_pred)\n",
    "\n",
    "# Calculate the negative recall\n",
    "tn, fp, fn, tp = conf_matrix.ravel()\n",
    "negative_recall = tn / (tn + fp)\n",
    "\n",
    "# Calculate the precision\n",
    "precision = precision_score(y_test, y_pred)\n",
    "\n",
    "# Calculate the recall\n",
    "recall = recall_score(y_test, y_pred)\n",
    "\n",
    "# Print the metrics\n",
    "print(f\"Classification Accuracy: {accuracy * 100}%\")\n",
    "print(f\"F1 Score: {f1}\")\n",
    "print(f\"Negative Recall: {negative_recall}\")\n",
    "print(f\"Precision: {precision}\")\n",
    "print(f\"Recall: {recall}\")\n"
   ]
  },
  {
   "cell_type": "code",
   "execution_count": null,
   "metadata": {
    "colab": {
     "base_uri": "https://localhost:8080/"
    },
    "id": "Y4rX70VusQ-I",
    "outputId": "f930c656-5be6-41a9-ff7d-bf579e57a3e4"
   },
   "outputs": [
    {
     "name": "stdout",
     "output_type": "stream",
     "text": [
      "[[27 30]\n",
      " [18 25]]\n",
      "Classification Accuracy: 52.0%\n",
      "F1 Score: 0.5102040816326531\n",
      "Negative Recall: 0.47368421052631576\n",
      "Precision: 0.45454545454545453\n",
      "Recall: 0.5813953488372093\n"
     ]
    }
   ],
   "source": [
    "from sklearn.feature_extraction.text import CountVectorizer\n",
    "from sklearn.metrics import accuracy_score, f1_score, recall_score, precision_score, confusion_matrix\n",
    "from sklearn.model_selection import train_test_split\n",
    "from sklearn.svm import SVC\n",
    "\n",
    "# Split the data into training and testing sets\n",
    "X_train, X_test, y_train, y_test = train_test_split(df['tweets'], df['encoded_sentiments'], test_size=0.2, random_state=42)\n",
    "\n",
    "# Vectorize the text data\n",
    "count_vectorizer = CountVectorizer()\n",
    "X_train_count = count_vectorizer.fit_transform(X_train)\n",
    "X_test_count = count_vectorizer.transform(X_test)\n",
    "\n",
    "# Train the model (using Support Vector Machine)\n",
    "model = SVC()\n",
    "model.fit(X_train_count, y_train)\n",
    "\n",
    "# Make predictions on the test data\n",
    "y_pred = model.predict(X_test_count)\n",
    "\n",
    "# Create the confusion matrix\n",
    "conf_matrix = confusion_matrix(y_test, y_pred)\n",
    "print(conf_matrix)\n",
    "\n",
    "# Calculate the classification accuracy\n",
    "accuracy = accuracy_score(y_test, y_pred)\n",
    "\n",
    "# Calculate the F1 score\n",
    "f1 = f1_score(y_test, y_pred)\n",
    "\n",
    "# Calculate the negative recall\n",
    "tn, fp, fn, tp = conf_matrix.ravel()\n",
    "negative_recall = tn / (tn + fp)\n",
    "\n",
    "# Calculate the precision\n",
    "precision = precision_score(y_test, y_pred)\n",
    "\n",
    "# Calculate the recall\n",
    "recall = recall_score(y_test, y_pred)\n",
    "\n",
    "# Print the metrics\n",
    "print(f\"Classification Accuracy: {accuracy * 100}%\")\n",
    "print(f\"F1 Score: {f1}\")\n",
    "print(f\"Negative Recall: {negative_recall}\")\n",
    "print(f\"Precision: {precision}\")\n",
    "print(f\"Recall: {recall}\")\n"
   ]
  },
  {
   "cell_type": "code",
   "execution_count": null,
   "metadata": {
    "colab": {
     "base_uri": "https://localhost:8080/"
    },
    "id": "MGbdCO0Is-XI",
    "outputId": "56e363ef-3b16-4a68-bb1b-45a940e01f80"
   },
   "outputs": [
    {
     "name": "stdout",
     "output_type": "stream",
     "text": [
      "[[36 21]\n",
      " [26 17]]\n",
      "Classification Accuracy: 53.0%\n",
      "F1 Score: 0.41975308641975306\n",
      "Negative Recall: 0.631578947368421\n",
      "Precision: 0.4473684210526316\n",
      "Recall: 0.3953488372093023\n"
     ]
    }
   ],
   "source": [
    "from sklearn.feature_extraction.text import CountVectorizer\n",
    "from sklearn.metrics import accuracy_score, f1_score, recall_score, precision_score, confusion_matrix\n",
    "from sklearn.model_selection import train_test_split\n",
    "from sklearn.tree import DecisionTreeClassifier\n",
    "\n",
    "# Split the data into training and testing sets\n",
    "X_train, X_test, y_train, y_test = train_test_split(df['tweets'], df['encoded_sentiments'], test_size=0.2, random_state=42)\n",
    "\n",
    "# Vectorize the text data\n",
    "count_vectorizer = CountVectorizer()\n",
    "X_train_count = count_vectorizer.fit_transform(X_train)\n",
    "X_test_count = count_vectorizer.transform(X_test)\n",
    "\n",
    "# Train the model (using Decision Tree)\n",
    "model = DecisionTreeClassifier()\n",
    "model.fit(X_train_count, y_train)\n",
    "\n",
    "# Make predictions on the test data\n",
    "y_pred = model.predict(X_test_count)\n",
    "\n",
    "# Create the confusion matrix\n",
    "conf_matrix = confusion_matrix(y_test, y_pred)\n",
    "print(conf_matrix)\n",
    "\n",
    "# Calculate the classification accuracy\n",
    "accuracy = accuracy_score(y_test, y_pred)\n",
    "\n",
    "# Calculate the F1 score\n",
    "f1 = f1_score(y_test, y_pred)\n",
    "\n",
    "# Calculate the negative recall\n",
    "tn, fp, fn, tp = conf_matrix.ravel()\n",
    "negative_recall = tn / (tn + fp)\n",
    "\n",
    "# Calculate the precision\n",
    "precision = precision_score(y_test, y_pred)\n",
    "\n",
    "# Calculate the recall\n",
    "recall = recall_score(y_test, y_pred)\n",
    "\n",
    "# Print the metrics\n",
    "print(f\"Classification Accuracy: {accuracy * 100}%\")\n",
    "print(f\"F1 Score: {f1}\")\n",
    "print(f\"Negative Recall: {negative_recall}\")\n",
    "print(f\"Precision: {precision}\")\n",
    "print(f\"Recall: {recall}\")\n"
   ]
  },
  {
   "cell_type": "code",
   "execution_count": null,
   "metadata": {
    "colab": {
     "base_uri": "https://localhost:8080/"
    },
    "id": "NIwZKAA5J7ky",
    "outputId": "bb76c7e0-9589-4159-91b0-7e204a9b26b0"
   },
   "outputs": [
    {
     "name": "stdout",
     "output_type": "stream",
     "text": [
      "[[36 21]\n",
      " [24 19]]\n",
      "Classification Accuracy: 55.00000000000001%\n"
     ]
    }
   ],
   "source": [
    "from sklearn.tree import DecisionTreeClassifier\n",
    "from sklearn.feature_extraction.text import CountVectorizer\n",
    "from sklearn.metrics import confusion_matrix\n",
    "from sklearn.model_selection import train_test_split\n",
    "\n",
    "# Split the data into training and testing sets\n",
    "X_train, X_test, y_train, y_test = train_test_split(df['tweets'], df['encoded_sentiments'], test_size=0.2, random_state=42)\n",
    "\n",
    "# Vectorize the text data\n",
    "count_vectorizer = CountVectorizer()\n",
    "X_train_count = count_vectorizer.fit_transform(X_train)\n",
    "X_test_count = count_vectorizer.transform(X_test)\n",
    "\n",
    "# Train the model (using Decision Tree)\n",
    "model = DecisionTreeClassifier(random_state=42)\n",
    "model.fit(X_train_count, y_train)\n",
    "\n",
    "# Make predictions on the test data\n",
    "y_pred = model.predict(X_test_count)\n",
    "\n",
    "# Create the confusion matrix\n",
    "conf_matrix = confusion_matrix(y_test, y_pred)\n",
    "print(conf_matrix)\n",
    "# Calculate the classification accuracy\n",
    "accuracy = accuracy_score(y_test, y_pred)\n",
    "\n",
    "# Print the accuracy\n",
    "print(f\"Classification Accuracy: {accuracy * 100}%\")"
   ]
  },
  {
   "cell_type": "code",
   "execution_count": null,
   "metadata": {
    "colab": {
     "base_uri": "https://localhost:8080/"
    },
    "id": "PBHPL5f8KWT9",
    "outputId": "d5da5ee6-38d0-41e8-a57a-8a82f85fa5e2"
   },
   "outputs": [
    {
     "name": "stdout",
     "output_type": "stream",
     "text": [
      "Epoch 1/10\n",
      "10/10 [==============================] - 6s 236ms/step - loss: 0.6941 - accuracy: 0.4906 - val_loss: 0.6895 - val_accuracy: 0.6375\n",
      "Epoch 2/10\n",
      "10/10 [==============================] - 2s 153ms/step - loss: 0.6740 - accuracy: 0.6281 - val_loss: 0.6758 - val_accuracy: 0.6000\n",
      "Epoch 3/10\n",
      "10/10 [==============================] - 1s 94ms/step - loss: 0.5855 - accuracy: 0.7500 - val_loss: 0.6911 - val_accuracy: 0.6375\n",
      "Epoch 4/10\n",
      "10/10 [==============================] - 1s 76ms/step - loss: 0.3850 - accuracy: 0.8750 - val_loss: 0.6636 - val_accuracy: 0.6250\n",
      "Epoch 5/10\n",
      "10/10 [==============================] - 1s 74ms/step - loss: 0.2054 - accuracy: 0.9563 - val_loss: 0.7404 - val_accuracy: 0.5625\n",
      "Epoch 6/10\n",
      "10/10 [==============================] - 1s 133ms/step - loss: 0.0956 - accuracy: 0.9812 - val_loss: 1.0928 - val_accuracy: 0.6125\n",
      "Epoch 7/10\n",
      "10/10 [==============================] - 1s 150ms/step - loss: 0.0629 - accuracy: 0.9875 - val_loss: 0.7898 - val_accuracy: 0.6375\n",
      "Epoch 8/10\n",
      "10/10 [==============================] - 1s 139ms/step - loss: 0.0412 - accuracy: 0.9906 - val_loss: 0.8947 - val_accuracy: 0.6500\n",
      "Epoch 9/10\n",
      "10/10 [==============================] - 1s 74ms/step - loss: 0.0251 - accuracy: 0.9937 - val_loss: 0.9988 - val_accuracy: 0.6250\n",
      "Epoch 10/10\n",
      "10/10 [==============================] - 1s 73ms/step - loss: 0.0333 - accuracy: 0.9937 - val_loss: 1.0738 - val_accuracy: 0.6250\n",
      "4/4 [==============================] - 1s 33ms/step\n",
      "[[29 28]\n",
      " [16 27]]\n",
      "Classification Accuracy: 56.00000000000001%\n",
      "F1 Score: 0.5510204081632653\n",
      "Negative Recall: 0.5087719298245614\n",
      "Precision: 0.4909090909090909\n",
      "Recall: 0.627906976744186\n",
      "Validation Loss: [0.689547598361969, 0.6758145689964294, 0.6910728216171265, 0.6635762453079224, 0.740372896194458, 1.0927708148956299, 0.7897711992263794, 0.8946622610092163, 0.9988280534744263, 1.0738279819488525]\n",
      "Validation Accuracy: [0.637499988079071, 0.6000000238418579, 0.637499988079071, 0.625, 0.5625, 0.612500011920929, 0.637499988079071, 0.6499999761581421, 0.625, 0.625]\n",
      "4/4 [==============================] - 0s 33ms/step - loss: 1.4946 - accuracy: 0.5600\n",
      "Test Loss: 1.494621753692627\n",
      "Test Accuracy: 0.5600000023841858\n"
     ]
    }
   ],
   "source": [
    "import tensorflow as tf\n",
    "import numpy as np\n",
    "from sklearn.feature_extraction.text import CountVectorizer\n",
    "from sklearn.metrics import accuracy_score, f1_score, recall_score, precision_score, confusion_matrix\n",
    "from sklearn.model_selection import train_test_split\n",
    "from tensorflow.keras.preprocessing.text import Tokenizer\n",
    "from tensorflow.keras.preprocessing.sequence import pad_sequences\n",
    "\n",
    "# Split the data into training and testing sets\n",
    "X_train, X_test, y_train, y_test = train_test_split(df['tweets'], df['encoded_sentiments'], test_size=0.2, random_state=42)\n",
    "\n",
    "# Tokenize and pad the text data\n",
    "tokenizer = Tokenizer()\n",
    "tokenizer.fit_on_texts(X_train)\n",
    "X_train_seq = tokenizer.texts_to_sequences(X_train)\n",
    "X_test_seq = tokenizer.texts_to_sequences(X_test)\n",
    "X_train_pad = pad_sequences(X_train_seq)\n",
    "X_test_pad = pad_sequences(X_test_seq, maxlen=X_train_pad.shape[1])\n",
    "\n",
    "# Create the RNN model\n",
    "model = tf.keras.Sequential([\n",
    "    tf.keras.layers.Embedding(input_dim=len(tokenizer.word_index) + 1, output_dim=100, input_length=X_train_pad.shape[1]),\n",
    "    tf.keras.layers.LSTM(128),\n",
    "    tf.keras.layers.Dense(1, activation='sigmoid')\n",
    "])\n",
    "\n",
    "# Compile the model\n",
    "model.compile(loss='binary_crossentropy', optimizer='adam', metrics=['accuracy'])\n",
    "\n",
    "# Train the model\n",
    "history = model.fit(X_train_pad, y_train, epochs=10, validation_split=0.2)\n",
    "\n",
    "# Make predictions on the test data\n",
    "y_pred_probs = model.predict(X_test_pad).flatten()\n",
    "y_pred = np.where(y_pred_probs > 0.5, 1, 0)\n",
    "\n",
    "# Create the confusion matrix\n",
    "conf_matrix = confusion_matrix(y_test, y_pred)\n",
    "print(conf_matrix)\n",
    "\n",
    "# Calculate the classification accuracy\n",
    "accuracy = accuracy_score(y_test, y_pred)\n",
    "\n",
    "# Calculate the F1 score\n",
    "f1 = f1_score(y_test, y_pred)\n",
    "\n",
    "# Calculate the negative recall\n",
    "tn, fp, fn, tp = conf_matrix.ravel()\n",
    "negative_recall = tn / (tn + fp)\n",
    "\n",
    "# Calculate the precision\n",
    "precision = precision_score(y_test, y_pred)\n",
    "\n",
    "# Calculate the recall\n",
    "recall = recall_score(y_test, y_pred)\n",
    "\n",
    "# Print the metrics\n",
    "print(f\"Classification Accuracy: {accuracy * 100}%\")\n",
    "print(f\"F1 Score: {f1}\")\n",
    "print(f\"Negative Recall: {negative_recall}\")\n",
    "print(f\"Precision: {precision}\")\n",
    "print(f\"Recall: {recall}\")\n",
    "\n",
    "# Print the validation loss and accuracy history\n",
    "val_loss = history.history['val_loss']\n",
    "val_accuracy = history.history['val_accuracy']\n",
    "print(\"Validation Loss:\", val_loss)\n",
    "print(\"Validation Accuracy:\", val_accuracy)\n",
    "\n",
    "# Print the test loss and accuracy\n",
    "test_loss, test_accuracy = model.evaluate(X_test_pad, y_test)\n",
    "print(\"Test Loss:\", test_loss)\n",
    "print(\"Test Accuracy:\", test_accuracy)\n"
   ]
  },
  {
   "cell_type": "code",
   "execution_count": null,
   "metadata": {
    "colab": {
     "base_uri": "https://localhost:8080/"
    },
    "id": "e6wwf28bYVE2",
    "outputId": "ca2d1702-d051-4d4f-9a94-2be4527d4428"
   },
   "outputs": [
    {
     "name": "stdout",
     "output_type": "stream",
     "text": [
      "Epoch 1/10\n",
      "10/10 [==============================] - 7s 269ms/step - loss: 0.6917 - accuracy: 0.5219 - val_loss: 0.6853 - val_accuracy: 0.5750\n",
      "Epoch 2/10\n",
      "10/10 [==============================] - 1s 124ms/step - loss: 0.6631 - accuracy: 0.6156 - val_loss: 0.6724 - val_accuracy: 0.5750\n",
      "Epoch 3/10\n",
      "10/10 [==============================] - 1s 134ms/step - loss: 0.5372 - accuracy: 0.7781 - val_loss: 0.6706 - val_accuracy: 0.6000\n",
      "Epoch 4/10\n",
      "10/10 [==============================] - 2s 163ms/step - loss: 0.3401 - accuracy: 0.8969 - val_loss: 0.6959 - val_accuracy: 0.5750\n",
      "Epoch 5/10\n",
      "10/10 [==============================] - 2s 155ms/step - loss: 0.2849 - accuracy: 0.9219 - val_loss: 0.6400 - val_accuracy: 0.6625\n",
      "Epoch 6/10\n",
      "10/10 [==============================] - 1s 149ms/step - loss: 0.3187 - accuracy: 0.9031 - val_loss: 0.6648 - val_accuracy: 0.6250\n",
      "Epoch 7/10\n",
      "10/10 [==============================] - 2s 166ms/step - loss: 0.1851 - accuracy: 0.9750 - val_loss: 0.9560 - val_accuracy: 0.6250\n",
      "Epoch 8/10\n",
      "10/10 [==============================] - 1s 83ms/step - loss: 0.1273 - accuracy: 0.9812 - val_loss: 0.8961 - val_accuracy: 0.6500\n",
      "Epoch 9/10\n",
      "10/10 [==============================] - 1s 66ms/step - loss: 0.0875 - accuracy: 0.9937 - val_loss: 0.9297 - val_accuracy: 0.6625\n",
      "Epoch 10/10\n",
      "10/10 [==============================] - 1s 68ms/step - loss: 0.0620 - accuracy: 0.9969 - val_loss: 1.2230 - val_accuracy: 0.6500\n",
      "4/4 [==============================] - 1s 30ms/step\n",
      "[[33 24]\n",
      " [19 24]]\n",
      "Classification Accuracy: 56.99999999999999%\n",
      "F1 Score: 0.5274725274725274\n",
      "Negative Recall: 0.5789473684210527\n",
      "Precision: 0.5\n",
      "Recall: 0.5581395348837209\n",
      "Validation Loss: [0.685256838798523, 0.6724217534065247, 0.6705980896949768, 0.6959048509597778, 0.6399729251861572, 0.6647868156433105, 0.9559629559516907, 0.8961471319198608, 0.9297300577163696, 1.2230488061904907]\n",
      "Validation Accuracy: [0.574999988079071, 0.574999988079071, 0.6000000238418579, 0.574999988079071, 0.6625000238418579, 0.625, 0.625, 0.6499999761581421, 0.6625000238418579, 0.6499999761581421]\n",
      "4/4 [==============================] - 0s 32ms/step - loss: 1.5574 - accuracy: 0.5700\n",
      "Test Loss: 1.5573747158050537\n",
      "Test Accuracy: 0.5699999928474426\n"
     ]
    }
   ],
   "source": [
    "import tensorflow as tf\n",
    "import numpy as np\n",
    "from sklearn.feature_extraction.text import CountVectorizer\n",
    "from sklearn.metrics import accuracy_score, f1_score, recall_score, precision_score, confusion_matrix\n",
    "from sklearn.model_selection import train_test_split\n",
    "from tensorflow.keras.preprocessing.text import Tokenizer\n",
    "from tensorflow.keras.preprocessing.sequence import pad_sequences\n",
    "\n",
    "# Split the data into training and testing sets\n",
    "X_train, X_test, y_train, y_test = train_test_split(df['tweets'], df['encoded_sentiments'], test_size=0.2, random_state=42)\n",
    "\n",
    "# Tokenize and pad the text data\n",
    "tokenizer = Tokenizer()\n",
    "tokenizer.fit_on_texts(X_train)\n",
    "X_train_seq = tokenizer.texts_to_sequences(X_train)\n",
    "X_test_seq = tokenizer.texts_to_sequences(X_test)\n",
    "X_train_pad = pad_sequences(X_train_seq)\n",
    "X_test_pad = pad_sequences(X_test_seq, maxlen=X_train_pad.shape[1])\n",
    "\n",
    "# Create the LSTM model\n",
    "model = tf.keras.Sequential([\n",
    "    tf.keras.layers.Embedding(input_dim=len(tokenizer.word_index) + 1, output_dim=100, input_length=X_train_pad.shape[1]),\n",
    "    tf.keras.layers.LSTM(128),\n",
    "    tf.keras.layers.Dense(1, activation='sigmoid')\n",
    "])\n",
    "\n",
    "# Compile the model\n",
    "model.compile(loss='binary_crossentropy', optimizer='adam', metrics=['accuracy'])\n",
    "\n",
    "# Train the model\n",
    "history = model.fit(X_train_pad, y_train, epochs=10, validation_split=0.2)\n",
    "\n",
    "# Make predictions on the test data\n",
    "y_pred_probs = model.predict(X_test_pad).flatten()\n",
    "y_pred = np.where(y_pred_probs > 0.5, 1, 0)\n",
    "\n",
    "# Create the confusion matrix\n",
    "conf_matrix = confusion_matrix(y_test, y_pred)\n",
    "print(conf_matrix)\n",
    "\n",
    "# Calculate the classification accuracy\n",
    "accuracy = accuracy_score(y_test, y_pred)\n",
    "\n",
    "# Calculate the F1 score\n",
    "f1 = f1_score(y_test, y_pred)\n",
    "\n",
    "# Calculate the negative recall\n",
    "tn, fp, fn, tp = conf_matrix.ravel()\n",
    "negative_recall = tn / (tn + fp)\n",
    "\n",
    "# Calculate the precision\n",
    "precision = precision_score(y_test, y_pred)\n",
    "\n",
    "# Calculate the recall\n",
    "recall = recall_score(y_test, y_pred)\n",
    "\n",
    "# Print the metrics\n",
    "print(f\"Classification Accuracy: {accuracy * 100}%\")\n",
    "print(f\"F1 Score: {f1}\")\n",
    "print(f\"Negative Recall: {negative_recall}\")\n",
    "print(f\"Precision: {precision}\")\n",
    "print(f\"Recall: {recall}\")\n",
    "\n",
    "# Print the validation loss and accuracy history\n",
    "val_loss = history.history['val_loss']\n",
    "val_accuracy = history.history['val_accuracy']\n",
    "print(\"Validation Loss:\", val_loss)\n",
    "print(\"Validation Accuracy:\", val_accuracy)\n",
    "\n",
    "# Print the test loss and accuracy\n",
    "test_loss, test_accuracy = model.evaluate(X_test_pad, y_test)\n",
    "print(\"Test Loss:\", test_loss)\n",
    "print(\"Test Accuracy:\", test_accuracy)\n"
   ]
  }
 ],
 "metadata": {
  "colab": {
   "provenance": []
  },
  "kernelspec": {
   "display_name": "Python 3 (ipykernel)",
   "language": "python",
   "name": "python3"
  },
  "language_info": {
   "codemirror_mode": {
    "name": "ipython",
    "version": 3
   },
   "file_extension": ".py",
   "mimetype": "text/x-python",
   "name": "python",
   "nbconvert_exporter": "python",
   "pygments_lexer": "ipython3",
   "version": "3.12.3"
  }
 },
 "nbformat": 4,
 "nbformat_minor": 4
}
